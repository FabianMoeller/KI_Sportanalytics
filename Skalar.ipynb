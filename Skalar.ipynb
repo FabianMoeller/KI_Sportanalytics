{
 "cells": [
  {
   "cell_type": "code",
   "execution_count": 32,
   "metadata": {},
   "outputs": [],
   "source": [
    "import torch\n",
    "import torch.nn as nn\n",
    "import torch.nn.functional as F\n",
    "import torch.optim as optim\n",
    "from torch.utils.data import Dataset, DataLoader\n",
    "import pandas as pd\n",
    "import numpy as np\n",
    "import matplotlib.pylab as plt"
   ]
  },
  {
   "cell_type": "markdown",
   "metadata": {},
   "source": [
    "# Konfiguration neuronale Netze"
   ]
  },
  {
   "cell_type": "code",
   "execution_count": 2,
   "metadata": {},
   "outputs": [],
   "source": [
    "class NeuronalNetScalar(nn.Module):\n",
    "        def __init__(self):\n",
    "            super(NeuronalNetScalar, self).__init__()\n",
    "            self.lin1 = nn.Linear(8,15)\n",
    "            self.lin2 = nn.Linear(15,15)\n",
    "            self.lin3 = nn.Linear(15,1)\n",
    "        def forward(self,x):\n",
    "            x = self.lin1(x)\n",
    "            x = F.relu(x)\n",
    "            x = F.relu(self.lin2(x))\n",
    "            x = F.relu(self.lin3(x))\n",
    "            return x"
   ]
  },
  {
   "cell_type": "markdown",
   "metadata": {},
   "source": [
    "# Datenbeschaffung"
   ]
  },
  {
   "cell_type": "code",
   "execution_count": 3,
   "metadata": {},
   "outputs": [],
   "source": [
    "#Die Tore der einzelnen Mannschaften pro Spiel aus den matches in eine Liste schreiben\n",
    "def inputValuesScalar(gameList, df_stats,inputList):\n",
    "    for match in gameList:\n",
    "        homeTeam = match.iat[0,0]\n",
    "        awayTeam = match.iat[0,1]\n",
    "        input_values= df_stats[df_stats['HomeTeam']==homeTeam]\n",
    "        input_values= input_values[input_values['AwayTeam']==awayTeam]\n",
    "        input_values= input_values.reset_index(drop=True)\n",
    "        input_values = input_values[:-1]\n",
    "        inputList.append(input_values.loc[:,['FTHG','FTAG']])"
   ]
  },
  {
   "cell_type": "code",
   "execution_count": 4,
   "metadata": {},
   "outputs": [],
   "source": [
    "#Methode um aus einer Liste eine Tensorliste mit Floatwerten generieren\n",
    "def dfToTensor(dfList, tensorList):\n",
    "    for df in dfList:\n",
    "        tensor = torch.FloatTensor(df.values).view(8)\n",
    "        tensorList.append(tensor)"
   ]
  },
  {
   "cell_type": "code",
   "execution_count": 5,
   "metadata": {},
   "outputs": [],
   "source": [
    "def dfToTensor_target(dfList, tensorList):\n",
    "    for df in dfList:\n",
    "        tensor = torch.FloatTensor(df).view(1)\n",
    "        tensorList.append(tensor)"
   ]
  },
  {
   "cell_type": "markdown",
   "metadata": {},
   "source": [
    "# Output Scalar"
   ]
  },
  {
   "cell_type": "code",
   "execution_count": 6,
   "metadata": {},
   "outputs": [],
   "source": [
    "#Outputvalues generieren, indem bei Heimsieg 0, bei unentschieden 1 und bei Auswärtssieg 2 gesetzt wird\n",
    "def targetValuesScalar(gameList, df_stats,targetList):\n",
    "    for match in gameList:\n",
    "        homeTeam = match.iat[0,0]\n",
    "        awayTeam = match.iat[0,1]\n",
    "        target_values= df_stats[df_stats['HomeTeam']==homeTeam]\n",
    "        target_values= target_values[target_values['AwayTeam']==awayTeam]\n",
    "        target_values= target_values.reset_index(drop=True)\n",
    "        target_values = target_values.tail(1)\n",
    "        target_values = target_values.loc[:,['FTHG','FTAG']]\n",
    "        homegoals = target_values.loc[:,['FTHG']].iloc[0]['FTHG']\n",
    "        awaygoals = target_values.loc[:,['FTAG']].iloc[0]['FTAG']\n",
    "        if homegoals > awaygoals:\n",
    "            df_out=[0.]\n",
    "        if homegoals == awaygoals:\n",
    "            df_out=[1.]\n",
    "        if homegoals < awaygoals:\n",
    "            df_out=[2.]\n",
    "        targetList.append(df_out)"
   ]
  },
  {
   "cell_type": "markdown",
   "metadata": {},
   "source": [
    "# Input Scalar"
   ]
  },
  {
   "cell_type": "code",
   "execution_count": 7,
   "metadata": {},
   "outputs": [],
   "source": [
    "#Pfade Fabian\n",
    "#/Users/fabian-maltemoller/Developer/Ki/KI_Daten/09_10-13_14.csv\n",
    "#/Users/fabian-maltemoller/Developer/Ki/KI_Daten/10_11-14_15.csv\n",
    "#/Users/fabian-maltemoller/Developer/Ki/KI_Daten/11_12-15_16.csv\n",
    "#/Users/fabian-maltemoller/Developer/Ki/KI_Daten/12_13-16_17.csv\n",
    "#/Users/fabian-maltemoller/Developer/Ki/KI_Daten/13_14-17_18.csv\n",
    "#/Users/fabian-maltemoller/Developer/Ki/KI_Daten/14_15-18_19.csv\n",
    "\n",
    "#C:\\\\Users\\\\dusti\\\\iCloudDrive\\\\Studium WI\\\\WS2019\\\\KI\\\\csvData\\\\09_10-13_14.csv\n",
    "#C:\\\\Users\\\\dusti\\\\iCloudDrive\\\\Studium WI\\\\WS2019\\\\KI\\\\csvData\\\\10_11-14_15.csv\n",
    "#C:\\\\Users\\\\dusti\\\\iCloudDrive\\\\Studium WI\\\\WS2019\\\\KI\\\\csvData\\\\11_12-15_16.csv\n",
    "#C:\\\\Users\\\\dusti\\\\iCloudDrive\\\\Studium WI\\\\WS2019\\\\KI\\\\csvData\\\\12_13-16_17.csv\n",
    "#C:\\\\Users\\\\dusti\\\\iCloudDrive\\\\Studium WI\\\\WS2019\\\\KI\\\\csvData\\\\13_14-17_18.csv\n",
    "#C:\\\\Users\\\\dusti\\\\iCloudDrive\\\\Studium WI\\\\WS2019\\\\KI\\\\csvData\\\\14_15-18_19.csv"
   ]
  },
  {
   "cell_type": "code",
   "execution_count": 8,
   "metadata": {},
   "outputs": [],
   "source": [
    "def scalarInputTarget(path,inputListe,targetListe):\n",
    "    topTeams = pd.read_csv(path, sep=';')\n",
    "    df = pd.DataFrame(topTeams, columns = ['Date','HomeTeam','AwayTeam','FTHG','FTAG','FTR'])\n",
    "    df_names = df.drop_duplicates(['HomeTeam','AwayTeam'],keep = 'last')\n",
    "    df_names = df_names[['HomeTeam','AwayTeam']]\n",
    "    gameListe = []\n",
    "    for row in df_names.itertuples():\n",
    "        data = [[row.HomeTeam,row.AwayTeam]]\n",
    "        gameListe.append(pd.DataFrame(data))\n",
    "    inputValuesScalar(gameListe, df,inputListe)\n",
    "    targetValuesScalar(gameListe,df,targetListe)"
   ]
  },
  {
   "cell_type": "code",
   "execution_count": 9,
   "metadata": {},
   "outputs": [],
   "source": [
    "inputList_0910_1314_Scalar = []\n",
    "targetList_0910_1314_Scalar = []\n",
    "scalarInputTarget('/Users/fabian-maltemoller/Developer/Ki/KI_Daten/09_10-13_14.csv',inputList_0910_1314_Scalar,targetList_0910_1314_Scalar)\n",
    "#new_inputs('C:\\\\Users\\\\dusti\\\\iCloudDrive\\\\Studium WI\\\\WS2019\\\\KI\\\\csvData\\\\09_10-13_14.csv',inputList_0910_1314,targetList_0910_1314)\n",
    "\n",
    "inputList_1011_1415_Scalar = []\n",
    "targetList_1011_1415_Scalar = []\n",
    "scalarInputTarget('/Users/fabian-maltemoller/Developer/Ki/KI_Daten/10_11-14_15.csv',inputList_1011_1415_Scalar,targetList_1011_1415_Scalar)\n",
    "#new_inputs('C:\\\\Users\\\\dusti\\\\iCloudDrive\\\\Studium WI\\\\WS2019\\\\KI\\\\csvData\\\\10_11-14_15.csv',inputList_1011_1415,targetList_1011_1415)\n",
    "\n",
    "inputList_1112_1516_Scalar = []\n",
    "targetList_1112_1516_Scalar = []\n",
    "scalarInputTarget('/Users/fabian-maltemoller/Developer/Ki/KI_Daten/11_12-15_16.csv',inputList_1112_1516_Scalar,targetList_1112_1516_Scalar)\n",
    "#new_inputs('C:\\\\Users\\\\dusti\\\\iCloudDrive\\\\Studium WI\\\\WS2019\\\\KI\\\\csvData\\\\11_12-15_16.csv',inputList_1112_1516,targetList_1112_1516)\n",
    "\n",
    "inputList_1213_1617_Scalar = []\n",
    "targetList_1213_1617_Scalar = []\n",
    "scalarInputTarget('/Users/fabian-maltemoller/Developer/Ki/KI_Daten/12_13-16_17.csv',inputList_1213_1617_Scalar,targetList_1213_1617_Scalar)\n",
    "#new_inputs('C:\\\\Users\\\\dusti\\\\iCloudDrive\\\\Studium WI\\\\WS2019\\\\KI\\\\csvData\\\\12_13-16_17.csv',inputList_1213_1617,targetList_1213_1617)\n",
    "\n",
    "inputList_1314_1718_Scalar = []\n",
    "targetList_1314_1718_Scalar = []\n",
    "scalarInputTarget('/Users/fabian-maltemoller/Developer/Ki/KI_Daten/13_14-17_18.csv',inputList_1314_1718_Scalar,targetList_1314_1718_Scalar)\n",
    "#new_inputs('C:\\\\Users\\\\dusti\\\\iCloudDrive\\\\Studium WI\\\\WS2019\\\\KI\\\\csvData\\\\13_14-17_18.csv',inputList_1314_1718,targetList_1314_1718)\n",
    "\n",
    "inputList_1415_1819_Scalar = []\n",
    "targetList_1415_1819_Scalar = []\n",
    "scalarInputTarget('/Users/fabian-maltemoller/Developer/Ki/KI_Daten/14_15-18_19.csv',inputList_1415_1819_Scalar,targetList_1415_1819_Scalar)\n",
    "#new_inputs('C:\\\\Users\\\\dusti\\\\iCloudDrive\\\\Studium WI\\\\WS2019\\\\KI\\\\csvData\\\\14_15-18_19.csv',inputList_1415_1819,targetList_1415_1819)"
   ]
  },
  {
   "cell_type": "code",
   "execution_count": 10,
   "metadata": {},
   "outputs": [
    {
     "name": "stdout",
     "output_type": "stream",
     "text": [
      "11\n",
      "14\n",
      "32\n",
      "46\n",
      "54\n",
      "63\n",
      "85\n",
      "92\n",
      "97\n",
      "109\n",
      "116\n"
     ]
    }
   ],
   "source": [
    "#In Liste inputList_1415_1819_Scalar waren leere Dataframes drin, die werden in diesem Zwischenschritt rausgelöscht\n",
    "for i in range(len(inputList_1415_1819_Scalar)):\n",
    "    if inputList_1415_1819_Scalar[i].empty:\n",
    "        print(i)"
   ]
  },
  {
   "cell_type": "code",
   "execution_count": 11,
   "metadata": {},
   "outputs": [
    {
     "name": "stdout",
     "output_type": "stream",
     "text": [
      "110\n",
      "110\n"
     ]
    }
   ],
   "source": [
    "inputList_1415_1819_Scalar.pop(11)\n",
    "inputList_1415_1819_Scalar.pop(13)\n",
    "inputList_1415_1819_Scalar.pop(30)\n",
    "inputList_1415_1819_Scalar.pop(43)\n",
    "inputList_1415_1819_Scalar.pop(50)\n",
    "inputList_1415_1819_Scalar.pop(58)\n",
    "inputList_1415_1819_Scalar.pop(79)\n",
    "inputList_1415_1819_Scalar.pop(85)\n",
    "inputList_1415_1819_Scalar.pop(89)\n",
    "inputList_1415_1819_Scalar.pop(100)\n",
    "inputList_1415_1819_Scalar.pop(106)\n",
    "\n",
    "targetList_1415_1819_Scalar.pop(11)\n",
    "targetList_1415_1819_Scalar.pop(13)\n",
    "targetList_1415_1819_Scalar.pop(30)\n",
    "targetList_1415_1819_Scalar.pop(43)\n",
    "targetList_1415_1819_Scalar.pop(50)\n",
    "targetList_1415_1819_Scalar.pop(58)\n",
    "targetList_1415_1819_Scalar.pop(79)\n",
    "targetList_1415_1819_Scalar.pop(85)\n",
    "targetList_1415_1819_Scalar.pop(89)\n",
    "targetList_1415_1819_Scalar.pop(100)\n",
    "targetList_1415_1819_Scalar.pop(106)\n",
    "\n",
    "print(len(inputList_1415_1819_Scalar))\n",
    "print(len(targetList_1415_1819_Scalar))"
   ]
  },
  {
   "cell_type": "code",
   "execution_count": 12,
   "metadata": {},
   "outputs": [],
   "source": [
    "train_input_tensor = []\n",
    "dfToTensor(inputList_0910_1314_Scalar,train_input_tensor)\n",
    "dfToTensor(inputList_1011_1415_Scalar,train_input_tensor)\n",
    "dfToTensor(inputList_1112_1516_Scalar,train_input_tensor)\n",
    "dfToTensor(inputList_1213_1617_Scalar,train_input_tensor)\n",
    "dfToTensor(inputList_1314_1718_Scalar,train_input_tensor)\n",
    "\n",
    "test_input_tensor = []\n",
    "dfToTensor(inputList_1415_1819_Scalar,test_input_tensor)"
   ]
  },
  {
   "cell_type": "code",
   "execution_count": 13,
   "metadata": {},
   "outputs": [],
   "source": [
    "train_target_tensor = []\n",
    "dfToTensor_target(targetList_0910_1314_Scalar,train_target_tensor)\n",
    "dfToTensor_target(targetList_1011_1415_Scalar,train_target_tensor)\n",
    "dfToTensor_target(targetList_1112_1516_Scalar,train_target_tensor)\n",
    "dfToTensor_target(targetList_1213_1617_Scalar,train_target_tensor)\n",
    "dfToTensor_target(targetList_1314_1718_Scalar,train_target_tensor)\n",
    "\n",
    "test_target_tensor = []\n",
    "dfToTensor_target(targetList_1415_1819_Scalar,test_target_tensor)"
   ]
  },
  {
   "cell_type": "code",
   "execution_count": 37,
   "metadata": {},
   "outputs": [
    {
     "name": "stdout",
     "output_type": "stream",
     "text": [
      "tensor([4., 0., 2., 0., 0., 0., 0., 0.])\n",
      "tensor([0.])\n",
      "tensor([2., 2., 2., 1., 2., 2., 0., 3.])\n",
      "tensor([2.])\n"
     ]
    }
   ],
   "source": [
    "print(train_input_tensor[1])\n",
    "print(train_target_tensor[1])\n",
    "print(test_input_tensor[1])\n",
    "print(test_target_tensor[1])"
   ]
  },
  {
   "cell_type": "markdown",
   "metadata": {},
   "source": [
    "# Training und Evaluation"
   ]
  },
  {
   "cell_type": "code",
   "execution_count": 38,
   "metadata": {},
   "outputs": [],
   "source": [
    "class Evaluation():\n",
    "    def __init__(self, net,n_epoch):\n",
    "        self.net = net\n",
    "        self.n_epoch = n_epoch\n",
    "        self.criterion = nn.L1Loss()\n",
    "        #self.criterion = nn.MSELoss()\n",
    "        self.optimizer = torch.optim.SGD(self.net.parameters(), lr = 0.001, momentum = 0.9)\n",
    "        #self.optimizer = torch.optim.Adam(self.net.parameters(), lr = 0.001)\n",
    "        \n",
    "    def train(self, input_vector, target_vector):\n",
    "        for epoch in range(self.n_epoch):\n",
    "            running_loss = 0.0\n",
    "            for i in range(len(input_vector)):\n",
    "                self.optimizer.zero_grad()\n",
    "                outputs = self.net(input_vector[i])\n",
    "                loss = self.criterion(outputs, target_vector[i])\n",
    "                loss.backward()\n",
    "                self.optimizer.step()\n",
    "                #running_loss += loss.item()\n",
    "                #if i % 710 == 709:\n",
    "                    #print(running_loss/ 710)\n",
    "        #print('Finished Training')\n",
    "    \n",
    "    def test(self, input_vector, target_vector):\n",
    "        correct = 0\n",
    "        total = 0\n",
    "        with torch.no_grad():\n",
    "            for i in range(len(input_vector)):\n",
    "                outputs = self.net(input_vector[i])\n",
    "                if outputs < (2/3):\n",
    "                    predicted = 0\n",
    "                elif outputs < (1+1/3):\n",
    "                    predicted = 1\n",
    "                else:\n",
    "                    predicted = 2\n",
    "                if predicted == target_vector[i].sum().item():\n",
    "                    correct = correct +1\n",
    "        accuracy = correct/len(input_vector)\n",
    "        return(accuracy)"
   ]
  },
  {
   "cell_type": "code",
   "execution_count": 39,
   "metadata": {},
   "outputs": [],
   "source": [
    "train_accuracy = {}\n",
    "test_accuracy = {}\n",
    "for n_epoch in [1,2,3,4,5,6,7,8,9,10]:\n",
    "    net = Evaluation(NeuronalNetScalar(),n_epoch)\n",
    "    net.train(train_input_tensor,train_target_tensor)\n",
    "    test_accuracy[n_epoch] = net.test(test_input_tensor,test_target_tensor)\n",
    "    train_accuracy[n_epoch] = net.test(train_input_tensor,train_target_tensor)"
   ]
  },
  {
   "cell_type": "code",
   "execution_count": 40,
   "metadata": {},
   "outputs": [
    {
     "data": {
      "image/png": "[encoded data removed]",
      "text/plain": [
       "<Figure size 432x288 with 1 Axes>"
      ]
     },
     "metadata": {
      "needs_background": "light"
     },
     "output_type": "display_data"
    }
   ],
   "source": [
    "test_tuple = sorted(test_accuracy.items())\n",
    "train_tuple = sorted(train_accuracy.items())\n",
    "\n",
    "test_x, test_y = zip(*test_tuple)\n",
    "test_y = [1-val for val in test_y]\n",
    "train_x, train_y = zip(*train_tuple)\n",
    "train_y = [1-val for val in train_y]\n",
    "\n",
    "test_line= plt.plot(test_x, test_y, label='Testdaten')\n",
    "trainings_line= plt.plot(train_x , train_y, label=\"Trainingsdaten\")\n",
    "\n",
    "plt.legend()\n",
    "plt.xlabel(\"Epochenanzahl\")\n",
    "plt.ylabel(\"Fehler\")\n",
    "plt.show()"
   ]
  },
  {
   "cell_type": "code",
   "execution_count": null,
   "metadata": {},
   "outputs": [],
   "source": []
  }
 ],
 "metadata": {
  "kernelspec": {
   "display_name": "Python 3",
   "language": "python",
   "name": "python3"
  },
  "language_info": {
   "codemirror_mode": {
    "name": "ipython",
    "version": 3
   },
   "file_extension": ".py",
   "mimetype": "text/x-python",
   "name": "python",
   "nbconvert_exporter": "python",
   "pygments_lexer": "ipython3",
   "version": "3.7.4"
  }
 },
 "nbformat": 4,
 "nbformat_minor": 4
}
