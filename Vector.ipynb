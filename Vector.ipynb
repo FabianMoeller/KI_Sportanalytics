{
 "cells": [
  {
   "cell_type": "code",
   "execution_count": 4,
   "metadata": {},
   "outputs": [],
   "source": [
    "import torch\n",
    "import torch.nn as nn\n",
    "import torch.nn.functional as F\n",
    "import torch.optim as optim\n",
    "from torch.utils.data import Dataset, DataLoader\n",
    "import pandas as pd\n",
    "import numpy as np\n",
    "from sklearn.model_selection import train_test_split"
   ]
  },
  {
   "cell_type": "code",
   "execution_count": 5,
   "metadata": {},
   "outputs": [],
   "source": [
    "class NeuronalNetVector(nn.Module):\n",
    "        def __init__(self):\n",
    "            super(NeuronalNetVector, self).__init__()\n",
    "            self.lin1 = nn.Linear(8,30)\n",
    "            self.lin2 = nn.Linear(30,30)\n",
    "            self.lin3 = nn.Linear(30,3)\n",
    "        def forward(self,x):\n",
    "            x = self.lin1(x)\n",
    "            x = F.relu(x)\n",
    "            x = F.relu(self.lin2(x))\n",
    "            x = F.relu(self.lin3(x))\n",
    "            x = F.softmax(x,dim=0)\n",
    "            return x"
   ]
  },
  {
   "cell_type": "code",
   "execution_count": 6,
   "metadata": {},
   "outputs": [],
   "source": [
    "#Die Tore der einzelnen Mannschaften pro Spiel aus den matches in eine Liste schreiben\n",
    "def inputValues(gameList, df_stats,inputList):\n",
    "    for match in gameList:\n",
    "        homeTeam = match.iat[0,0]\n",
    "        awayTeam = match.iat[0,1]\n",
    "        input_values= df_stats[df_stats['HomeTeam']==homeTeam]\n",
    "        input_values= input_values[input_values['AwayTeam']==awayTeam]\n",
    "        input_values= input_values.reset_index(drop=True)\n",
    "        input_values = input_values[:-1]\n",
    "        inputList.append(input_values.loc[:,['FTHG','FTAG']])"
   ]
  },
  {
   "cell_type": "code",
   "execution_count": 7,
   "metadata": {},
   "outputs": [],
   "source": [
    "#Methode um aus einer Liste eine Tensorliste mit Floatwerten generieren\n",
    "def dfToTensor(dfList, tensorList):\n",
    "    for df in dfList:\n",
    "        tensor = torch.FloatTensor(df.values).view(8)\n",
    "        tensorList.append(tensor)"
   ]
  },
  {
   "cell_type": "code",
   "execution_count": 8,
   "metadata": {},
   "outputs": [],
   "source": [
    "def dfToTensor_forOutput(dfList, tensorList, viewValue):\n",
    "    for df in dfList:\n",
    "        tensor = torch.FloatTensor(df).view(viewValue)\n",
    "        tensorList.append(tensor)"
   ]
  },
  {
   "cell_type": "code",
   "execution_count": 9,
   "metadata": {},
   "outputs": [],
   "source": [
    "#Outputvalues generieren, bei einem target als Vector\n",
    "def outputValuesVector(gameList, df_stats,outputList):\n",
    "    for match in gameList:\n",
    "        homeTeam = match.iat[0,0]\n",
    "        awayTeam = match.iat[0,1]\n",
    "        output_values= df_stats[df_stats['HomeTeam']==homeTeam]\n",
    "        output_values= output_values[output_values['AwayTeam']==awayTeam]\n",
    "        output_values= output_values.reset_index(drop=True)\n",
    "        output_values = output_values.tail(1)\n",
    "        output_values = output_values.loc[:,['FTHG','FTAG']]\n",
    "        homegoals = output_values.loc[:,['FTHG']].iloc[0]['FTHG']\n",
    "        awaygoals = output_values.loc[:,['FTAG']].iloc[0]['FTAG']\n",
    "        if homegoals > awaygoals:\n",
    "            df_out=[1.,0.,0.]\n",
    "        if homegoals == awaygoals:\n",
    "            df_out=[0.,1.,0.]\n",
    "        if homegoals < awaygoals:\n",
    "            df_out=[0.,0.,1.]\n",
    "        outputList.append(df_out)"
   ]
  },
  {
   "cell_type": "code",
   "execution_count": 10,
   "metadata": {},
   "outputs": [],
   "source": [
    "#Pfade Fabian\n",
    "#/Users/fabian-maltemoller/Developer/Ki/KI_Daten/09_10-13_14.csv\n",
    "#/Users/fabian-maltemoller/Developer/Ki/KI_Daten/10_11-14_15.csv\n",
    "#/Users/fabian-maltemoller/Developer/Ki/KI_Daten/11_12-15_16.csv\n",
    "#/Users/fabian-maltemoller/Developer/Ki/KI_Daten/12_13-16_17.csv\n",
    "#/Users/fabian-maltemoller/Developer/Ki/KI_Daten/13_14-17_18.csv\n",
    "#/Users/fabian-maltemoller/Developer/Ki/KI_Daten/14_15-18_19.csv\n",
    "\n",
    "#C:\\\\Users\\\\dusti\\\\iCloudDrive\\\\Studium WI\\\\WS2019\\\\KI\\\\csvData\\\\09_10-13_14.csv\n",
    "#C:\\\\Users\\\\dusti\\\\iCloudDrive\\\\Studium WI\\\\WS2019\\\\KI\\\\csvData\\\\10_11-14_15.csv\n",
    "#C:\\\\Users\\\\dusti\\\\iCloudDrive\\\\Studium WI\\\\WS2019\\\\KI\\\\csvData\\\\11_12-15_16.csv\n",
    "#C:\\\\Users\\\\dusti\\\\iCloudDrive\\\\Studium WI\\\\WS2019\\\\KI\\\\csvData\\\\12_13-16_17.csv\n",
    "#C:\\\\Users\\\\dusti\\\\iCloudDrive\\\\Studium WI\\\\WS2019\\\\KI\\\\csvData\\\\13_14-17_18.csv\n",
    "#C:\\\\Users\\\\dusti\\\\iCloudDrive\\\\Studium WI\\\\WS2019\\\\KI\\\\csvData\\\\14_15-18_19.csv"
   ]
  },
  {
   "cell_type": "code",
   "execution_count": 11,
   "metadata": {},
   "outputs": [],
   "source": [
    "def new_inputs_Vector(path,TestInputListe,TestOutputListe):\n",
    "    topTeams = pd.read_csv(path, sep=';')\n",
    "    df = pd.DataFrame(topTeams, columns = ['Date','HomeTeam','AwayTeam','FTHG','FTAG','FTR'])\n",
    "    df_names = df.drop_duplicates(['HomeTeam','AwayTeam'],keep = 'last')\n",
    "    df_names = df_names[['HomeTeam','AwayTeam']]\n",
    "    gameListe = []\n",
    "    for row in df_names.itertuples():\n",
    "        data = [[row.HomeTeam,row.AwayTeam]]\n",
    "        gameListe.append(pd.DataFrame(data))\n",
    "    inputValues(gameListe, df,TestInputListe)\n",
    "    outputValuesVector(gameListe,df,TestOutputListe)"
   ]
  },
  {
   "cell_type": "code",
   "execution_count": 12,
   "metadata": {},
   "outputs": [],
   "source": [
    "inputList_0910_1314_Vector = []\n",
    "outputList_0910_1314_Vector = []\n",
    "new_inputs_Vector('/Users/fabian-maltemoller/Developer/Ki/KI_Daten/09_10-13_14.csv',inputList_0910_1314_Vector,outputList_0910_1314_Vector)\n",
    "#new_inputs('C:\\\\Users\\\\dusti\\\\iCloudDrive\\\\Studium WI\\\\WS2019\\\\KI\\\\csvData\\\\09_10-13_14.csv',inputList_0910_1314,outputList_0910_1314)\n",
    "\n",
    "inputList_1011_1415_Vector = []\n",
    "outputList_1011_1415_Vector = []\n",
    "new_inputs_Vector('/Users/fabian-maltemoller/Developer/Ki/KI_Daten/10_11-14_15.csv',inputList_1011_1415_Vector,outputList_1011_1415_Vector)\n",
    "#new_inputs('C:\\\\Users\\\\dusti\\\\iCloudDrive\\\\Studium WI\\\\WS2019\\\\KI\\\\csvData\\\\10_11-14_15.csv',inputList_1011_1415,outputList_1011_1415)\n",
    "\n",
    "inputList_1112_1516_Vector = []\n",
    "outputList_1112_1516_Vector = []\n",
    "new_inputs_Vector('/Users/fabian-maltemoller/Developer/Ki/KI_Daten/11_12-15_16.csv',inputList_1112_1516_Vector,outputList_1112_1516_Vector)\n",
    "#new_inputs('C:\\\\Users\\\\dusti\\\\iCloudDrive\\\\Studium WI\\\\WS2019\\\\KI\\\\csvData\\\\11_12-15_16.csv',inputList_1112_1516,outputList_1112_1516)\n",
    "\n",
    "inputList_1213_1617_Vector = []\n",
    "outputList_1213_1617_Vector = []\n",
    "new_inputs_Vector('/Users/fabian-maltemoller/Developer/Ki/KI_Daten/12_13-16_17.csv',inputList_1213_1617_Vector,outputList_1213_1617_Vector)\n",
    "#new_inputs('C:\\\\Users\\\\dusti\\\\iCloudDrive\\\\Studium WI\\\\WS2019\\\\KI\\\\csvData\\\\12_13-16_17.csv',inputList_1213_1617,outputList_1213_1617)\n",
    "\n",
    "inputList_1314_1718_Vector = []\n",
    "outputList_1314_1718_Vector = []\n",
    "new_inputs_Vector('/Users/fabian-maltemoller/Developer/Ki/KI_Daten/13_14-17_18.csv',inputList_1314_1718_Vector,outputList_1314_1718_Vector)\n",
    "#new_inputs('C:\\\\Users\\\\dusti\\\\iCloudDrive\\\\Studium WI\\\\WS2019\\\\KI\\\\csvData\\\\13_14-17_18.csv',inputList_1314_1718,outputList_1314_1718)\n",
    "\n",
    "inputList_1415_1819_Vector = []\n",
    "outputList_1415_1819_Vector = []\n",
    "new_inputs_Vector('/Users/fabian-maltemoller/Developer/Ki/KI_Daten/14_15-18_19.csv',inputList_1415_1819_Vector,outputList_1415_1819_Vector)\n",
    "#new_inputs('C:\\\\Users\\\\dusti\\\\iCloudDrive\\\\Studium WI\\\\WS2019\\\\KI\\\\csvData\\\\14_15-18_19.csv',inputList_1415_1819,outputList_1415_1819)"
   ]
  },
  {
   "cell_type": "code",
   "execution_count": 13,
   "metadata": {},
   "outputs": [
    {
     "name": "stdout",
     "output_type": "stream",
     "text": [
      "11\n",
      "14\n",
      "32\n",
      "46\n",
      "54\n",
      "63\n",
      "85\n",
      "92\n",
      "97\n",
      "109\n",
      "116\n"
     ]
    }
   ],
   "source": [
    "#Leere Dataframes löschen\n",
    "for i in range(len(inputList_1415_1819_Vector)):\n",
    "    if inputList_1415_1819_Vector[i].empty:\n",
    "        print(i)"
   ]
  },
  {
   "cell_type": "code",
   "execution_count": 14,
   "metadata": {},
   "outputs": [
    {
     "name": "stdout",
     "output_type": "stream",
     "text": [
      "110\n",
      "110\n"
     ]
    }
   ],
   "source": [
    "inputList_1415_1819_Vector.pop(11)\n",
    "inputList_1415_1819_Vector.pop(13)\n",
    "inputList_1415_1819_Vector.pop(30)\n",
    "inputList_1415_1819_Vector.pop(43)\n",
    "inputList_1415_1819_Vector.pop(50)\n",
    "inputList_1415_1819_Vector.pop(58)\n",
    "inputList_1415_1819_Vector.pop(79)\n",
    "inputList_1415_1819_Vector.pop(85)\n",
    "inputList_1415_1819_Vector.pop(89)\n",
    "inputList_1415_1819_Vector.pop(100)\n",
    "inputList_1415_1819_Vector.pop(106)\n",
    "\n",
    "outputList_1415_1819_Vector.pop(11)\n",
    "outputList_1415_1819_Vector.pop(13)\n",
    "outputList_1415_1819_Vector.pop(30)\n",
    "outputList_1415_1819_Vector.pop(43)\n",
    "outputList_1415_1819_Vector.pop(50)\n",
    "outputList_1415_1819_Vector.pop(58)\n",
    "outputList_1415_1819_Vector.pop(79)\n",
    "outputList_1415_1819_Vector.pop(85)\n",
    "outputList_1415_1819_Vector.pop(89)\n",
    "outputList_1415_1819_Vector.pop(100)\n",
    "outputList_1415_1819_Vector.pop(106)\n",
    "\n",
    "print(len(inputList_1415_1819_Vector))\n",
    "print(len(outputList_1415_1819_Vector))"
   ]
  },
  {
   "cell_type": "code",
   "execution_count": 16,
   "metadata": {},
   "outputs": [],
   "source": [
    "train_tensor_input_vector = []\n",
    "dfToTensor(inputList_0910_1314_Vector,train_tensor_input_vector)\n",
    "dfToTensor(inputList_1011_1415_Vector,train_tensor_input_vector)\n",
    "dfToTensor(inputList_1112_1516_Vector,train_tensor_input_vector)\n",
    "dfToTensor(inputList_1213_1617_Vector,train_tensor_input_vector)\n",
    "dfToTensor(inputList_1314_1718_Vector,train_tensor_input_vector)\n",
    "\n",
    "test_tensor_input_vector= []\n",
    "dfToTensor(inputList_1415_1819_Vector,test_tensor_input_vector)"
   ]
  },
  {
   "cell_type": "code",
   "execution_count": 17,
   "metadata": {},
   "outputs": [],
   "source": [
    "train_tensor_vector_target = []\n",
    "dfToTensor_forOutput(outputList_0910_1314_Vector,train_tensor_vector_target,3)\n",
    "dfToTensor_forOutput(outputList_1011_1415_Vector,train_tensor_vector_target,3)\n",
    "dfToTensor_forOutput(outputList_1112_1516_Vector,train_tensor_vector_target,3)\n",
    "dfToTensor_forOutput(outputList_1213_1617_Vector,train_tensor_vector_target,3)\n",
    "dfToTensor_forOutput(outputList_1314_1718_Vector,train_tensor_vector_target,3)\n",
    "\n",
    "test_tensor_vector_target = []\n",
    "dfToTensor_forOutput(outputList_1415_1819_Vector,test_tensor_vector_target,3)"
   ]
  },
  {
   "cell_type": "code",
   "execution_count": 18,
   "metadata": {},
   "outputs": [
    {
     "name": "stdout",
     "output_type": "stream",
     "text": [
      "710\n",
      "710\n",
      "110\n",
      "110\n"
     ]
    }
   ],
   "source": [
    "print(len(train_tensor_input_vector))\n",
    "print(len(train_tensor_vector_target))\n",
    "print(len(test_tensor_input_vector))\n",
    "print(len(test_tensor_vector_target))"
   ]
  },
  {
   "cell_type": "code",
   "execution_count": 19,
   "metadata": {},
   "outputs": [],
   "source": [
    "net = NeuronalNetVector()"
   ]
  },
  {
   "cell_type": "code",
   "execution_count": 20,
   "metadata": {},
   "outputs": [],
   "source": [
    "criterion = nn.L1Loss()"
   ]
  },
  {
   "cell_type": "code",
   "execution_count": 21,
   "metadata": {},
   "outputs": [],
   "source": [
    "optimizer = torch.optim.SGD(net.parameters(),lr =0.01, momentum = 0.9)"
   ]
  },
  {
   "cell_type": "code",
   "execution_count": 22,
   "metadata": {},
   "outputs": [
    {
     "name": "stdout",
     "output_type": "stream",
     "text": [
      "1 710 0.37375617052623117\n",
      "2 710 0.35997360629958575\n",
      "3 710 0.3598085324565285\n",
      "4 710 0.3597457067240242\n",
      "5 710 0.3597110166187614\n",
      "6 710 0.35968751556821826\n",
      "7 710 0.35967012005917814\n",
      "8 710 0.3596562276913858\n",
      "9 710 0.35964511328790955\n",
      "10 710 0.3596349144922659\n",
      "11 710 0.3596255880835351\n",
      "12 710 0.3596172451952893\n",
      "13 710 0.35960890564330505\n",
      "14 710 0.3596004774402667\n",
      "15 710 0.3595920954676129\n",
      "16 710 0.35958349144071894\n",
      "17 710 0.35957296801629285\n",
      "18 710 0.3595618261946276\n",
      "19 710 0.3595489097220784\n",
      "20 710 0.35953352939695526\n",
      "21 710 0.3595143094073945\n",
      "22 710 0.3594893062111187\n",
      "23 710 0.35945110073151243\n",
      "24 710 0.35939449934515894\n",
      "25 710 0.35929463311817383\n",
      "26 710 0.35881483266167036\n",
      "27 710 0.35836632125860207\n",
      "28 710 0.35820638628535384\n",
      "29 710 0.3580170861068661\n",
      "30 710 0.3575229769903439\n",
      "31 710 0.3573071462289506\n",
      "32 710 0.357350091315056\n",
      "33 710 0.35758826514731384\n",
      "34 710 0.35605824807845987\n",
      "35 710 0.3748105706850607\n",
      "36 710 0.350516200282685\n",
      "37 710 0.349531768747468\n",
      "38 710 0.3415484606719097\n",
      "39 710 0.3462918882421982\n",
      "40 710 0.35306020556453793\n",
      "41 710 0.3505872631935523\n",
      "42 710 0.33626600682885033\n",
      "43 710 0.3319362895723516\n",
      "44 710 0.32931630473574736\n",
      "45 710 0.3401932695224341\n",
      "46 710 0.33071220268759827\n",
      "47 710 0.33544183503940755\n",
      "48 710 0.34260387056388997\n",
      "49 710 0.333313640799901\n",
      "50 710 0.3335599551105683\n"
     ]
    }
   ],
   "source": [
    "for epoch in range(50):\n",
    "    running_loss = 0.0\n",
    "    for i in range(len(train_tensor_input_vector)):\n",
    "        optimizer.zero_grad()\n",
    "        outputs = net(train_tensor_input_vector[i])\n",
    "        loss = criterion(outputs, train_tensor_vector_target[i])\n",
    "        loss.backward()\n",
    "        optimizer.step()\n",
    "        running_loss += loss.item()\n",
    "        if i % 710 == 709:\n",
    "            print (epoch + 1 , i+1 , running_loss / 710)\n",
    "            running_loss = 0.0"
   ]
  },
  {
   "cell_type": "code",
   "execution_count": 23,
   "metadata": {},
   "outputs": [
    {
     "name": "stdout",
     "output_type": "stream",
     "text": [
      "0.4909090909090909\n"
     ]
    }
   ],
   "source": [
    "#Quantitative Evaluierung \n",
    "correct = 0\n",
    "total = 0\n",
    "with torch.no_grad():\n",
    "    for i in range(len(test_tensor_input_vector)) :\n",
    "        outputs = net(test_tensor_input_vector[i])\n",
    "        if (torch.argmax(outputs) == torch.argmax(test_tensor_vector_target[i])):\n",
    "            correct = correct+1\n",
    "print(correct / len(test_tensor_input_vector))"
   ]
  },
  {
   "cell_type": "code",
   "execution_count": null,
   "metadata": {},
   "outputs": [],
   "source": []
  },
  {
   "cell_type": "code",
   "execution_count": null,
   "metadata": {},
   "outputs": [],
   "source": []
  },
  {
   "cell_type": "code",
   "execution_count": null,
   "metadata": {},
   "outputs": [],
   "source": []
  }
 ],
 "metadata": {
  "kernelspec": {
   "display_name": "Python 3",
   "language": "python",
   "name": "python3"
  },
  "language_info": {
   "codemirror_mode": {
    "name": "ipython",
    "version": 3
   },
   "file_extension": ".py",
   "mimetype": "text/x-python",
   "name": "python",
   "nbconvert_exporter": "python",
   "pygments_lexer": "ipython3",
   "version": "3.7.4"
  }
 },
 "nbformat": 4,
 "nbformat_minor": 4
}
