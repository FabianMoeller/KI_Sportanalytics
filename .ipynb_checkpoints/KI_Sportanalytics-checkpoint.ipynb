{
 "cells": [
  {
   "cell_type": "code",
   "execution_count": 1,
   "metadata": {},
   "outputs": [],
   "source": [
    "import torch\n",
    "import torch.nn as nn\n",
    "import torch.nn.functional as F\n",
    "import torch.optim as optim\n",
    "from torch.utils.data import Dataset, DataLoader\n",
    "import pandas as pd\n",
    "import numpy as np"
   ]
  },
  {
   "cell_type": "markdown",
   "metadata": {},
   "source": [
    "# Konfiguration neuronale Netze"
   ]
  },
  {
   "cell_type": "code",
   "execution_count": 2,
   "metadata": {},
   "outputs": [],
   "source": [
    "class NeuronalNetScalar(nn.Module):\n",
    "        def __init__(self):\n",
    "            super(NeuronalNetScalar, self).__init__()\n",
    "            self.lin1 = nn.Linear(8,30)\n",
    "            self.lin2 = nn.Linear(30,30)\n",
    "            self.lin3 = nn.Linear(30,1)\n",
    "        def forward(self,x):\n",
    "            x = self.lin1(x)\n",
    "            x = F.relu(x)\n",
    "            x = F.relu(self.lin2(x))\n",
    "            x = F.relu(self.lin3(x))\n",
    "            return x"
   ]
  },
  {
   "cell_type": "markdown",
   "metadata": {},
   "source": [
    "# Datenbeschaffung"
   ]
  },
  {
   "cell_type": "code",
   "execution_count": 9,
   "metadata": {},
   "outputs": [],
   "source": [
    "#Die Tore der einzelnen Mannschaften pro Spiel aus den matches in eine Liste schreiben\n",
    "def inputValuesScalar(gameList, df_stats,inputList):\n",
    "    for match in gameList:\n",
    "        homeTeam = match.iat[0,0]\n",
    "        awayTeam = match.iat[0,1]\n",
    "        input_values= df_stats[df_stats['HomeTeam']==homeTeam]\n",
    "        input_values= input_values[input_values['AwayTeam']==awayTeam]\n",
    "        input_values= input_values.reset_index(drop=True)\n",
    "        input_values = input_values[:-1]\n",
    "        inputList.append(input_values.loc[:,['FTHG','FTAG']])"
   ]
  },
  {
   "cell_type": "code",
   "execution_count": 10,
   "metadata": {},
   "outputs": [],
   "source": [
    "#Methode um aus einer Liste eine Tensorliste mit Floatwerten generieren\n",
    "def dfToTensor(dfList, tensorList):\n",
    "    for df in dfList:\n",
    "        tensor = torch.FloatTensor(df.values).view(8)\n",
    "        tensorList.append(tensor)"
   ]
  },
  {
   "cell_type": "code",
   "execution_count": 29,
   "metadata": {},
   "outputs": [],
   "source": [
    "def dfToTensor_target(dfList, tensorList):\n",
    "    for df in dfList:\n",
    "        tensor = torch.FloatTensor(df).view(1)\n",
    "        tensorList.append(tensor)"
   ]
  },
  {
   "cell_type": "markdown",
   "metadata": {},
   "source": [
    "# Output Scalar"
   ]
  },
  {
   "cell_type": "code",
   "execution_count": 12,
   "metadata": {},
   "outputs": [],
   "source": [
    "#Outputvalues generieren, indem bei Heimsieg 0, bei unentschieden 1 und bei Auswärtssieg 2 gesetzt wird\n",
    "def targetValuesScalar(gameList, df_stats,targetList):\n",
    "    for match in gameList:\n",
    "        homeTeam = match.iat[0,0]\n",
    "        awayTeam = match.iat[0,1]\n",
    "        target_values= df_stats[df_stats['HomeTeam']==homeTeam]\n",
    "        target_values= target_values[target_values['AwayTeam']==awayTeam]\n",
    "        target_values= target_values.reset_index(drop=True)\n",
    "        target_values = target_values.tail(1)\n",
    "        target_values = target_values.loc[:,['FTHG','FTAG']]\n",
    "        homegoals = target_values.loc[:,['FTHG']].iloc[0]['FTHG']\n",
    "        awaygoals = target_values.loc[:,['FTAG']].iloc[0]['FTAG']\n",
    "        if homegoals > awaygoals:\n",
    "            df_out=[0.]\n",
    "        if homegoals == awaygoals:\n",
    "            df_out=[1.]\n",
    "        if homegoals < awaygoals:\n",
    "            df_out=[2.]\n",
    "        targetList.append(df_out)"
   ]
  },
  {
   "cell_type": "markdown",
   "metadata": {},
   "source": [
    "# Input Scalar"
   ]
  },
  {
   "cell_type": "code",
   "execution_count": 13,
   "metadata": {},
   "outputs": [],
   "source": [
    "#Pfade Fabian\n",
    "#/Users/fabian-maltemoller/Developer/Ki/KI_Daten/09_10-13_14.csv\n",
    "#/Users/fabian-maltemoller/Developer/Ki/KI_Daten/10_11-14_15.csv\n",
    "#/Users/fabian-maltemoller/Developer/Ki/KI_Daten/11_12-15_16.csv\n",
    "#/Users/fabian-maltemoller/Developer/Ki/KI_Daten/12_13-16_17.csv\n",
    "#/Users/fabian-maltemoller/Developer/Ki/KI_Daten/13_14-17_18.csv\n",
    "#/Users/fabian-maltemoller/Developer/Ki/KI_Daten/14_15-18_19.csv\n",
    "\n",
    "#C:\\\\Users\\\\dusti\\\\iCloudDrive\\\\Studium WI\\\\WS2019\\\\KI\\\\csvData\\\\09_10-13_14.csv\n",
    "#C:\\\\Users\\\\dusti\\\\iCloudDrive\\\\Studium WI\\\\WS2019\\\\KI\\\\csvData\\\\10_11-14_15.csv\n",
    "#C:\\\\Users\\\\dusti\\\\iCloudDrive\\\\Studium WI\\\\WS2019\\\\KI\\\\csvData\\\\11_12-15_16.csv\n",
    "#C:\\\\Users\\\\dusti\\\\iCloudDrive\\\\Studium WI\\\\WS2019\\\\KI\\\\csvData\\\\12_13-16_17.csv\n",
    "#C:\\\\Users\\\\dusti\\\\iCloudDrive\\\\Studium WI\\\\WS2019\\\\KI\\\\csvData\\\\13_14-17_18.csv\n",
    "#C:\\\\Users\\\\dusti\\\\iCloudDrive\\\\Studium WI\\\\WS2019\\\\KI\\\\csvData\\\\14_15-18_19.csv"
   ]
  },
  {
   "cell_type": "code",
   "execution_count": 14,
   "metadata": {},
   "outputs": [],
   "source": [
    "def scalarInputTarget(path,inputListe,targetListe):\n",
    "    topTeams = pd.read_csv(path, sep=';')\n",
    "    df = pd.DataFrame(topTeams, columns = ['Date','HomeTeam','AwayTeam','FTHG','FTAG','FTR'])\n",
    "    df_names = df.drop_duplicates(['HomeTeam','AwayTeam'],keep = 'last')\n",
    "    df_names = df_names[['HomeTeam','AwayTeam']]\n",
    "    gameListe = []\n",
    "    for row in df_names.itertuples():\n",
    "        data = [[row.HomeTeam,row.AwayTeam]]\n",
    "        gameListe.append(pd.DataFrame(data))\n",
    "    inputValuesScalar(gameListe, df,inputListe)\n",
    "    targetValuesScalar(gameListe,df,targetListe)"
   ]
  },
  {
   "cell_type": "code",
   "execution_count": 22,
   "metadata": {},
   "outputs": [],
   "source": [
    "inputList_0910_1314_Scalar = []\n",
    "targetList_0910_1314_Scalar = []\n",
    "scalarInputTarget('/Users/fabian-maltemoller/Developer/Ki/KI_Daten/09_10-13_14.csv',inputList_0910_1314_Scalar,targetList_0910_1314_Scalar)\n",
    "#new_inputs('C:\\\\Users\\\\dusti\\\\iCloudDrive\\\\Studium WI\\\\WS2019\\\\KI\\\\csvData\\\\09_10-13_14.csv',inputList_0910_1314,targetList_0910_1314)\n",
    "\n",
    "inputList_1011_1415_Scalar = []\n",
    "targetList_1011_1415_Scalar = []\n",
    "scalarInputTarget('/Users/fabian-maltemoller/Developer/Ki/KI_Daten/10_11-14_15.csv',inputList_1011_1415_Scalar,targetList_1011_1415_Scalar)\n",
    "#new_inputs('C:\\\\Users\\\\dusti\\\\iCloudDrive\\\\Studium WI\\\\WS2019\\\\KI\\\\csvData\\\\10_11-14_15.csv',inputList_1011_1415,targetList_1011_1415)\n",
    "\n",
    "inputList_1112_1516_Scalar = []\n",
    "targetList_1112_1516_Scalar = []\n",
    "scalarInputTarget('/Users/fabian-maltemoller/Developer/Ki/KI_Daten/11_12-15_16.csv',inputList_1112_1516_Scalar,targetList_1112_1516_Scalar)\n",
    "#new_inputs('C:\\\\Users\\\\dusti\\\\iCloudDrive\\\\Studium WI\\\\WS2019\\\\KI\\\\csvData\\\\11_12-15_16.csv',inputList_1112_1516,targetList_1112_1516)\n",
    "\n",
    "inputList_1213_1617_Scalar = []\n",
    "targetList_1213_1617_Scalar = []\n",
    "scalarInputTarget('/Users/fabian-maltemoller/Developer/Ki/KI_Daten/12_13-16_17.csv',inputList_1213_1617_Scalar,targetList_1213_1617_Scalar)\n",
    "#new_inputs('C:\\\\Users\\\\dusti\\\\iCloudDrive\\\\Studium WI\\\\WS2019\\\\KI\\\\csvData\\\\12_13-16_17.csv',inputList_1213_1617,targetList_1213_1617)\n",
    "\n",
    "inputList_1314_1718_Scalar = []\n",
    "targetList_1314_1718_Scalar = []\n",
    "scalarInputTarget('/Users/fabian-maltemoller/Developer/Ki/KI_Daten/13_14-17_18.csv',inputList_1314_1718_Scalar,targetList_1314_1718_Scalar)\n",
    "#new_inputs('C:\\\\Users\\\\dusti\\\\iCloudDrive\\\\Studium WI\\\\WS2019\\\\KI\\\\csvData\\\\13_14-17_18.csv',inputList_1314_1718,targetList_1314_1718)\n",
    "\n",
    "inputList_1415_1819_Scalar = []\n",
    "targetList_1415_1819_Scalar = []\n",
    "scalarInputTarget('/Users/fabian-maltemoller/Developer/Ki/KI_Daten/14_15-18_19.csv',inputList_1415_1819_Scalar,targetList_1415_1819_Scalar)\n",
    "#new_inputs('C:\\\\Users\\\\dusti\\\\iCloudDrive\\\\Studium WI\\\\WS2019\\\\KI\\\\csvData\\\\14_15-18_19.csv',inputList_1415_1819,targetList_1415_1819)"
   ]
  },
  {
   "cell_type": "code",
   "execution_count": 23,
   "metadata": {},
   "outputs": [
    {
     "name": "stdout",
     "output_type": "stream",
     "text": [
      "11\n",
      "14\n",
      "32\n",
      "46\n",
      "54\n",
      "63\n",
      "85\n",
      "92\n",
      "97\n",
      "109\n",
      "116\n"
     ]
    }
   ],
   "source": [
    "#In Liste inputList_1415_1819_Scalar waren leere Dataframes drin, die werden in diesem Zwischenschritt rausgelöscht\n",
    "for i in range(len(inputList_1415_1819_Scalar)):\n",
    "    if inputList_1415_1819_Scalar[i].empty:\n",
    "        print(i)"
   ]
  },
  {
   "cell_type": "code",
   "execution_count": 24,
   "metadata": {},
   "outputs": [
    {
     "name": "stdout",
     "output_type": "stream",
     "text": [
      "110\n",
      "110\n"
     ]
    }
   ],
   "source": [
    "inputList_1415_1819_Scalar.pop(11)\n",
    "inputList_1415_1819_Scalar.pop(13)\n",
    "inputList_1415_1819_Scalar.pop(30)\n",
    "inputList_1415_1819_Scalar.pop(43)\n",
    "inputList_1415_1819_Scalar.pop(50)\n",
    "inputList_1415_1819_Scalar.pop(58)\n",
    "inputList_1415_1819_Scalar.pop(79)\n",
    "inputList_1415_1819_Scalar.pop(85)\n",
    "inputList_1415_1819_Scalar.pop(89)\n",
    "inputList_1415_1819_Scalar.pop(100)\n",
    "inputList_1415_1819_Scalar.pop(106)\n",
    "\n",
    "targetList_1415_1819_Scalar.pop(11)\n",
    "targetList_1415_1819_Scalar.pop(13)\n",
    "targetList_1415_1819_Scalar.pop(30)\n",
    "targetList_1415_1819_Scalar.pop(43)\n",
    "targetList_1415_1819_Scalar.pop(50)\n",
    "targetList_1415_1819_Scalar.pop(58)\n",
    "targetList_1415_1819_Scalar.pop(79)\n",
    "targetList_1415_1819_Scalar.pop(85)\n",
    "targetList_1415_1819_Scalar.pop(89)\n",
    "targetList_1415_1819_Scalar.pop(100)\n",
    "targetList_1415_1819_Scalar.pop(106)\n",
    "\n",
    "print(len(inputList_1415_1819_Scalar))\n",
    "print(len(targetList_1415_1819_Scalar))"
   ]
  },
  {
   "cell_type": "code",
   "execution_count": 25,
   "metadata": {},
   "outputs": [],
   "source": [
    "train_input_tensor = []\n",
    "dfToTensor(inputList_0910_1314_Scalar,train_input_tensor)\n",
    "dfToTensor(inputList_1011_1415_Scalar,train_input_tensor)\n",
    "dfToTensor(inputList_1112_1516_Scalar,train_input_tensor)\n",
    "dfToTensor(inputList_1213_1617_Scalar,train_input_tensor)\n",
    "dfToTensor(inputList_1314_1718_Scalar,train_input_tensor)\n",
    "\n",
    "test_input_tensor = []\n",
    "dfToTensor(inputList_1415_1819_Scalar,test_input_tensor)"
   ]
  },
  {
   "cell_type": "code",
   "execution_count": 31,
   "metadata": {},
   "outputs": [],
   "source": [
    "train_target_tensor = []\n",
    "dfToTensor_target(targetList_0910_1314_Scalar,train_target_tensor)\n",
    "dfToTensor_target(targetList_1011_1415_Scalar,train_target_tensor)\n",
    "dfToTensor_target(targetList_1112_1516_Scalar,train_target_tensor)\n",
    "dfToTensor_target(targetList_1213_1617_Scalar,train_target_tensor)\n",
    "dfToTensor_target(targetList_1314_1718_Scalar,train_target_tensor)\n",
    "\n",
    "test_target_tensor = []\n",
    "dfToTensor_target(targetList_1415_1819_Scalar,test_target_tensor)"
   ]
  },
  {
   "cell_type": "code",
   "execution_count": 32,
   "metadata": {},
   "outputs": [
    {
     "name": "stdout",
     "output_type": "stream",
     "text": [
      "tensor([4., 0., 2., 0., 0., 0., 0., 0.])\n",
      "tensor([0.])\n",
      "tensor([2., 2., 2., 1., 2., 2., 0., 3.])\n",
      "tensor([2.])\n"
     ]
    }
   ],
   "source": [
    "print(train_input_tensor[1])\n",
    "print(train_target_tensor[1])\n",
    "print(test_input_tensor[1])\n",
    "print(test_target_tensor[1])"
   ]
  },
  {
   "cell_type": "markdown",
   "metadata": {},
   "source": [
    "# Trainieren des neuronalen Netzes Skalar"
   ]
  },
  {
   "cell_type": "code",
   "execution_count": 33,
   "metadata": {},
   "outputs": [],
   "source": [
    "net = NeuronalNetScalar()"
   ]
  },
  {
   "cell_type": "code",
   "execution_count": 34,
   "metadata": {},
   "outputs": [],
   "source": [
    "criterion = nn.L1Loss()"
   ]
  },
  {
   "cell_type": "code",
   "execution_count": 35,
   "metadata": {},
   "outputs": [],
   "source": [
    "optimizer = torch.optim.SGD(net.parameters(),lr =0.001, momentum = 0.9)"
   ]
  },
  {
   "cell_type": "code",
   "execution_count": 36,
   "metadata": {},
   "outputs": [
    {
     "name": "stdout",
     "output_type": "stream",
     "text": [
      "1 305 0.8436562389501783\n",
      "1 610 0.8032786885245902\n",
      "2 305 0.8426229508196721\n",
      "2 610 0.8032786885245902\n",
      "3 305 0.8426229508196721\n",
      "3 610 0.8032786885245902\n",
      "4 305 0.8426229508196721\n",
      "4 610 0.8032786885245902\n",
      "5 305 0.8426229508196721\n",
      "5 610 0.8032786885245902\n",
      "6 305 0.8426229508196721\n",
      "6 610 0.8032786885245902\n",
      "7 305 0.8426229508196721\n",
      "7 610 0.8032786885245902\n",
      "8 305 0.8426229508196721\n",
      "8 610 0.8032786885245902\n",
      "9 305 0.8426229508196721\n",
      "9 610 0.8032786885245902\n",
      "10 305 0.8426229508196721\n",
      "10 610 0.8032786885245902\n",
      "11 305 0.8426229508196721\n",
      "11 610 0.8032786885245902\n",
      "12 305 0.8426229508196721\n",
      "12 610 0.8032786885245902\n",
      "13 305 0.8426229508196721\n",
      "13 610 0.8032786885245902\n",
      "14 305 0.8426229508196721\n",
      "14 610 0.8032786885245902\n",
      "15 305 0.8426229508196721\n",
      "15 610 0.8032786885245902\n",
      "16 305 0.8426229508196721\n",
      "16 610 0.8032786885245902\n",
      "17 305 0.8426229508196721\n",
      "17 610 0.8032786885245902\n",
      "18 305 0.8426229508196721\n",
      "18 610 0.8032786885245902\n",
      "19 305 0.8426229508196721\n",
      "19 610 0.8032786885245902\n",
      "20 305 0.8426229508196721\n",
      "20 610 0.8032786885245902\n",
      "21 305 0.8426229508196721\n",
      "21 610 0.8032786885245902\n",
      "22 305 0.8426229508196721\n",
      "22 610 0.8032786885245902\n",
      "23 305 0.8426229508196721\n",
      "23 610 0.8032786885245902\n",
      "24 305 0.8426229508196721\n",
      "24 610 0.8032786885245902\n",
      "25 305 0.8426229508196721\n",
      "25 610 0.8032786885245902\n"
     ]
    }
   ],
   "source": [
    "for epoch in range(25):\n",
    "    running_loss = 0.0\n",
    "    for i in range(len(train_target_tensor)):\n",
    "        optimizer.zero_grad()\n",
    "        outputs = net(train_input_tensor[i])\n",
    "        loss = criterion(outputs, train_target_tensor[i])\n",
    "        loss.backward()\n",
    "        optimizer.step()\n",
    "        running_loss += loss.item()\n",
    "        if i % 305 == 304:\n",
    "            print (epoch + 1 , i+1 , running_loss / 305)\n",
    "            running_loss = 0.0"
   ]
  },
  {
   "cell_type": "code",
   "execution_count": 38,
   "metadata": {},
   "outputs": [
    {
     "name": "stdout",
     "output_type": "stream",
     "text": [
      "0.4727272727272727\n"
     ]
    }
   ],
   "source": [
    "#Quantitative Evaluierung \n",
    "correct = 0\n",
    "total = 0\n",
    "with torch.no_grad():\n",
    "    for i in range(len(test_target_tensor)) :\n",
    "        outputs = net(test_input_tensor[i])\n",
    "        if outputs < 0.5:\n",
    "            predicted = 0\n",
    "        elif outputs <1.5:\n",
    "            predicted = 1\n",
    "        else:\n",
    "            predicted = 2\n",
    "        total += test_target_tensor[i].size(0)\n",
    "        correct += (predicted == test_target_tensor[i]).sum().item()\n",
    "print(correct / len(test_input_tensor))"
   ]
  },
  {
   "cell_type": "markdown",
   "metadata": {},
   "source": [
    "# Graphische Darstellung"
   ]
  },
  {
   "cell_type": "code",
   "execution_count": null,
   "metadata": {},
   "outputs": [],
   "source": []
  }
 ],
 "metadata": {
  "kernelspec": {
   "display_name": "Python 3",
   "language": "python",
   "name": "python3"
  },
  "language_info": {
   "codemirror_mode": {
    "name": "ipython",
    "version": 3
   },
   "file_extension": ".py",
   "mimetype": "text/x-python",
   "name": "python",
   "nbconvert_exporter": "python",
   "pygments_lexer": "ipython3",
   "version": "3.7.4"
  }
 },
 "nbformat": 4,
 "nbformat_minor": 4
}
