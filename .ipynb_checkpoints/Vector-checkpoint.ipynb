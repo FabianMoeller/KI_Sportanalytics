{
 "cells": [
  {
   "cell_type": "code",
   "execution_count": 1,
   "metadata": {},
   "outputs": [],
   "source": [
    "import torch\n",
    "import torch.nn as nn\n",
    "import torch.nn.functional as F\n",
    "import torch.optim as optim\n",
    "from torch.utils.data import Dataset, DataLoader\n",
    "import pandas as pd\n",
    "import numpy as np"
   ]
  },
  {
   "cell_type": "code",
   "execution_count": 2,
   "metadata": {},
   "outputs": [],
   "source": [
    "class NeuronalNetVector(nn.Module):\n",
    "        def __init__(self):\n",
    "            super(NeuronalNetVector, self).__init__()\n",
    "            self.lin1 = nn.Linear(8,30)\n",
    "            self.lin2 = nn.Linear(30,30)\n",
    "            self.lin3 = nn.Linear(30,3)\n",
    "        def forward(self,x):\n",
    "            x = self.lin1(x)\n",
    "            x = F.relu(x)\n",
    "            x = F.relu(self.lin2(x))\n",
    "            x = F.relu(self.lin3(x))\n",
    "            x = F.softmax(x,dim=0)\n",
    "            return x"
   ]
  },
  {
   "cell_type": "code",
   "execution_count": 3,
   "metadata": {},
   "outputs": [],
   "source": [
    "#Die Tore der einzelnen Mannschaften pro Spiel aus den matches in eine Liste schreiben\n",
    "def inputValuesVector(gameList, df_stats,inputList):\n",
    "    for match in gameList:\n",
    "        homeTeam = match.iat[0,0]\n",
    "        awayTeam = match.iat[0,1]\n",
    "        input_values= df_stats[df_stats['HomeTeam']==homeTeam]\n",
    "        input_values= input_values[input_values['AwayTeam']==awayTeam]\n",
    "        input_values= input_values.reset_index(drop=True)\n",
    "        input_values = input_values[:-1]\n",
    "        inputList.append(input_values.loc[:,['FTHG','FTAG']])"
   ]
  },
  {
   "cell_type": "code",
   "execution_count": 4,
   "metadata": {},
   "outputs": [],
   "source": [
    "#Methode um aus einer Liste eine Tensorliste mit Floatwerten generieren\n",
    "def dfToTensor(dfList, tensorList):\n",
    "    for df in dfList:\n",
    "        tensor = torch.FloatTensor(df.values).view(8)\n",
    "        tensorList.append(tensor)"
   ]
  },
  {
   "cell_type": "code",
   "execution_count": 5,
   "metadata": {},
   "outputs": [],
   "source": [
    "def dfToTensor_forTarget(dfList, tensorList):\n",
    "    for df in dfList:\n",
    "        tensor = torch.FloatTensor(df).view(3)\n",
    "        tensorList.append(tensor)"
   ]
  },
  {
   "cell_type": "code",
   "execution_count": 6,
   "metadata": {},
   "outputs": [],
   "source": [
    "#Outputvalues generieren, bei einem target als Vector\n",
    "def targetValuesVector(gameList, df_stats,targetList):\n",
    "    for match in gameList:\n",
    "        homeTeam = match.iat[0,0]\n",
    "        awayTeam = match.iat[0,1]\n",
    "        target_values= df_stats[df_stats['HomeTeam']==homeTeam]\n",
    "        target_values= target_values[target_values['AwayTeam']==awayTeam]\n",
    "        target_values= target_values.reset_index(drop=True)\n",
    "        target_values = target_values.tail(1)\n",
    "        target_values = target_values.loc[:,['FTHG','FTAG']]\n",
    "        homegoals = target_values.loc[:,['FTHG']].iloc[0]['FTHG']\n",
    "        awaygoals = target_values.loc[:,['FTAG']].iloc[0]['FTAG']\n",
    "        if homegoals > awaygoals:\n",
    "            df_target=[1.,0.,0.]\n",
    "        if homegoals == awaygoals:\n",
    "            df_target=[0.,1.,0.]\n",
    "        if homegoals < awaygoals:\n",
    "            df_target=[0.,0.,1.]\n",
    "        targetList.append(df_target)"
   ]
  },
  {
   "cell_type": "code",
   "execution_count": 10,
   "metadata": {},
   "outputs": [],
   "source": [
    "#Pfade Fabian\n",
    "#/Users/fabian-maltemoller/Developer/Ki/KI_Daten/09_10-13_14.csv\n",
    "#/Users/fabian-maltemoller/Developer/Ki/KI_Daten/10_11-14_15.csv\n",
    "#/Users/fabian-maltemoller/Developer/Ki/KI_Daten/11_12-15_16.csv\n",
    "#/Users/fabian-maltemoller/Developer/Ki/KI_Daten/12_13-16_17.csv\n",
    "#/Users/fabian-maltemoller/Developer/Ki/KI_Daten/13_14-17_18.csv\n",
    "#/Users/fabian-maltemoller/Developer/Ki/KI_Daten/14_15-18_19.csv\n",
    "\n",
    "#C:\\\\Users\\\\dusti\\\\iCloudDrive\\\\Studium WI\\\\WS2019\\\\KI\\\\csvData\\\\09_10-13_14.csv\n",
    "#C:\\\\Users\\\\dusti\\\\iCloudDrive\\\\Studium WI\\\\WS2019\\\\KI\\\\csvData\\\\10_11-14_15.csv\n",
    "#C:\\\\Users\\\\dusti\\\\iCloudDrive\\\\Studium WI\\\\WS2019\\\\KI\\\\csvData\\\\11_12-15_16.csv\n",
    "#C:\\\\Users\\\\dusti\\\\iCloudDrive\\\\Studium WI\\\\WS2019\\\\KI\\\\csvData\\\\12_13-16_17.csv\n",
    "#C:\\\\Users\\\\dusti\\\\iCloudDrive\\\\Studium WI\\\\WS2019\\\\KI\\\\csvData\\\\13_14-17_18.csv\n",
    "#C:\\\\Users\\\\dusti\\\\iCloudDrive\\\\Studium WI\\\\WS2019\\\\KI\\\\csvData\\\\14_15-18_19.csv"
   ]
  },
  {
   "cell_type": "code",
   "execution_count": 7,
   "metadata": {},
   "outputs": [],
   "source": [
    "def vectorInputTarget(path,inputListe,targetListe):\n",
    "    topTeams = pd.read_csv(path, sep=';')\n",
    "    df = pd.DataFrame(topTeams, columns = ['Date','HomeTeam','AwayTeam','FTHG','FTAG','FTR'])\n",
    "    df_names = df.drop_duplicates(['HomeTeam','AwayTeam'],keep = 'last')\n",
    "    df_names = df_names[['HomeTeam','AwayTeam']]\n",
    "    gameListe = []\n",
    "    for row in df_names.itertuples():\n",
    "        data = [[row.HomeTeam,row.AwayTeam]]\n",
    "        gameListe.append(pd.DataFrame(data))\n",
    "    inputValuesVector(gameListe, df,inputListe)\n",
    "    targetValuesVector(gameListe,df,targetListe)"
   ]
  },
  {
   "cell_type": "code",
   "execution_count": 10,
   "metadata": {},
   "outputs": [],
   "source": [
    "inputList_0910_1314_Vector = []\n",
    "targetList_0910_1314_Vector = []\n",
    "vectorInputTarget('/Users/fabian-maltemoller/Developer/Ki/KI_Daten/09_10-13_14.csv',inputList_0910_1314_Vector,targetList_0910_1314_Vector)\n",
    "#vectorInputTarget('C:\\\\Users\\\\dusti\\\\iCloudDrive\\\\Studium WI\\\\WS2019\\\\KI\\\\csvData\\\\09_10-13_14.csv',inputList_0910_1314,outputList_0910_1314)\n",
    "\n",
    "inputList_1011_1415_Vector = []\n",
    "targetList_1011_1415_Vector = []\n",
    "vectorInputTarget('/Users/fabian-maltemoller/Developer/Ki/KI_Daten/10_11-14_15.csv',inputList_1011_1415_Vector,targetList_1011_1415_Vector)\n",
    "#vectorInputTarget('C:\\\\Users\\\\dusti\\\\iCloudDrive\\\\Studium WI\\\\WS2019\\\\KI\\\\csvData\\\\10_11-14_15.csv',inputList_1011_1415,outputList_1011_1415)\n",
    "\n",
    "inputList_1112_1516_Vector = []\n",
    "targetList_1112_1516_Vector = []\n",
    "vectorInputTarget('/Users/fabian-maltemoller/Developer/Ki/KI_Daten/11_12-15_16.csv',inputList_1112_1516_Vector,targetList_1112_1516_Vector)\n",
    "#vectorInputTarget('C:\\\\Users\\\\dusti\\\\iCloudDrive\\\\Studium WI\\\\WS2019\\\\KI\\\\csvData\\\\11_12-15_16.csv',inputList_1112_1516,outputList_1112_1516)\n",
    "\n",
    "inputList_1213_1617_Vector = []\n",
    "targetList_1213_1617_Vector = []\n",
    "vectorInputTarget('/Users/fabian-maltemoller/Developer/Ki/KI_Daten/12_13-16_17.csv',inputList_1213_1617_Vector,targetList_1213_1617_Vector)\n",
    "#vectorInputTarget('C:\\\\Users\\\\dusti\\\\iCloudDrive\\\\Studium WI\\\\WS2019\\\\KI\\\\csvData\\\\12_13-16_17.csv',inputList_1213_1617,outputList_1213_1617)\n",
    "\n",
    "inputList_1314_1718_Vector = []\n",
    "targetList_1314_1718_Vector = []\n",
    "vectorInputTarget('/Users/fabian-maltemoller/Developer/Ki/KI_Daten/13_14-17_18.csv',inputList_1314_1718_Vector,targetList_1314_1718_Vector)\n",
    "#vectorInputTarget('C:\\\\Users\\\\dusti\\\\iCloudDrive\\\\Studium WI\\\\WS2019\\\\KI\\\\csvData\\\\13_14-17_18.csv',inputList_1314_1718,outputList_1314_1718)\n",
    "\n",
    "inputList_1415_1819_Vector = []\n",
    "targetList_1415_1819_Vector = []\n",
    "vectorInputTarget('/Users/fabian-maltemoller/Developer/Ki/KI_Daten/14_15-18_19.csv',inputList_1415_1819_Vector,targetList_1415_1819_Vector)\n",
    "#vectorInputTarget('C:\\\\Users\\\\dusti\\\\iCloudDrive\\\\Studium WI\\\\WS2019\\\\KI\\\\csvData\\\\14_15-18_19.csv',inputList_1415_1819,outputList_1415_1819)"
   ]
  },
  {
   "cell_type": "code",
   "execution_count": 11,
   "metadata": {},
   "outputs": [
    {
     "name": "stdout",
     "output_type": "stream",
     "text": [
      "11\n",
      "14\n",
      "32\n",
      "46\n",
      "54\n",
      "63\n",
      "85\n",
      "92\n",
      "97\n",
      "109\n",
      "116\n"
     ]
    }
   ],
   "source": [
    "#Leere Dataframes löschen\n",
    "for i in range(len(inputList_1415_1819_Vector)):\n",
    "    if inputList_1415_1819_Vector[i].empty:\n",
    "        print(i)"
   ]
  },
  {
   "cell_type": "code",
   "execution_count": 12,
   "metadata": {},
   "outputs": [
    {
     "name": "stdout",
     "output_type": "stream",
     "text": [
      "110\n",
      "110\n"
     ]
    }
   ],
   "source": [
    "inputList_1415_1819_Vector.pop(11)\n",
    "inputList_1415_1819_Vector.pop(13)\n",
    "inputList_1415_1819_Vector.pop(30)\n",
    "inputList_1415_1819_Vector.pop(43)\n",
    "inputList_1415_1819_Vector.pop(50)\n",
    "inputList_1415_1819_Vector.pop(58)\n",
    "inputList_1415_1819_Vector.pop(79)\n",
    "inputList_1415_1819_Vector.pop(85)\n",
    "inputList_1415_1819_Vector.pop(89)\n",
    "inputList_1415_1819_Vector.pop(100)\n",
    "inputList_1415_1819_Vector.pop(106)\n",
    "\n",
    "targetList_1415_1819_Vector.pop(11)\n",
    "targetList_1415_1819_Vector.pop(13)\n",
    "targetList_1415_1819_Vector.pop(30)\n",
    "targetList_1415_1819_Vector.pop(43)\n",
    "targetList_1415_1819_Vector.pop(50)\n",
    "targetList_1415_1819_Vector.pop(58)\n",
    "targetList_1415_1819_Vector.pop(79)\n",
    "targetList_1415_1819_Vector.pop(85)\n",
    "targetList_1415_1819_Vector.pop(89)\n",
    "targetList_1415_1819_Vector.pop(100)\n",
    "targetList_1415_1819_Vector.pop(106)\n",
    "\n",
    "print(len(inputList_1415_1819_Vector))\n",
    "print(len(targetList_1415_1819_Vector))"
   ]
  },
  {
   "cell_type": "code",
   "execution_count": 13,
   "metadata": {},
   "outputs": [],
   "source": [
    "train_input_tensor = []\n",
    "dfToTensor(inputList_0910_1314_Vector,train_input_tensor)\n",
    "dfToTensor(inputList_1011_1415_Vector,train_input_tensor)\n",
    "dfToTensor(inputList_1112_1516_Vector,train_input_tensor)\n",
    "dfToTensor(inputList_1213_1617_Vector,train_input_tensor)\n",
    "dfToTensor(inputList_1314_1718_Vector,train_input_tensor)\n",
    "\n",
    "test_input_tensor= []\n",
    "dfToTensor(inputList_1415_1819_Vector,test_input_tensor)"
   ]
  },
  {
   "cell_type": "code",
   "execution_count": 16,
   "metadata": {},
   "outputs": [],
   "source": [
    "train_target_tensor = []\n",
    "dfToTensor_forTarget(outputList_0910_1314_Vector,train_target_tensor)\n",
    "dfToTensor_forTarget(outputList_1011_1415_Vector,train_target_tensor)\n",
    "dfToTensor_forTarget(outputList_1112_1516_Vector,train_target_tensor)\n",
    "dfToTensor_forTarget(outputList_1213_1617_Vector,train_target_tensor)\n",
    "dfToTensor_forTarget(outputList_1314_1718_Vector,train_target_tensor)\n",
    "\n",
    "test_target_tensor = []\n",
    "dfToTensor_forTarget(outputList_1415_1819_Vector,test_target_tensor)"
   ]
  },
  {
   "cell_type": "code",
   "execution_count": 17,
   "metadata": {},
   "outputs": [
    {
     "name": "stdout",
     "output_type": "stream",
     "text": [
      "710\n",
      "710\n",
      "110\n",
      "121\n"
     ]
    }
   ],
   "source": [
    "print(len(train_input_tensor))\n",
    "print(len(train_target_tensor))\n",
    "print(len(test_input_tensor))\n",
    "print(len(test_target_tensor))"
   ]
  },
  {
   "cell_type": "code",
   "execution_count": 18,
   "metadata": {},
   "outputs": [],
   "source": [
    "net = NeuronalNetVector()"
   ]
  },
  {
   "cell_type": "code",
   "execution_count": 19,
   "metadata": {},
   "outputs": [],
   "source": [
    "criterion = nn.L1Loss()"
   ]
  },
  {
   "cell_type": "code",
   "execution_count": 20,
   "metadata": {},
   "outputs": [],
   "source": [
    "optimizer = torch.optim.SGD(net.parameters(),lr =0.01, momentum = 0.9)"
   ]
  },
  {
   "cell_type": "code",
   "execution_count": 22,
   "metadata": {},
   "outputs": [
    {
     "name": "stdout",
     "output_type": "stream",
     "text": [
      "1 710 0.3595081256468658\n",
      "2 710 0.3594969123417487\n",
      "3 710 0.3594842958726856\n",
      "4 710 0.3594701569992979\n",
      "5 710 0.3594547328609287\n",
      "6 710 0.3594376768229303\n",
      "7 710 0.3594167127263934\n",
      "8 710 0.3593927853819629\n",
      "9 710 0.35936042657636286\n",
      "10 710 0.35932396240206144\n",
      "11 710 0.3592747322779161\n",
      "12 710 0.3592015805649156\n",
      "13 710 0.3590653903624888\n",
      "14 710 0.3586773024346366\n",
      "15 710 0.358138836188244\n",
      "16 710 0.3577816927407632\n",
      "17 710 0.3563765088853832\n",
      "18 710 0.35483922424336883\n",
      "19 710 0.3510955506036621\n",
      "20 710 0.35081876648870497\n",
      "21 710 0.3556501964278378\n",
      "22 710 0.3514044620739811\n",
      "23 710 0.34961352713371097\n",
      "24 710 0.3515123827667167\n",
      "25 710 0.34948619713871176\n",
      "26 710 0.34520078682803484\n",
      "27 710 0.34795949502620055\n",
      "28 710 0.3525994538110844\n",
      "29 710 0.348140029881817\n",
      "30 710 0.3518052396836036\n",
      "31 710 0.34957180593475623\n",
      "32 710 0.34893533662411413\n",
      "33 710 0.3467200936644743\n",
      "34 710 0.3479127769896931\n",
      "35 710 0.33736251039645454\n",
      "36 710 0.33753166598586154\n",
      "37 710 0.3380655133700434\n",
      "38 710 0.3477587814623299\n",
      "39 710 0.3425620222123402\n",
      "40 710 0.3443946785949674\n",
      "41 710 0.34414635075146605\n",
      "42 710 0.3400081574260117\n",
      "43 710 0.3299739363642416\n",
      "44 710 0.33273270671994853\n",
      "45 710 0.3348229904054471\n",
      "46 710 0.32931857285590294\n",
      "47 710 0.3311728229316306\n",
      "48 710 0.3335433394397252\n",
      "49 710 0.33221723637581974\n",
      "50 710 0.3261791502240248\n"
     ]
    }
   ],
   "source": [
    "for epoch in range(50):\n",
    "    running_loss = 0.0\n",
    "    for i in range(len(train_input_tensor)):\n",
    "        optimizer.zero_grad()\n",
    "        outputs = net(train_input_tensor[i])\n",
    "        loss = criterion(outputs, train_target_tensor[i])\n",
    "        loss.backward()\n",
    "        optimizer.step()\n",
    "        running_loss += loss.item()\n",
    "        if i % 710 == 709:\n",
    "            print (epoch + 1 , i+1 , running_loss / 710)\n",
    "            running_loss = 0.0"
   ]
  },
  {
   "cell_type": "code",
   "execution_count": 26,
   "metadata": {},
   "outputs": [
    {
     "name": "stdout",
     "output_type": "stream",
     "text": [
      "0.4727272727272727\n"
     ]
    }
   ],
   "source": [
    "#Quantitative Evaluierung \n",
    "correct = 0\n",
    "total = 0\n",
    "with torch.no_grad():\n",
    "    for i in range(len(test_input_tensor)) :\n",
    "        outputs = net(test_input_tensor[i])\n",
    "        if (torch.argmax(outputs) == torch.argmax(test_target_tensor[i])):\n",
    "            correct = correct+1\n",
    "print(correct / len(test_input_tensor))"
   ]
  },
  {
   "cell_type": "code",
   "execution_count": null,
   "metadata": {},
   "outputs": [],
   "source": []
  },
  {
   "cell_type": "code",
   "execution_count": null,
   "metadata": {},
   "outputs": [],
   "source": []
  },
  {
   "cell_type": "code",
   "execution_count": null,
   "metadata": {},
   "outputs": [],
   "source": []
  }
 ],
 "metadata": {
  "kernelspec": {
   "display_name": "Python 3",
   "language": "python",
   "name": "python3"
  },
  "language_info": {
   "codemirror_mode": {
    "name": "ipython",
    "version": 3
   },
   "file_extension": ".py",
   "mimetype": "text/x-python",
   "name": "python",
   "nbconvert_exporter": "python",
   "pygments_lexer": "ipython3",
   "version": "3.7.4"
  }
 },
 "nbformat": 4,
 "nbformat_minor": 4
}
