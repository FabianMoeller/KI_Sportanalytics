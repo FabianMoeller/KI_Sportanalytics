{
 "cells": [
  {
   "cell_type": "code",
   "execution_count": 143,
   "metadata": {},
   "outputs": [],
   "source": [
    "import torch\n",
    "import torch.nn as nn\n",
    "import torch.nn.functional as F\n",
    "import torch.optim as optim\n",
    "from torch.utils.data import Dataset, DataLoader\n",
    "import pandas as pd\n",
    "import numpy as np\n",
    "from torch.utils.data.dataset import Dataset\n",
    "from torch.utils.data import DataLoader"
   ]
  },
  {
   "cell_type": "code",
   "execution_count": 208,
   "metadata": {},
   "outputs": [],
   "source": [
    "class NeuronalNetVector(nn.Module):\n",
    "        def __init__(self):\n",
    "            super(NeuronalNetVector, self).__init__()\n",
    "            self.lin1 = nn.Linear(8,10)\n",
    "            #Größer als 8,3333\n",
    "            #Kleiner als 16\n",
    "            self.lin2 = nn.Linear(10,15)\n",
    "            self.lin3 = nn.Linear(15,3)\n",
    "        def forward(self,x):\n",
    "            x = self.lin1(x)\n",
    "            x = F.relu(x)\n",
    "            x = F.relu(self.lin2(x))\n",
    "            x = F.relu(self.lin3(x))\n",
    "            x = F.softmax(x,dim=0)\n",
    "            return x"
   ]
  },
  {
   "cell_type": "code",
   "execution_count": 209,
   "metadata": {},
   "outputs": [],
   "source": [
    "#Die Tore der einzelnen Mannschaften pro Spiel aus den matches in eine Liste schreiben\n",
    "def inputValuesVector(gameList, df_stats,inputList):\n",
    "    for match in gameList:\n",
    "        homeTeam = match.iat[0,0]\n",
    "        awayTeam = match.iat[0,1]\n",
    "        input_values= df_stats[df_stats['HomeTeam']==homeTeam]\n",
    "        input_values= input_values[input_values['AwayTeam']==awayTeam]\n",
    "        input_values= input_values.reset_index(drop=True)\n",
    "        input_values = input_values[:-1]\n",
    "        inputList.append(input_values.loc[:,['FTHG','FTAG']])"
   ]
  },
  {
   "cell_type": "code",
   "execution_count": 210,
   "metadata": {},
   "outputs": [],
   "source": [
    "#Methode um aus einer Liste eine Tensorliste mit Floatwerten generieren\n",
    "def dfToTensor(dfList, tensorList):\n",
    "    for df in dfList:\n",
    "        tensor = torch.FloatTensor(df.values).view(8)\n",
    "        tensorList.append(tensor)"
   ]
  },
  {
   "cell_type": "code",
   "execution_count": 211,
   "metadata": {},
   "outputs": [],
   "source": [
    "def dfToTensor_forTarget(dfList, tensorList):\n",
    "    for df in dfList:\n",
    "        tensor = torch.FloatTensor(df).view(3)\n",
    "        tensorList.append(tensor)"
   ]
  },
  {
   "cell_type": "code",
   "execution_count": 268,
   "metadata": {},
   "outputs": [],
   "source": [
    "#Outputvalues generieren, bei einem target als Vector\n",
    "def targetValuesVector(gameList, df_stats,targetList):\n",
    "    for match in gameList:\n",
    "        homeTeam = match.iat[0,0]\n",
    "        awayTeam = match.iat[0,1]\n",
    "        target_values= df_stats[df_stats['HomeTeam']==homeTeam]\n",
    "        target_values= target_values[target_values['AwayTeam']==awayTeam]\n",
    "        target_values= target_values.reset_index(drop=True)\n",
    "        target_values = target_values.tail(1)\n",
    "        target_values = target_values.loc[:,['FTHG','FTAG']]\n",
    "        homegoals = target_values.loc[:,['FTHG']].iloc[0]['FTHG']\n",
    "        awaygoals = target_values.loc[:,['FTAG']].iloc[0]['FTAG']\n",
    "        if homegoals > awaygoals:\n",
    "            df_target=[[1.,0.,0.]]\n",
    "        if homegoals == awaygoals:\n",
    "            df_target=[[0.,1.,0.]]\n",
    "        if homegoals < awaygoals:\n",
    "            df_target=[[0.,0.,1.]]\n",
    "        targetList.append(df_target)"
   ]
  },
  {
   "cell_type": "code",
   "execution_count": 269,
   "metadata": {},
   "outputs": [],
   "source": [
    "#Pfade Fabian\n",
    "#/Users/fabian-maltemoller/Developer/Ki/KI_Daten/09_10-13_14.csv\n",
    "#/Users/fabian-maltemoller/Developer/Ki/KI_Daten/10_11-14_15.csv\n",
    "#/Users/fabian-maltemoller/Developer/Ki/KI_Daten/11_12-15_16.csv\n",
    "#/Users/fabian-maltemoller/Developer/Ki/KI_Daten/12_13-16_17.csv\n",
    "#/Users/fabian-maltemoller/Developer/Ki/KI_Daten/13_14-17_18.csv\n",
    "#/Users/fabian-maltemoller/Developer/Ki/KI_Daten/14_15-18_19.csv\n",
    "\n",
    "#C:\\\\Users\\\\dusti\\\\iCloudDrive\\\\Studium WI\\\\WS2019\\\\KI\\\\csvData\\\\09_10-13_14.csv\n",
    "#C:\\\\Users\\\\dusti\\\\iCloudDrive\\\\Studium WI\\\\WS2019\\\\KI\\\\csvData\\\\10_11-14_15.csv\n",
    "#C:\\\\Users\\\\dusti\\\\iCloudDrive\\\\Studium WI\\\\WS2019\\\\KI\\\\csvData\\\\11_12-15_16.csv\n",
    "#C:\\\\Users\\\\dusti\\\\iCloudDrive\\\\Studium WI\\\\WS2019\\\\KI\\\\csvData\\\\12_13-16_17.csv\n",
    "#C:\\\\Users\\\\dusti\\\\iCloudDrive\\\\Studium WI\\\\WS2019\\\\KI\\\\csvData\\\\13_14-17_18.csv\n",
    "#C:\\\\Users\\\\dusti\\\\iCloudDrive\\\\Studium WI\\\\WS2019\\\\KI\\\\csvData\\\\14_15-18_19.csv"
   ]
  },
  {
   "cell_type": "code",
   "execution_count": 270,
   "metadata": {},
   "outputs": [],
   "source": [
    "def vectorInputTarget(path,inputListe,targetListe):\n",
    "    topTeams = pd.read_csv(path, sep=';')\n",
    "    df = pd.DataFrame(topTeams, columns = ['Date','HomeTeam','AwayTeam','FTHG','FTAG','FTR'])\n",
    "    df_names = df.drop_duplicates(['HomeTeam','AwayTeam'],keep = 'last')\n",
    "    df_names = df_names[['HomeTeam','AwayTeam']]\n",
    "    gameListe = []\n",
    "    for row in df_names.itertuples():\n",
    "        data = [[row.HomeTeam,row.AwayTeam]]\n",
    "        gameListe.append(pd.DataFrame(data))\n",
    "    inputValuesVector(gameListe, df,inputListe)\n",
    "    targetValuesVector(gameListe,df,targetListe)"
   ]
  },
  {
   "cell_type": "code",
   "execution_count": 271,
   "metadata": {},
   "outputs": [],
   "source": [
    "inputList_0910_1314_Vector = []\n",
    "targetList_0910_1314_Vector = []\n",
    "vectorInputTarget('/Users/fabian-maltemoller/Developer/Ki/KI_Daten/09_10-13_14.csv',inputList_0910_1314_Vector,targetList_0910_1314_Vector)\n",
    "#vectorInputTarget('C:\\\\Users\\\\dusti\\\\iCloudDrive\\\\Studium WI\\\\WS2019\\\\KI\\\\csvData\\\\09_10-13_14.csv',inputList_0910_1314,outputList_0910_1314)\n",
    "\n",
    "inputList_1011_1415_Vector = []\n",
    "targetList_1011_1415_Vector = []\n",
    "vectorInputTarget('/Users/fabian-maltemoller/Developer/Ki/KI_Daten/10_11-14_15.csv',inputList_1011_1415_Vector,targetList_1011_1415_Vector)\n",
    "#vectorInputTarget('C:\\\\Users\\\\dusti\\\\iCloudDrive\\\\Studium WI\\\\WS2019\\\\KI\\\\csvData\\\\10_11-14_15.csv',inputList_1011_1415,outputList_1011_1415)\n",
    "\n",
    "inputList_1112_1516_Vector = []\n",
    "targetList_1112_1516_Vector = []\n",
    "vectorInputTarget('/Users/fabian-maltemoller/Developer/Ki/KI_Daten/11_12-15_16.csv',inputList_1112_1516_Vector,targetList_1112_1516_Vector)\n",
    "#vectorInputTarget('C:\\\\Users\\\\dusti\\\\iCloudDrive\\\\Studium WI\\\\WS2019\\\\KI\\\\csvData\\\\11_12-15_16.csv',inputList_1112_1516,outputList_1112_1516)\n",
    "\n",
    "inputList_1213_1617_Vector = []\n",
    "targetList_1213_1617_Vector = []\n",
    "vectorInputTarget('/Users/fabian-maltemoller/Developer/Ki/KI_Daten/12_13-16_17.csv',inputList_1213_1617_Vector,targetList_1213_1617_Vector)\n",
    "#vectorInputTarget('C:\\\\Users\\\\dusti\\\\iCloudDrive\\\\Studium WI\\\\WS2019\\\\KI\\\\csvData\\\\12_13-16_17.csv',inputList_1213_1617,outputList_1213_1617)\n",
    "\n",
    "inputList_1314_1718_Vector = []\n",
    "targetList_1314_1718_Vector = []\n",
    "vectorInputTarget('/Users/fabian-maltemoller/Developer/Ki/KI_Daten/13_14-17_18.csv',inputList_1314_1718_Vector,targetList_1314_1718_Vector)\n",
    "#vectorInputTarget('C:\\\\Users\\\\dusti\\\\iCloudDrive\\\\Studium WI\\\\WS2019\\\\KI\\\\csvData\\\\13_14-17_18.csv',inputList_1314_1718,outputList_1314_1718)\n",
    "\n",
    "inputList_1415_1819_Vector = []\n",
    "targetList_1415_1819_Vector = []\n",
    "vectorInputTarget('/Users/fabian-maltemoller/Developer/Ki/KI_Daten/14_15-18_19.csv',inputList_1415_1819_Vector,targetList_1415_1819_Vector)\n",
    "#vectorInputTarget('C:\\\\Users\\\\dusti\\\\iCloudDrive\\\\Studium WI\\\\WS2019\\\\KI\\\\csvData\\\\14_15-18_19.csv',inputList_1415_1819,outputList_1415_1819)"
   ]
  },
  {
   "cell_type": "code",
   "execution_count": 272,
   "metadata": {},
   "outputs": [
    {
     "name": "stdout",
     "output_type": "stream",
     "text": [
      "11\n",
      "14\n",
      "32\n",
      "46\n",
      "54\n",
      "63\n",
      "85\n",
      "92\n",
      "97\n",
      "109\n",
      "116\n"
     ]
    }
   ],
   "source": [
    "#Leere Dataframes löschen\n",
    "for i in range(len(inputList_1415_1819_Vector)):\n",
    "    if inputList_1415_1819_Vector[i].empty:\n",
    "        print(i)"
   ]
  },
  {
   "cell_type": "code",
   "execution_count": 273,
   "metadata": {},
   "outputs": [
    {
     "name": "stdout",
     "output_type": "stream",
     "text": [
      "110\n",
      "110\n"
     ]
    }
   ],
   "source": [
    "inputList_1415_1819_Vector.pop(11)\n",
    "inputList_1415_1819_Vector.pop(13)\n",
    "inputList_1415_1819_Vector.pop(30)\n",
    "inputList_1415_1819_Vector.pop(43)\n",
    "inputList_1415_1819_Vector.pop(50)\n",
    "inputList_1415_1819_Vector.pop(58)\n",
    "inputList_1415_1819_Vector.pop(79)\n",
    "inputList_1415_1819_Vector.pop(85)\n",
    "inputList_1415_1819_Vector.pop(89)\n",
    "inputList_1415_1819_Vector.pop(100)\n",
    "inputList_1415_1819_Vector.pop(106)\n",
    "\n",
    "targetList_1415_1819_Vector.pop(11)\n",
    "targetList_1415_1819_Vector.pop(13)\n",
    "targetList_1415_1819_Vector.pop(30)\n",
    "targetList_1415_1819_Vector.pop(43)\n",
    "targetList_1415_1819_Vector.pop(50)\n",
    "targetList_1415_1819_Vector.pop(58)\n",
    "targetList_1415_1819_Vector.pop(79)\n",
    "targetList_1415_1819_Vector.pop(85)\n",
    "targetList_1415_1819_Vector.pop(89)\n",
    "targetList_1415_1819_Vector.pop(100)\n",
    "targetList_1415_1819_Vector.pop(106)\n",
    "\n",
    "print(len(inputList_1415_1819_Vector))\n",
    "print(len(targetList_1415_1819_Vector))"
   ]
  },
  {
   "cell_type": "code",
   "execution_count": 274,
   "metadata": {},
   "outputs": [],
   "source": [
    "train_input_tensor = []\n",
    "dfToTensor(inputList_0910_1314_Vector,train_input_tensor)\n",
    "dfToTensor(inputList_1011_1415_Vector,train_input_tensor)\n",
    "dfToTensor(inputList_1112_1516_Vector,train_input_tensor)\n",
    "dfToTensor(inputList_1213_1617_Vector,train_input_tensor)\n",
    "dfToTensor(inputList_1314_1718_Vector,train_input_tensor)\n",
    "\n",
    "test_input_tensor= []\n",
    "dfToTensor(inputList_1415_1819_Vector,test_input_tensor)"
   ]
  },
  {
   "cell_type": "code",
   "execution_count": 275,
   "metadata": {},
   "outputs": [],
   "source": [
    "train_target_tensor = []\n",
    "dfToTensor_forTarget(targetList_0910_1314_Vector,train_target_tensor)\n",
    "dfToTensor_forTarget(targetList_1011_1415_Vector,train_target_tensor)\n",
    "dfToTensor_forTarget(targetList_1112_1516_Vector,train_target_tensor)\n",
    "dfToTensor_forTarget(targetList_1213_1617_Vector,train_target_tensor)\n",
    "dfToTensor_forTarget(targetList_1314_1718_Vector,train_target_tensor)\n",
    "\n",
    "test_target_tensor = []\n",
    "dfToTensor_forTarget(targetList_1415_1819_Vector,test_target_tensor)"
   ]
  },
  {
   "cell_type": "code",
   "execution_count": 276,
   "metadata": {},
   "outputs": [
    {
     "name": "stdout",
     "output_type": "stream",
     "text": [
      "710\n",
      "710\n",
      "110\n",
      "110\n"
     ]
    }
   ],
   "source": [
    "print(len(train_input_tensor))\n",
    "print(len(train_target_tensor))\n",
    "print(len(test_input_tensor))\n",
    "print(len(test_target_tensor))"
   ]
  },
  {
   "cell_type": "code",
   "execution_count": 277,
   "metadata": {},
   "outputs": [],
   "source": [
    "class LoadData(Dataset):\n",
    "    def __init__(self, inputs, targets):\n",
    "        self.inputs = inputs\n",
    "        self.targets = targets\n",
    "        \n",
    "\n",
    "    def __len__(self):\n",
    "        return len(self.targets)\n",
    "\n",
    "    def __getitem__(self, index):\n",
    "        x = self.inputs[index]\n",
    "        y = self.targets[index]\n",
    "        return x,y\n"
   ]
  },
  {
   "cell_type": "code",
   "execution_count": 278,
   "metadata": {},
   "outputs": [],
   "source": [
    "train_dataset = LoadData(train_input_tensor,train_target_tensor)\n",
    "test_dataset = LoadData(test_input_tensor,test_target_tensor)"
   ]
  },
  {
   "cell_type": "code",
   "execution_count": 279,
   "metadata": {},
   "outputs": [],
   "source": [
    "train_loader = DataLoader(train_dataset, batch_size = 1, shuffle = True)\n",
    "test_loader = DataLoader(test_dataset, batch_size = 1, shuffle = True)"
   ]
  },
  {
   "cell_type": "code",
   "execution_count": 285,
   "metadata": {},
   "outputs": [],
   "source": [
    "net = NeuronalNetVector()"
   ]
  },
  {
   "cell_type": "code",
   "execution_count": 286,
   "metadata": {},
   "outputs": [],
   "source": [
    "criterion = nn.L1Loss()\n",
    "criterion1 = nn.MSELoss()"
   ]
  },
  {
   "cell_type": "code",
   "execution_count": 287,
   "metadata": {},
   "outputs": [],
   "source": [
    "optimizer = torch.optim.SGD(net.parameters(),lr =0.001, momentum = 0.7)\n",
    "optimizer1 = torch.optim.Adam(net.parameters(), lr=0.001)"
   ]
  },
  {
   "cell_type": "code",
   "execution_count": 292,
   "metadata": {},
   "outputs": [
    {
     "name": "stdout",
     "output_type": "stream",
     "text": [
      "1 355 0.6666666865348816\n",
      "1 710 0.6666666865348816\n",
      "2 355 0.6666666865348816\n",
      "2 710 0.6666666865348816\n",
      "3 355 0.6666666865348816\n",
      "3 710 0.6666666865348816\n",
      "4 355 0.6666666865348816\n",
      "4 710 0.6666666865348816\n",
      "5 355 0.6666666865348816\n",
      "5 710 0.6666666865348816\n",
      "6 355 0.6666666865348816\n",
      "6 710 0.6666666865348816\n",
      "7 355 0.6666666865348816\n",
      "7 710 0.6666666865348816\n",
      "8 355 0.6666666865348816\n",
      "8 710 0.6666666865348816\n",
      "9 355 0.6666666865348816\n",
      "9 710 0.6666666865348816\n",
      "10 355 0.6666666865348816\n",
      "10 710 0.6666666865348816\n",
      "11 355 0.6666666865348816\n",
      "11 710 0.6666666865348816\n",
      "12 355 0.6666666865348816\n",
      "12 710 0.6666666865348816\n",
      "13 355 0.6666666865348816\n",
      "13 710 0.6666666865348816\n",
      "14 355 0.6666666865348816\n",
      "14 710 0.6666666865348816\n",
      "15 355 0.6666666865348816\n",
      "15 710 0.6666666865348816\n",
      "16 355 0.6666666865348816\n",
      "16 710 0.6666666865348816\n",
      "17 355 0.6666666865348816\n",
      "17 710 0.6666666865348816\n",
      "18 355 0.6666666865348816\n",
      "18 710 0.6666666865348816\n",
      "19 355 0.6666666865348816\n",
      "19 710 0.6666666865348816\n",
      "20 355 0.6666666865348816\n",
      "20 710 0.6666666865348816\n",
      "21 355 0.6666666865348816\n",
      "21 710 0.6666666865348816\n",
      "22 355 0.6666666865348816\n",
      "22 710 0.6666666865348816\n",
      "23 355 0.6666666865348816\n",
      "23 710 0.6666666865348816\n",
      "24 355 0.6666666865348816\n",
      "24 710 0.6666666865348816\n",
      "25 355 0.6666666865348816\n",
      "25 710 0.6666666865348816\n",
      "26 355 0.6666666865348816\n",
      "26 710 0.6666666865348816\n",
      "27 355 0.6666666865348816\n",
      "27 710 0.6666666865348816\n",
      "28 355 0.6666666865348816\n",
      "28 710 0.6666666865348816\n",
      "29 355 0.6666666865348816\n",
      "29 710 0.6666666865348816\n",
      "30 355 0.6666666865348816\n",
      "30 710 0.6666666865348816\n",
      "31 355 0.6666666865348816\n",
      "31 710 0.6666666865348816\n",
      "32 355 0.6666666865348816\n",
      "32 710 0.6666666865348816\n",
      "33 355 0.6666666865348816\n",
      "33 710 0.6666666865348816\n",
      "34 355 0.6666666865348816\n",
      "34 710 0.6666666865348816\n",
      "35 355 0.6666666865348816\n",
      "35 710 0.6666666865348816\n",
      "36 355 0.6666666865348816\n",
      "36 710 0.6666666865348816\n",
      "37 355 0.6666666865348816\n",
      "37 710 0.6666666865348816\n",
      "38 355 0.6666666865348816\n",
      "38 710 0.6666666865348816\n",
      "39 355 0.6666666865348816\n",
      "39 710 0.6666666865348816\n",
      "40 355 0.6666666865348816\n",
      "40 710 0.6666666865348816\n",
      "41 355 0.6666666865348816\n",
      "41 710 0.6666666865348816\n",
      "42 355 0.6666666865348816\n",
      "42 710 0.6666666865348816\n",
      "43 355 0.6666666865348816\n",
      "43 710 0.6666666865348816\n",
      "44 355 0.6666666865348816\n",
      "44 710 0.6666666865348816\n",
      "45 355 0.6666666865348816\n",
      "45 710 0.6666666865348816\n",
      "46 355 0.6666666865348816\n",
      "46 710 0.6666666865348816\n",
      "47 355 0.6666666865348816\n",
      "47 710 0.6666666865348816\n",
      "48 355 0.6666666865348816\n",
      "48 710 0.6666666865348816\n",
      "49 355 0.6666666865348816\n",
      "49 710 0.6666666865348816\n",
      "50 355 0.6666666865348816\n",
      "50 710 0.6666666865348816\n"
     ]
    }
   ],
   "source": [
    "for epoch in range(50): \n",
    "    running_loss = 0.0\n",
    "    for i, data in enumerate(train_loader , 0): \n",
    "        inputs , targets = data \n",
    "        outputs = net(inputs)\n",
    "        loss = criterion1(outputs , targets) \n",
    "        loss.backward()\n",
    "        optimizer1.step()\n",
    "        running_loss += loss.item()\n",
    "        if i % 355 == 354:\n",
    "            print (epoch + 1 , i+1 , running_loss / 355)\n",
    "            running_loss = 0.0"
   ]
  },
  {
   "cell_type": "code",
   "execution_count": 284,
   "metadata": {},
   "outputs": [
    {
     "name": "stdout",
     "output_type": "stream",
     "text": [
      "30.909090909090907\n"
     ]
    }
   ],
   "source": [
    "correct = 0\n",
    "total = 0\n",
    "with torch.no_grad():\n",
    "    for data in test_loader:\n",
    "        inputs , labels = data\n",
    "        outputs = net(inputs)\n",
    "        predicted = torch.argmax(outputs) \n",
    "        if predicted == torch.argmax(labels):\n",
    "            correct = correct + 1\n",
    "print(100*(correct/len(test_loader)))"
   ]
  },
  {
   "cell_type": "code",
   "execution_count": 235,
   "metadata": {},
   "outputs": [
    {
     "name": "stdout",
     "output_type": "stream",
     "text": [
      "55\n"
     ]
    }
   ],
   "source": [
    "a = 0\n",
    "for data in test_loader:\n",
    "    a = a+1\n",
    "print(a)"
   ]
  },
  {
   "cell_type": "code",
   "execution_count": null,
   "metadata": {},
   "outputs": [],
   "source": []
  }
 ],
 "metadata": {
  "kernelspec": {
   "display_name": "Python 3",
   "language": "python",
   "name": "python3"
  },
  "language_info": {
   "codemirror_mode": {
    "name": "ipython",
    "version": 3
   },
   "file_extension": ".py",
   "mimetype": "text/x-python",
   "name": "python",
   "nbconvert_exporter": "python",
   "pygments_lexer": "ipython3",
   "version": "3.7.4"
  }
 },
 "nbformat": 4,
 "nbformat_minor": 4
}
