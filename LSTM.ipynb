{
 "cells": [
  {
   "cell_type": "code",
   "execution_count": 2,
   "metadata": {},
   "outputs": [],
   "source": [
    "import torch\n",
    "import torch.nn as nn\n",
    "import torch.nn.functional as F\n",
    "import torch.optim as optim\n",
    "from torch.utils.data import Dataset, DataLoader\n",
    "import pandas as pd\n",
    "import numpy as np\n",
    "from torch import optim\n",
    "from sklearn import preprocessing\n",
    "import math\n",
    "from sklearn.metrics import mean_squared_error, mean_absolute_error\n",
    "from sklearn.metrics import median_absolute_error"
   ]
  },
  {
   "cell_type": "code",
   "execution_count": 3,
   "metadata": {},
   "outputs": [],
   "source": [
    "import matplotlib"
   ]
  },
  {
   "cell_type": "code",
   "execution_count": 4,
   "metadata": {},
   "outputs": [
    {
     "ename": "NameError",
     "evalue": "name 'nb_setup' is not defined",
     "output_type": "error",
     "traceback": [
      "\u001b[1;31m---------------------------------------------------------------------------\u001b[0m",
      "\u001b[1;31mNameError\u001b[0m                                 Traceback (most recent call last)",
      "\u001b[1;32m<ipython-input-4-bd09aabf523d>\u001b[0m in \u001b[0;36m<module>\u001b[1;34m\u001b[0m\n\u001b[1;32m----> 1\u001b[1;33m \u001b[0mpd\u001b[0m \u001b[1;33m=\u001b[0m \u001b[0mnb_setup\u001b[0m\u001b[1;33m.\u001b[0m\u001b[0msetup_pandas\u001b[0m\u001b[1;33m(\u001b[0m\u001b[0mescape_latex\u001b[0m \u001b[1;33m=\u001b[0m \u001b[1;32mFalse\u001b[0m\u001b[1;33m)\u001b[0m\u001b[1;33m\u001b[0m\u001b[1;33m\u001b[0m\u001b[0m\n\u001b[0m",
      "\u001b[1;31mNameError\u001b[0m: name 'nb_setup' is not defined"
     ]
    }
   ],
   "source": [
    "pd = nb_setup.setup_pandas(escape_latex = False)"
   ]
  },
  {
   "cell_type": "markdown",
   "metadata": {},
   "source": [
    "### Daten einlesen"
   ]
  },
  {
   "cell_type": "code",
   "execution_count": 4,
   "metadata": {},
   "outputs": [],
   "source": [
    "rawdat = pd.read_csv('/Users/fabian-maltemoller/Developer/Ki/KI_Daten/rawdat.csv', sep = ';')"
   ]
  },
  {
   "cell_type": "code",
   "execution_count": 5,
   "metadata": {},
   "outputs": [],
   "source": [
    "rawdat = rawdat[['HomeTeam','AwayTeam','FTHG','FTAG','FTR','HTR','HS','AS','HST','AST']]"
   ]
  },
  {
   "cell_type": "code",
   "execution_count": 6,
   "metadata": {},
   "outputs": [
    {
     "data": {
      "text/html": [
       "<div>\n",
       "<style scoped>\n",
       "    .dataframe tbody tr th:only-of-type {\n",
       "        vertical-align: middle;\n",
       "    }\n",
       "\n",
       "    .dataframe tbody tr th {\n",
       "        vertical-align: top;\n",
       "    }\n",
       "\n",
       "    .dataframe thead th {\n",
       "        text-align: right;\n",
       "    }\n",
       "</style>\n",
       "<table border=\"1\" class=\"dataframe\">\n",
       "  <thead>\n",
       "    <tr style=\"text-align: right;\">\n",
       "      <th></th>\n",
       "      <th>HomeTeam</th>\n",
       "      <th>AwayTeam</th>\n",
       "      <th>FTHG</th>\n",
       "      <th>FTAG</th>\n",
       "      <th>FTR</th>\n",
       "      <th>HTR</th>\n",
       "      <th>HS</th>\n",
       "      <th>AS</th>\n",
       "      <th>HST</th>\n",
       "      <th>AST</th>\n",
       "    </tr>\n",
       "  </thead>\n",
       "  <tbody>\n",
       "    <tr>\n",
       "      <th>0</th>\n",
       "      <td>Aston Villa</td>\n",
       "      <td>Wigan</td>\n",
       "      <td>0</td>\n",
       "      <td>2</td>\n",
       "      <td>A</td>\n",
       "      <td>A</td>\n",
       "      <td>11</td>\n",
       "      <td>14</td>\n",
       "      <td>5</td>\n",
       "      <td>7</td>\n",
       "    </tr>\n",
       "    <tr>\n",
       "      <th>1</th>\n",
       "      <td>Blackburn</td>\n",
       "      <td>Man City</td>\n",
       "      <td>0</td>\n",
       "      <td>2</td>\n",
       "      <td>A</td>\n",
       "      <td>A</td>\n",
       "      <td>17</td>\n",
       "      <td>8</td>\n",
       "      <td>9</td>\n",
       "      <td>5</td>\n",
       "    </tr>\n",
       "    <tr>\n",
       "      <th>2</th>\n",
       "      <td>Bolton</td>\n",
       "      <td>Sunderland</td>\n",
       "      <td>0</td>\n",
       "      <td>1</td>\n",
       "      <td>A</td>\n",
       "      <td>A</td>\n",
       "      <td>11</td>\n",
       "      <td>20</td>\n",
       "      <td>3</td>\n",
       "      <td>13</td>\n",
       "    </tr>\n",
       "    <tr>\n",
       "      <th>3</th>\n",
       "      <td>Chelsea</td>\n",
       "      <td>Hull</td>\n",
       "      <td>2</td>\n",
       "      <td>1</td>\n",
       "      <td>H</td>\n",
       "      <td>D</td>\n",
       "      <td>26</td>\n",
       "      <td>7</td>\n",
       "      <td>12</td>\n",
       "      <td>3</td>\n",
       "    </tr>\n",
       "    <tr>\n",
       "      <th>4</th>\n",
       "      <td>Everton</td>\n",
       "      <td>Arsenal</td>\n",
       "      <td>1</td>\n",
       "      <td>6</td>\n",
       "      <td>A</td>\n",
       "      <td>A</td>\n",
       "      <td>8</td>\n",
       "      <td>15</td>\n",
       "      <td>5</td>\n",
       "      <td>9</td>\n",
       "    </tr>\n",
       "  </tbody>\n",
       "</table>\n",
       "</div>"
      ],
      "text/plain": [
       "      HomeTeam    AwayTeam  FTHG  FTAG FTR HTR  HS  AS  HST  AST\n",
       "0  Aston Villa       Wigan     0     2   A   A  11  14    5    7\n",
       "1    Blackburn    Man City     0     2   A   A  17   8    9    5\n",
       "2       Bolton  Sunderland     0     1   A   A  11  20    3   13\n",
       "3      Chelsea        Hull     2     1   H   D  26   7   12    3\n",
       "4      Everton     Arsenal     1     6   A   A   8  15    5    9"
      ]
     },
     "execution_count": 6,
     "metadata": {},
     "output_type": "execute_result"
    }
   ],
   "source": [
    "rawdat.head()"
   ]
  },
  {
   "cell_type": "markdown",
   "metadata": {},
   "source": [
    "### Daten verarbeiten und kodieren"
   ]
  },
  {
   "cell_type": "code",
   "execution_count": 7,
   "metadata": {},
   "outputs": [],
   "source": [
    "pd.options.mode.chained_assignment = None  # default='warn'"
   ]
  },
  {
   "cell_type": "code",
   "execution_count": null,
   "metadata": {},
   "outputs": [],
   "source": [
    "#Test zum pushen"
   ]
  },
  {
   "cell_type": "code",
   "execution_count": 8,
   "metadata": {},
   "outputs": [],
   "source": [
    "# Methode setzt Punkte für Heim und Auswärtsteam und erstellt neue Spalten\n",
    "def windrawloseHomeAway(data):\n",
    "    data = data[['HomeTeam', 'AwayTeam', 'FTR']]\n",
    "    data['FTRH']= pd.Series(np.zeros(len(data['FTR'])))\n",
    "    data['FTRA']= pd.Series(np.zeros(len(data['FTR'])))\n",
    "    i = 0\n",
    "    ftrH = 0\n",
    "    ftrA = 0\n",
    "    for row in data.itertuples():\n",
    "        ftr = data.iloc[i]['FTR']\n",
    "        if (ftr == 'H'):\n",
    "            ftrH = 3\n",
    "            ftrA = 0\n",
    "        if (ftr == 'A'):\n",
    "            ftrH = 0\n",
    "            ftrA = 3\n",
    "        if (ftr == 'D'):\n",
    "            ftrH = 1\n",
    "            ftrA = 1\n",
    "        data.set_value(i,'FTRH', ftrH)\n",
    "        data.set_value(i, 'FTRA', ftrA)\n",
    "        i = i+1\n",
    "    return data[['HomeTeam', 'AwayTeam', 'FTRH', 'FTRA','FTR']]\n",
    "    "
   ]
  },
  {
   "cell_type": "code",
   "execution_count": 9,
   "metadata": {},
   "outputs": [
    {
     "name": "stderr",
     "output_type": "stream",
     "text": [
      "/Users/fabian-maltemoller/Developer/Anaconda/anaconda3/envs/KiTipico/lib/python3.7/site-packages/ipykernel_launcher.py:20: FutureWarning: set_value is deprecated and will be removed in a future release. Please use .at[] or .iat[] accessors instead\n",
      "/Users/fabian-maltemoller/Developer/Anaconda/anaconda3/envs/KiTipico/lib/python3.7/site-packages/ipykernel_launcher.py:21: FutureWarning: set_value is deprecated and will be removed in a future release. Please use .at[] or .iat[] accessors instead\n"
     ]
    }
   ],
   "source": [
    "new_df = windrawloseHomeAway(rawdat)"
   ]
  },
  {
   "cell_type": "code",
   "execution_count": 10,
   "metadata": {},
   "outputs": [],
   "source": [
    "homeP = new_df['FTRH']\n",
    "awayP = new_df['FTRA']"
   ]
  },
  {
   "cell_type": "code",
   "execution_count": 11,
   "metadata": {},
   "outputs": [
    {
     "name": "stdout",
     "output_type": "stream",
     "text": [
      "(3800, 1)\n",
      "(3800, 1)\n"
     ]
    }
   ],
   "source": [
    "# Dimensionalität richten\n",
    "homeP= np.resize(homeP,(homeP.size, 1))\n",
    "awayP = np.resize(awayP,(awayP.size,1))\n",
    "print(homeP.shape)\n",
    "print(awayP.shape)"
   ]
  },
  {
   "cell_type": "markdown",
   "metadata": {},
   "source": [
    "#### Punkte zwischen 0 und 1 skalieren"
   ]
  },
  {
   "cell_type": "code",
   "execution_count": 12,
   "metadata": {},
   "outputs": [],
   "source": [
    "min_max_scaler = preprocessing.MinMaxScaler()\n",
    "homeP_scaled = min_max_scaler.fit_transform(homeP)"
   ]
  },
  {
   "cell_type": "code",
   "execution_count": 13,
   "metadata": {},
   "outputs": [],
   "source": [
    "min_max_scaler = preprocessing.MinMaxScaler()\n",
    "awayP_scaled = min_max_scaler.fit_transform(awayP)"
   ]
  },
  {
   "cell_type": "code",
   "execution_count": 14,
   "metadata": {},
   "outputs": [
    {
     "data": {
      "text/html": [
       "<div>\n",
       "<style scoped>\n",
       "    .dataframe tbody tr th:only-of-type {\n",
       "        vertical-align: middle;\n",
       "    }\n",
       "\n",
       "    .dataframe tbody tr th {\n",
       "        vertical-align: top;\n",
       "    }\n",
       "\n",
       "    .dataframe thead th {\n",
       "        text-align: right;\n",
       "    }\n",
       "</style>\n",
       "<table border=\"1\" class=\"dataframe\">\n",
       "  <thead>\n",
       "    <tr style=\"text-align: right;\">\n",
       "      <th></th>\n",
       "      <th>HomeTeam</th>\n",
       "      <th>AwayTeam</th>\n",
       "      <th>FTRH</th>\n",
       "      <th>FTRA</th>\n",
       "      <th>FTR</th>\n",
       "      <th>SPH</th>\n",
       "      <th>SPA</th>\n",
       "    </tr>\n",
       "  </thead>\n",
       "  <tbody>\n",
       "    <tr>\n",
       "      <th>0</th>\n",
       "      <td>Aston Villa</td>\n",
       "      <td>Wigan</td>\n",
       "      <td>0.0</td>\n",
       "      <td>3.0</td>\n",
       "      <td>A</td>\n",
       "      <td>0.0</td>\n",
       "      <td>1.0</td>\n",
       "    </tr>\n",
       "    <tr>\n",
       "      <th>1</th>\n",
       "      <td>Blackburn</td>\n",
       "      <td>Man City</td>\n",
       "      <td>0.0</td>\n",
       "      <td>3.0</td>\n",
       "      <td>A</td>\n",
       "      <td>0.0</td>\n",
       "      <td>1.0</td>\n",
       "    </tr>\n",
       "    <tr>\n",
       "      <th>2</th>\n",
       "      <td>Bolton</td>\n",
       "      <td>Sunderland</td>\n",
       "      <td>0.0</td>\n",
       "      <td>3.0</td>\n",
       "      <td>A</td>\n",
       "      <td>0.0</td>\n",
       "      <td>1.0</td>\n",
       "    </tr>\n",
       "    <tr>\n",
       "      <th>3</th>\n",
       "      <td>Chelsea</td>\n",
       "      <td>Hull</td>\n",
       "      <td>3.0</td>\n",
       "      <td>0.0</td>\n",
       "      <td>H</td>\n",
       "      <td>1.0</td>\n",
       "      <td>0.0</td>\n",
       "    </tr>\n",
       "    <tr>\n",
       "      <th>4</th>\n",
       "      <td>Everton</td>\n",
       "      <td>Arsenal</td>\n",
       "      <td>0.0</td>\n",
       "      <td>3.0</td>\n",
       "      <td>A</td>\n",
       "      <td>0.0</td>\n",
       "      <td>1.0</td>\n",
       "    </tr>\n",
       "  </tbody>\n",
       "</table>\n",
       "</div>"
      ],
      "text/plain": [
       "      HomeTeam    AwayTeam  FTRH  FTRA FTR  SPH  SPA\n",
       "0  Aston Villa       Wigan   0.0   3.0   A  0.0  1.0\n",
       "1    Blackburn    Man City   0.0   3.0   A  0.0  1.0\n",
       "2       Bolton  Sunderland   0.0   3.0   A  0.0  1.0\n",
       "3      Chelsea        Hull   3.0   0.0   H  1.0  0.0\n",
       "4      Everton     Arsenal   0.0   3.0   A  0.0  1.0"
      ]
     },
     "execution_count": 14,
     "metadata": {},
     "output_type": "execute_result"
    }
   ],
   "source": [
    "df_scale_homeP = pd.DataFrame(homeP_scaled)\n",
    "df_scale_awayP = pd.DataFrame(awayP_scaled)\n",
    "new_df['SPH'] = df_scale_homeP\n",
    "new_df['SPA'] = df_scale_awayP\n",
    "new_df.head()"
   ]
  },
  {
   "cell_type": "code",
   "execution_count": 15,
   "metadata": {},
   "outputs": [
    {
     "data": {
      "text/plain": [
       "array([0.33333333])"
      ]
     },
     "execution_count": 15,
     "metadata": {},
     "output_type": "execute_result"
    }
   ],
   "source": [
    "min_max_scaler.scale_"
   ]
  },
  {
   "cell_type": "code",
   "execution_count": 16,
   "metadata": {},
   "outputs": [
    {
     "data": {
      "text/plain": [
       "True"
      ]
     },
     "execution_count": 16,
     "metadata": {},
     "output_type": "execute_result"
    }
   ],
   "source": [
    "new_df['SPH'][0]/min_max_scaler.scale_[0] == new_df['FTRH'][0]"
   ]
  },
  {
   "cell_type": "code",
   "execution_count": 17,
   "metadata": {},
   "outputs": [
    {
     "data": {
      "text/html": [
       "<div>\n",
       "<style scoped>\n",
       "    .dataframe tbody tr th:only-of-type {\n",
       "        vertical-align: middle;\n",
       "    }\n",
       "\n",
       "    .dataframe tbody tr th {\n",
       "        vertical-align: top;\n",
       "    }\n",
       "\n",
       "    .dataframe thead th {\n",
       "        text-align: right;\n",
       "    }\n",
       "</style>\n",
       "<table border=\"1\" class=\"dataframe\">\n",
       "  <thead>\n",
       "    <tr style=\"text-align: right;\">\n",
       "      <th></th>\n",
       "      <th>HomeTeam</th>\n",
       "      <th>AwayTeam</th>\n",
       "      <th>FTRH</th>\n",
       "      <th>FTRA</th>\n",
       "      <th>FTR</th>\n",
       "      <th>SPH</th>\n",
       "      <th>SPA</th>\n",
       "    </tr>\n",
       "  </thead>\n",
       "  <tbody>\n",
       "    <tr>\n",
       "      <th>0</th>\n",
       "      <td>Aston Villa</td>\n",
       "      <td>Wigan</td>\n",
       "      <td>0.0</td>\n",
       "      <td>3.0</td>\n",
       "      <td>A</td>\n",
       "      <td>0.0</td>\n",
       "      <td>1.0</td>\n",
       "    </tr>\n",
       "    <tr>\n",
       "      <th>1</th>\n",
       "      <td>Blackburn</td>\n",
       "      <td>Man City</td>\n",
       "      <td>0.0</td>\n",
       "      <td>3.0</td>\n",
       "      <td>A</td>\n",
       "      <td>0.0</td>\n",
       "      <td>1.0</td>\n",
       "    </tr>\n",
       "    <tr>\n",
       "      <th>2</th>\n",
       "      <td>Bolton</td>\n",
       "      <td>Sunderland</td>\n",
       "      <td>0.0</td>\n",
       "      <td>3.0</td>\n",
       "      <td>A</td>\n",
       "      <td>0.0</td>\n",
       "      <td>1.0</td>\n",
       "    </tr>\n",
       "    <tr>\n",
       "      <th>3</th>\n",
       "      <td>Chelsea</td>\n",
       "      <td>Hull</td>\n",
       "      <td>3.0</td>\n",
       "      <td>0.0</td>\n",
       "      <td>H</td>\n",
       "      <td>1.0</td>\n",
       "      <td>0.0</td>\n",
       "    </tr>\n",
       "    <tr>\n",
       "      <th>4</th>\n",
       "      <td>Everton</td>\n",
       "      <td>Arsenal</td>\n",
       "      <td>0.0</td>\n",
       "      <td>3.0</td>\n",
       "      <td>A</td>\n",
       "      <td>0.0</td>\n",
       "      <td>1.0</td>\n",
       "    </tr>\n",
       "  </tbody>\n",
       "</table>\n",
       "</div>"
      ],
      "text/plain": [
       "      HomeTeam    AwayTeam  FTRH  FTRA FTR  SPH  SPA\n",
       "0  Aston Villa       Wigan   0.0   3.0   A  0.0  1.0\n",
       "1    Blackburn    Man City   0.0   3.0   A  0.0  1.0\n",
       "2       Bolton  Sunderland   0.0   3.0   A  0.0  1.0\n",
       "3      Chelsea        Hull   3.0   0.0   H  1.0  0.0\n",
       "4      Everton     Arsenal   0.0   3.0   A  0.0  1.0"
      ]
     },
     "execution_count": 17,
     "metadata": {},
     "output_type": "execute_result"
    }
   ],
   "source": [
    "new_df.head()"
   ]
  },
  {
   "cell_type": "markdown",
   "metadata": {},
   "source": [
    "### Input und Targets generieren"
   ]
  },
  {
   "cell_type": "code",
   "execution_count": 18,
   "metadata": {},
   "outputs": [],
   "source": [
    "input = []\n",
    "target= []\n",
    "for row in new_df.itertuples():\n",
    "    inputdf = pd.DataFrame()\n",
    "    inputdf_1 = pd.DataFrame()\n",
    "    homeTeam = row.HomeTeam\n",
    "    awayTeam = row.AwayTeam\n",
    "    index = row.Index\n",
    "    df_home = new_df[new_df['HomeTeam']==homeTeam]\n",
    "    df_home = df_home.truncate(after= index)\n",
    "    df_home.drop(index, inplace=True)\n",
    "    inputdf['H'] = df_home.tail(20)['SPH']\n",
    "    if len(inputdf.index) == 20:\n",
    "        df_away = new_df[new_df['AwayTeam']==awayTeam]\n",
    "        df_away = df_away.truncate(after= index)\n",
    "        df_away.drop(index, inplace=True)\n",
    "        inputdf_1['A']= df_away.tail(20)['SPA']\n",
    "        if len(inputdf_1.index) == 20:\n",
    "            inputdf['A']= inputdf_1['A'].values\n",
    "            inputlist = inputdf.values.tolist()\n",
    "            target_df = row.FTR\n",
    "            input.append(inputlist)\n",
    "            target.append(target_df)"
   ]
  },
  {
   "cell_type": "code",
   "execution_count": 19,
   "metadata": {},
   "outputs": [
    {
     "data": {
      "text/plain": [
       "[[0.0, 1.0],\n",
       " [0.3333333333333333, 0.0],\n",
       " [1.0, 0.0],\n",
       " [1.0, 1.0],\n",
       " [1.0, 0.3333333333333333],\n",
       " [1.0, 1.0],\n",
       " [0.3333333333333333, 0.0],\n",
       " [0.3333333333333333, 1.0],\n",
       " [0.0, 0.3333333333333333],\n",
       " [0.3333333333333333, 1.0],\n",
       " [1.0, 1.0],\n",
       " [1.0, 0.3333333333333333],\n",
       " [1.0, 0.0],\n",
       " [1.0, 1.0],\n",
       " [0.3333333333333333, 1.0],\n",
       " [1.0, 0.3333333333333333],\n",
       " [0.3333333333333333, 0.0],\n",
       " [0.0, 0.0],\n",
       " [1.0, 0.0],\n",
       " [1.0, 0.3333333333333333]]"
      ]
     },
     "execution_count": 19,
     "metadata": {},
     "output_type": "execute_result"
    }
   ],
   "source": [
    "input[0]"
   ]
  },
  {
   "cell_type": "code",
   "execution_count": 20,
   "metadata": {},
   "outputs": [
    {
     "data": {
      "text/plain": [
       "True"
      ]
     },
     "execution_count": 20,
     "metadata": {},
     "output_type": "execute_result"
    }
   ],
   "source": [
    "len(input) == len(target)"
   ]
  },
  {
   "cell_type": "code",
   "execution_count": 21,
   "metadata": {},
   "outputs": [
    {
     "data": {
      "text/plain": [
       "2789"
      ]
     },
     "execution_count": 21,
     "metadata": {},
     "output_type": "execute_result"
    }
   ],
   "source": [
    "len(input)"
   ]
  },
  {
   "cell_type": "code",
   "execution_count": 22,
   "metadata": {},
   "outputs": [],
   "source": [
    "for input_set in input:\n",
    "    for time_step in input_set:\n",
    "        dif = time_step[0]-time_step[1]\n",
    "        del time_step[1]\n",
    "        time_step[0] = dif"
   ]
  },
  {
   "cell_type": "code",
   "execution_count": 23,
   "metadata": {},
   "outputs": [
    {
     "data": {
      "text/plain": [
       "[[-1.0],\n",
       " [0.3333333333333333],\n",
       " [1.0],\n",
       " [0.0],\n",
       " [0.6666666666666667],\n",
       " [0.0],\n",
       " [0.3333333333333333],\n",
       " [-0.6666666666666667],\n",
       " [-0.3333333333333333],\n",
       " [-0.6666666666666667],\n",
       " [0.0],\n",
       " [0.6666666666666667],\n",
       " [1.0],\n",
       " [0.0],\n",
       " [-0.6666666666666667],\n",
       " [0.6666666666666667],\n",
       " [0.3333333333333333],\n",
       " [0.0],\n",
       " [1.0],\n",
       " [0.6666666666666667]]"
      ]
     },
     "execution_count": 23,
     "metadata": {},
     "output_type": "execute_result"
    }
   ],
   "source": [
    "input[0]"
   ]
  },
  {
   "cell_type": "code",
   "execution_count": 24,
   "metadata": {},
   "outputs": [
    {
     "data": {
      "text/plain": [
       "array([[0.        ],\n",
       "       [0.66666667],\n",
       "       [1.        ],\n",
       "       [0.5       ],\n",
       "       [0.83333333],\n",
       "       [0.5       ],\n",
       "       [0.66666667],\n",
       "       [0.16666667],\n",
       "       [0.33333333],\n",
       "       [0.16666667],\n",
       "       [0.5       ],\n",
       "       [0.83333333],\n",
       "       [1.        ],\n",
       "       [0.5       ],\n",
       "       [0.16666667],\n",
       "       [0.83333333],\n",
       "       [0.66666667],\n",
       "       [0.5       ],\n",
       "       [1.        ],\n",
       "       [0.83333333]])"
      ]
     },
     "execution_count": 24,
     "metadata": {},
     "output_type": "execute_result"
    }
   ],
   "source": [
    "min_max_scaler_dif = preprocessing.MinMaxScaler()\n",
    "min_max_scaler_dif.fit_transform(input[0])"
   ]
  },
  {
   "cell_type": "code",
   "execution_count": 25,
   "metadata": {},
   "outputs": [
    {
     "data": {
      "text/plain": [
       "[[0.0],\n",
       " [1.0],\n",
       " [0.0],\n",
       " [0.3333333333333333],\n",
       " [0.0],\n",
       " [1.0],\n",
       " [0.3333333333333333],\n",
       " [0.6666666666666667],\n",
       " [0.6666666666666667],\n",
       " [-0.3333333333333333],\n",
       " [-0.6666666666666667],\n",
       " [0.3333333333333333],\n",
       " [0.3333333333333333],\n",
       " [0.6666666666666667],\n",
       " [-0.6666666666666667],\n",
       " [0.0],\n",
       " [0.0],\n",
       " [0.0],\n",
       " [-0.3333333333333333],\n",
       " [1.0]]"
      ]
     },
     "execution_count": 25,
     "metadata": {},
     "output_type": "execute_result"
    }
   ],
   "source": [
    "input[3]"
   ]
  },
  {
   "cell_type": "code",
   "execution_count": 26,
   "metadata": {},
   "outputs": [],
   "source": [
    "for i in range(len(input)):\n",
    "    input[i] = min_max_scaler_dif.transform(input[i]).tolist()"
   ]
  },
  {
   "cell_type": "code",
   "execution_count": 27,
   "metadata": {},
   "outputs": [],
   "source": [
    "# Aus den Targets einen Skalarwert machen!\n",
    "target_scalar = []\n",
    "for result in target:\n",
    "    if result == 'H':\n",
    "        data = [1.]\n",
    "    elif result == 'D':\n",
    "        data = [0.5]\n",
    "    else:\n",
    "        data = [0.]\n",
    "    target_scalar.append(data)"
   ]
  },
  {
   "cell_type": "code",
   "execution_count": 28,
   "metadata": {},
   "outputs": [
    {
     "data": {
      "text/plain": [
       "True"
      ]
     },
     "execution_count": 28,
     "metadata": {},
     "output_type": "execute_result"
    }
   ],
   "source": [
    "len(input) == len(target_scalar)"
   ]
  },
  {
   "cell_type": "code",
   "execution_count": 29,
   "metadata": {},
   "outputs": [
    {
     "data": {
      "text/plain": [
       "list"
      ]
     },
     "execution_count": 29,
     "metadata": {},
     "output_type": "execute_result"
    }
   ],
   "source": [
    "type(target_scalar[0])"
   ]
  },
  {
   "cell_type": "code",
   "execution_count": 30,
   "metadata": {},
   "outputs": [
    {
     "data": {
      "text/plain": [
       "[1.0]"
      ]
     },
     "execution_count": 30,
     "metadata": {},
     "output_type": "execute_result"
    }
   ],
   "source": [
    "target_scalar[3]"
   ]
  },
  {
   "cell_type": "code",
   "execution_count": 31,
   "metadata": {},
   "outputs": [
    {
     "data": {
      "text/plain": [
       "[[0.5],\n",
       " [1.0],\n",
       " [0.5],\n",
       " [0.6666666666666666],\n",
       " [0.5],\n",
       " [1.0],\n",
       " [0.6666666666666666],\n",
       " [0.8333333333333334],\n",
       " [0.8333333333333334],\n",
       " [0.33333333333333337],\n",
       " [0.16666666666666663],\n",
       " [0.6666666666666666],\n",
       " [0.6666666666666666],\n",
       " [0.8333333333333334],\n",
       " [0.16666666666666663],\n",
       " [0.5],\n",
       " [0.5],\n",
       " [0.5],\n",
       " [0.33333333333333337],\n",
       " [1.0]]"
      ]
     },
     "execution_count": 31,
     "metadata": {},
     "output_type": "execute_result"
    }
   ],
   "source": [
    "input[3]"
   ]
  },
  {
   "cell_type": "code",
   "execution_count": 32,
   "metadata": {},
   "outputs": [],
   "source": [
    "correct= 0\n",
    "for i in range(len(input)):\n",
    "    if(len(input[i]) == 20):\n",
    "        correct +=1"
   ]
  },
  {
   "cell_type": "code",
   "execution_count": 33,
   "metadata": {},
   "outputs": [
    {
     "data": {
      "text/plain": [
       "1.0"
      ]
     },
     "execution_count": 33,
     "metadata": {},
     "output_type": "execute_result"
    }
   ],
   "source": [
    "correct/len(input)"
   ]
  },
  {
   "cell_type": "code",
   "execution_count": 34,
   "metadata": {},
   "outputs": [],
   "source": [
    "#for df in input:\n",
    "#    df = df.to_numpy()"
   ]
  },
  {
   "cell_type": "markdown",
   "metadata": {},
   "source": [
    "### Daten in Test und Trainingsdaten teilen"
   ]
  },
  {
   "cell_type": "code",
   "execution_count": 35,
   "metadata": {},
   "outputs": [],
   "source": [
    "from sklearn.model_selection import train_test_split"
   ]
  },
  {
   "cell_type": "code",
   "execution_count": 36,
   "metadata": {},
   "outputs": [],
   "source": [
    "input_train, input_test, target_train, target_test = train_test_split(input, target_scalar, test_size=0.20) "
   ]
  },
  {
   "cell_type": "markdown",
   "metadata": {},
   "source": [
    "### Datensatz aus Input und Target erstellen"
   ]
  },
  {
   "cell_type": "code",
   "execution_count": 37,
   "metadata": {},
   "outputs": [],
   "source": [
    "class TempDataset(Dataset):\n",
    "    def __init__(self, input, target):\n",
    "        self.input=input\n",
    "        self.target=target\n",
    "        \n",
    "    def __len__(self):\n",
    "        return len(self.target)\n",
    "    \n",
    "    def __getitem__(self, index):\n",
    "        x = self.input[index]\n",
    "        y = self.target[index]\n",
    "        \n",
    "        return x, y"
   ]
  },
  {
   "cell_type": "code",
   "execution_count": 38,
   "metadata": {},
   "outputs": [],
   "source": [
    "#Trainingsdatensatz erstellen\n",
    "training_set = TempDataset(input_train, target_train)"
   ]
  },
  {
   "cell_type": "code",
   "execution_count": 39,
   "metadata": {},
   "outputs": [
    {
     "data": {
      "text/plain": [
       "0.7999282897095733"
      ]
     },
     "execution_count": 39,
     "metadata": {},
     "output_type": "execute_result"
    }
   ],
   "source": [
    "len(training_set)/len(target_scalar)"
   ]
  },
  {
   "cell_type": "code",
   "execution_count": 40,
   "metadata": {},
   "outputs": [
    {
     "data": {
      "text/plain": [
       "2231"
      ]
     },
     "execution_count": 40,
     "metadata": {},
     "output_type": "execute_result"
    }
   ],
   "source": [
    "len(input_train)"
   ]
  },
  {
   "cell_type": "code",
   "execution_count": 41,
   "metadata": {},
   "outputs": [],
   "source": [
    "del input_train[2230]\n",
    "del target_train[2230]"
   ]
  },
  {
   "cell_type": "code",
   "execution_count": 42,
   "metadata": {},
   "outputs": [],
   "source": [
    "for input_sets in input_train:\n",
    "    if len(input_sets) != 20:\n",
    "        print(input_set)"
   ]
  },
  {
   "cell_type": "code",
   "execution_count": 43,
   "metadata": {},
   "outputs": [],
   "source": [
    "for i in range(len(input_train)):\n",
    "    if not input_train[i]:\n",
    "        print('i ='+i)\n",
    "    for k in range(len(input_train[i])):\n",
    "        if not input_train[i][k]:\n",
    "            print('k ='+k+'     i='+i)"
   ]
  },
  {
   "cell_type": "code",
   "execution_count": 44,
   "metadata": {},
   "outputs": [],
   "source": [
    "# Trainingsdatensatz in richtige Form bringen\n",
    "def mycollate(batch):\n",
    "    input = torch.Tensor([item[0] for item in batch]).view(20,10,1)\n",
    "    target= torch.Tensor([item[1] for item in batch]).view(10,1)\n",
    "    return input, target"
   ]
  },
  {
   "cell_type": "code",
   "execution_count": 45,
   "metadata": {},
   "outputs": [],
   "source": [
    "params = {'batch_size' : 10,\n",
    "         'shuffle' : False,\n",
    "         'num_workers' : 4,\n",
    "         'collate_fn' : mycollate}"
   ]
  },
  {
   "cell_type": "code",
   "execution_count": 46,
   "metadata": {},
   "outputs": [],
   "source": [
    "training_generator = DataLoader(training_set, **params)"
   ]
  },
  {
   "cell_type": "code",
   "execution_count": 47,
   "metadata": {},
   "outputs": [
    {
     "data": {
      "text/plain": [
       "torch.Size([20, 10, 1])"
      ]
     },
     "execution_count": 47,
     "metadata": {},
     "output_type": "execute_result"
    }
   ],
   "source": [
    "x,y = next(iter(training_generator))\n",
    "x.size()"
   ]
  },
  {
   "cell_type": "code",
   "execution_count": 48,
   "metadata": {},
   "outputs": [
    {
     "data": {
      "text/plain": [
       "tensor([[[0.0000],\n",
       "         [0.1667],\n",
       "         [1.0000],\n",
       "         [0.1667],\n",
       "         [0.8333],\n",
       "         [0.5000],\n",
       "         [0.5000],\n",
       "         [1.0000],\n",
       "         [0.5000],\n",
       "         [0.5000]],\n",
       "\n",
       "        [[0.5000],\n",
       "         [0.5000],\n",
       "         [0.8333],\n",
       "         [0.8333],\n",
       "         [1.0000],\n",
       "         [0.6667],\n",
       "         [0.5000],\n",
       "         [0.5000],\n",
       "         [0.3333],\n",
       "         [0.5000]],\n",
       "\n",
       "        [[1.0000],\n",
       "         [0.5000],\n",
       "         [0.5000],\n",
       "         [0.0000],\n",
       "         [0.5000],\n",
       "         [0.5000],\n",
       "         [0.1667],\n",
       "         [1.0000],\n",
       "         [0.5000],\n",
       "         [0.0000]],\n",
       "\n",
       "        [[1.0000],\n",
       "         [0.5000],\n",
       "         [0.8333],\n",
       "         [0.8333],\n",
       "         [1.0000],\n",
       "         [0.0000],\n",
       "         [0.5000],\n",
       "         [0.5000],\n",
       "         [0.8333],\n",
       "         [0.5000]],\n",
       "\n",
       "        [[0.6667],\n",
       "         [0.5000],\n",
       "         [0.0000],\n",
       "         [0.5000],\n",
       "         [0.6667],\n",
       "         [1.0000],\n",
       "         [0.0000],\n",
       "         [1.0000],\n",
       "         [0.5000],\n",
       "         [0.0000]],\n",
       "\n",
       "        [[0.8333],\n",
       "         [0.5000],\n",
       "         [0.5000],\n",
       "         [0.5000],\n",
       "         [1.0000],\n",
       "         [0.5000],\n",
       "         [0.5000],\n",
       "         [0.5000],\n",
       "         [0.5000],\n",
       "         [0.0000]],\n",
       "\n",
       "        [[0.8333],\n",
       "         [0.1667],\n",
       "         [0.5000],\n",
       "         [0.8333],\n",
       "         [1.0000],\n",
       "         [0.8333],\n",
       "         [1.0000],\n",
       "         [1.0000],\n",
       "         [1.0000],\n",
       "         [1.0000]],\n",
       "\n",
       "        [[0.6667],\n",
       "         [0.5000],\n",
       "         [1.0000],\n",
       "         [1.0000],\n",
       "         [0.3333],\n",
       "         [0.1667],\n",
       "         [1.0000],\n",
       "         [0.6667],\n",
       "         [1.0000],\n",
       "         [0.8333]],\n",
       "\n",
       "        [[0.5000],\n",
       "         [1.0000],\n",
       "         [1.0000],\n",
       "         [0.6667],\n",
       "         [1.0000],\n",
       "         [0.5000],\n",
       "         [0.8333],\n",
       "         [0.3333],\n",
       "         [0.6667],\n",
       "         [1.0000]],\n",
       "\n",
       "        [[0.6667],\n",
       "         [0.5000],\n",
       "         [0.5000],\n",
       "         [1.0000],\n",
       "         [0.6667],\n",
       "         [1.0000],\n",
       "         [0.3333],\n",
       "         [0.0000],\n",
       "         [0.5000],\n",
       "         [0.8333]],\n",
       "\n",
       "        [[1.0000],\n",
       "         [0.1667],\n",
       "         [1.0000],\n",
       "         [0.8333],\n",
       "         [0.1667],\n",
       "         [0.0000],\n",
       "         [1.0000],\n",
       "         [0.6667],\n",
       "         [0.5000],\n",
       "         [0.8333]],\n",
       "\n",
       "        [[0.5000],\n",
       "         [1.0000],\n",
       "         [1.0000],\n",
       "         [0.8333],\n",
       "         [0.5000],\n",
       "         [1.0000],\n",
       "         [1.0000],\n",
       "         [1.0000],\n",
       "         [0.5000],\n",
       "         [0.5000]],\n",
       "\n",
       "        [[0.3333],\n",
       "         [0.6667],\n",
       "         [0.5000],\n",
       "         [0.6667],\n",
       "         [0.6667],\n",
       "         [0.5000],\n",
       "         [0.1667],\n",
       "         [0.3333],\n",
       "         [0.5000],\n",
       "         [0.5000]],\n",
       "\n",
       "        [[0.5000],\n",
       "         [0.3333],\n",
       "         [0.6667],\n",
       "         [0.0000],\n",
       "         [0.6667],\n",
       "         [0.5000],\n",
       "         [0.6667],\n",
       "         [1.0000],\n",
       "         [0.0000],\n",
       "         [0.5000]],\n",
       "\n",
       "        [[0.5000],\n",
       "         [0.1667],\n",
       "         [0.0000],\n",
       "         [1.0000],\n",
       "         [0.8333],\n",
       "         [1.0000],\n",
       "         [0.6667],\n",
       "         [0.1667],\n",
       "         [0.8333],\n",
       "         [0.5000]],\n",
       "\n",
       "        [[1.0000],\n",
       "         [0.5000],\n",
       "         [0.5000],\n",
       "         [0.5000],\n",
       "         [0.1667],\n",
       "         [1.0000],\n",
       "         [0.5000],\n",
       "         [1.0000],\n",
       "         [0.0000],\n",
       "         [0.5000]],\n",
       "\n",
       "        [[0.1667],\n",
       "         [0.5000],\n",
       "         [0.5000],\n",
       "         [0.8333],\n",
       "         [0.5000],\n",
       "         [0.5000],\n",
       "         [0.8333],\n",
       "         [0.5000],\n",
       "         [0.5000],\n",
       "         [0.8333]],\n",
       "\n",
       "        [[1.0000],\n",
       "         [1.0000],\n",
       "         [0.8333],\n",
       "         [0.8333],\n",
       "         [1.0000],\n",
       "         [1.0000],\n",
       "         [1.0000],\n",
       "         [0.5000],\n",
       "         [0.5000],\n",
       "         [0.5000]],\n",
       "\n",
       "        [[0.5000],\n",
       "         [1.0000],\n",
       "         [0.3333],\n",
       "         [0.5000],\n",
       "         [0.5000],\n",
       "         [0.0000],\n",
       "         [0.6667],\n",
       "         [0.5000],\n",
       "         [1.0000],\n",
       "         [1.0000]],\n",
       "\n",
       "        [[0.5000],\n",
       "         [0.5000],\n",
       "         [1.0000],\n",
       "         [0.8333],\n",
       "         [1.0000],\n",
       "         [0.8333],\n",
       "         [0.6667],\n",
       "         [1.0000],\n",
       "         [0.5000],\n",
       "         [0.8333]]])"
      ]
     },
     "execution_count": 48,
     "metadata": {},
     "output_type": "execute_result"
    }
   ],
   "source": [
    "x"
   ]
  },
  {
   "cell_type": "code",
   "execution_count": 49,
   "metadata": {},
   "outputs": [
    {
     "data": {
      "text/plain": [
       "torch.Size([10, 1])"
      ]
     },
     "execution_count": 49,
     "metadata": {},
     "output_type": "execute_result"
    }
   ],
   "source": [
    "y.size()"
   ]
  },
  {
   "cell_type": "code",
   "execution_count": null,
   "metadata": {},
   "outputs": [],
   "source": []
  },
  {
   "cell_type": "markdown",
   "metadata": {},
   "source": [
    "## LSTM-Netz errichten"
   ]
  },
  {
   "cell_type": "code",
   "execution_count": 50,
   "metadata": {},
   "outputs": [],
   "source": [
    "BATCH_SIZE = params['batch_size']\n",
    "NUM_LAYERS = 3\n",
    "\n",
    "class LSTMnn(nn.Module):\n",
    "    \n",
    "    def __init__(self , input_size , hidden_size , output_size , \n",
    "                 batch_size = BATCH_SIZE , num_layers = NUM_LAYERS ) :\n",
    "        super(LSTMnn, self).__init__()\n",
    "        self.batch_size = batch_size\n",
    "        # creation LSTM LAYER\n",
    "        self.num_layers = num_layers\n",
    "        self.input_size = input_size\n",
    "        self.hidden_size = hidden_size\n",
    "        self.lstm = nn.LSTM(self.input_size, self.hidden_size, self.num_layers, batch_first = False)\n",
    "        self.hidden = self.init_hidden()\n",
    "        #Creation Linear Layer\n",
    "        self.output_size = output_size\n",
    "        self.linear = nn.Linear(self.hidden_size, self.output_size)\n",
    "        \n",
    "    def init_hidden(self): # random Weights will be generated\n",
    "        return (torch.rand(self.num_layers, self.batch_size, self.hidden_size),\n",
    "               torch.rand(self.num_layers, self.batch_size, self.hidden_size))\n",
    "    \n",
    "    def forward(self, input_seqence):\n",
    "        out, _ = self.lstm(input_seqence, self.hidden)\n",
    "        output = torch.sigmoid(self.linear(out[-1]))\n",
    "        return output"
   ]
  },
  {
   "cell_type": "code",
   "execution_count": 51,
   "metadata": {},
   "outputs": [],
   "source": [
    "# \n",
    "lstm = LSTMnn(input_size=1, hidden_size=20, output_size=1, batch_size= BATCH_SIZE, num_layers=NUM_LAYERS)"
   ]
  },
  {
   "cell_type": "code",
   "execution_count": 52,
   "metadata": {},
   "outputs": [],
   "source": [
    "# Fehlerfinktion und Lernfunktion \n",
    "loss_function = nn.MSELoss()\n",
    "optimizer = optim.Adam(lstm.parameters(), lr =0.03)"
   ]
  },
  {
   "cell_type": "code",
   "execution_count": 53,
   "metadata": {},
   "outputs": [
    {
     "name": "stdout",
     "output_type": "stream",
     "text": [
      "Fehler letzter Batch: 0.19034835696220398\n",
      "Fehler letzter Batch: 0.19035951793193817\n",
      "Fehler letzter Batch: 0.1903536468744278\n",
      "Fehler letzter Batch: 0.19035561382770538\n",
      "Fehler letzter Batch: 0.19035489857196808\n"
     ]
    }
   ],
   "source": [
    "loss_memory= []\n",
    "for epoch in range(5):\n",
    "    for local_batch, local_labels in training_generator:\n",
    "        lstm.zero_grad()\n",
    "        if local_batch.size()[1] == BATCH_SIZE:\n",
    "            out = lstm(local_batch)\n",
    "            loss = loss_function(out, local_labels)\n",
    "            loss_memory.append(loss)\n",
    "            loss.backward(retain_graph = True)\n",
    "            optimizer.step()\n",
    "    print('Fehler letzter Batch: {}'.format(loss.item()))"
   ]
  },
  {
   "cell_type": "code",
   "execution_count": 54,
   "metadata": {},
   "outputs": [
    {
     "data": {
      "text/plain": [
       "tensor([[0.5828],\n",
       "        [0.5828],\n",
       "        [0.5828],\n",
       "        [0.5828],\n",
       "        [0.5828],\n",
       "        [0.5828],\n",
       "        [0.5828],\n",
       "        [0.5828],\n",
       "        [0.5828],\n",
       "        [0.5828]], grad_fn=<SigmoidBackward>)"
      ]
     },
     "execution_count": 54,
     "metadata": {},
     "output_type": "execute_result"
    }
   ],
   "source": [
    "lstm(x)"
   ]
  },
  {
   "cell_type": "code",
   "execution_count": 55,
   "metadata": {},
   "outputs": [
    {
     "ename": "ModuleNotFoundError",
     "evalue": "No module named 'ipypublish'",
     "output_type": "error",
     "traceback": [
      "\u001b[0;31m---------------------------------------------------------------------------\u001b[0m",
      "\u001b[0;31mModuleNotFoundError\u001b[0m                       Traceback (most recent call last)",
      "\u001b[0;32m<ipython-input-55-de2322f6b93e>\u001b[0m in \u001b[0;36m<module>\u001b[0;34m\u001b[0m\n\u001b[0;32m----> 1\u001b[0;31m \u001b[0;32mfrom\u001b[0m \u001b[0mipypublish\u001b[0m \u001b[0;32mimport\u001b[0m \u001b[0mnb_setup\u001b[0m\u001b[0;34m\u001b[0m\u001b[0;34m\u001b[0m\u001b[0m\n\u001b[0m",
      "\u001b[0;31mModuleNotFoundError\u001b[0m: No module named 'ipypublish'"
     ]
    }
   ],
   "source": [
    "from ipypublish import nb_setup"
   ]
  },
  {
   "cell_type": "code",
   "execution_count": 56,
   "metadata": {},
   "outputs": [
    {
     "ename": "NameError",
     "evalue": "name 'nb_setup' is not defined",
     "output_type": "error",
     "traceback": [
      "\u001b[0;31m---------------------------------------------------------------------------\u001b[0m",
      "\u001b[0;31mNameError\u001b[0m                                 Traceback (most recent call last)",
      "\u001b[0;32m<ipython-input-56-cd3abe5755c9>\u001b[0m in \u001b[0;36m<module>\u001b[0;34m\u001b[0m\n\u001b[1;32m      1\u001b[0m \u001b[0my\u001b[0m \u001b[0;34m=\u001b[0m \u001b[0;34m[\u001b[0m\u001b[0mitem\u001b[0m\u001b[0;34m.\u001b[0m\u001b[0mitem\u001b[0m\u001b[0;34m(\u001b[0m\u001b[0;34m)\u001b[0m \u001b[0;32mfor\u001b[0m \u001b[0mitem\u001b[0m \u001b[0;32min\u001b[0m \u001b[0mloss_memory\u001b[0m\u001b[0;34m]\u001b[0m\u001b[0;34m\u001b[0m\u001b[0;34m\u001b[0m\u001b[0m\n\u001b[1;32m      2\u001b[0m \u001b[0mx\u001b[0m \u001b[0;34m=\u001b[0m \u001b[0mrange\u001b[0m\u001b[0;34m(\u001b[0m\u001b[0mlen\u001b[0m\u001b[0;34m(\u001b[0m\u001b[0mloss_memory\u001b[0m\u001b[0;34m)\u001b[0m\u001b[0;34m)\u001b[0m\u001b[0;34m\u001b[0m\u001b[0;34m\u001b[0m\u001b[0m\n\u001b[0;32m----> 3\u001b[0;31m \u001b[0mplt\u001b[0m \u001b[0;34m=\u001b[0m \u001b[0mnb_setup\u001b[0m\u001b[0;34m.\u001b[0m\u001b[0msetup_matplotlib\u001b[0m\u001b[0;34m(\u001b[0m\u001b[0moutput\u001b[0m \u001b[0;34m=\u001b[0m\u001b[0;34m(\u001b[0m\u001b[0;34m'png'\u001b[0m\u001b[0;34m,\u001b[0m\u001b[0;34m'png'\u001b[0m\u001b[0;34m)\u001b[0m\u001b[0;34m)\u001b[0m\u001b[0;34m\u001b[0m\u001b[0;34m\u001b[0m\u001b[0m\n\u001b[0m\u001b[1;32m      4\u001b[0m \u001b[0mplt\u001b[0m\u001b[0;34m.\u001b[0m\u001b[0mplot\u001b[0m\u001b[0;34m(\u001b[0m\u001b[0mx\u001b[0m\u001b[0;34m,\u001b[0m \u001b[0my\u001b[0m\u001b[0;34m,\u001b[0m \u001b[0mlabel\u001b[0m \u001b[0;34m=\u001b[0m \u001b[0;34m'Fehlerentwicklung'\u001b[0m\u001b[0;34m)\u001b[0m\u001b[0;34m\u001b[0m\u001b[0;34m\u001b[0m\u001b[0m\n\u001b[1;32m      5\u001b[0m \u001b[0mplt\u001b[0m\u001b[0;34m.\u001b[0m\u001b[0mylabel\u001b[0m\u001b[0;34m(\u001b[0m\u001b[0;34mr'Fehler'\u001b[0m\u001b[0;34m)\u001b[0m\u001b[0;34m\u001b[0m\u001b[0;34m\u001b[0m\u001b[0m\n",
      "\u001b[0;31mNameError\u001b[0m: name 'nb_setup' is not defined"
     ]
    }
   ],
   "source": [
    "y = [item.item() for item in loss_memory]\n",
    "x = range(len(loss_memory))\n",
    "plt = nb_setup.setup_matplotlib(output =('png','png'))\n",
    "plt.plot(x, y, label = 'Fehlerentwicklung')\n",
    "plt.ylabel(r'Fehler')\n",
    "plt.xlabel(r'Anzahl Trainingsbatches')\n",
    "plt.legend();"
   ]
  },
  {
   "cell_type": "code",
   "execution_count": 63,
   "metadata": {},
   "outputs": [
    {
     "data": {
      "text/plain": [
       "tensor([[[0.3333, 1.0000],\n",
       "         [0.0000, 0.3333],\n",
       "         [1.0000, 0.0000],\n",
       "         [1.0000, 1.0000],\n",
       "         [0.0000, 0.0000],\n",
       "         [0.0000, 1.0000],\n",
       "         [1.0000, 1.0000],\n",
       "         [0.0000, 0.0000],\n",
       "         [0.0000, 0.0000],\n",
       "         [1.0000, 1.0000],\n",
       "         [0.0000, 0.0000],\n",
       "         [0.3333, 0.0000],\n",
       "         [0.0000, 0.0000],\n",
       "         [1.0000, 0.0000],\n",
       "         [1.0000, 0.0000],\n",
       "         [0.0000, 1.0000]],\n",
       "\n",
       "        [[0.3333, 0.0000],\n",
       "         [1.0000, 0.0000],\n",
       "         [0.0000, 0.3333],\n",
       "         [0.0000, 1.0000],\n",
       "         [0.3333, 1.0000],\n",
       "         [0.0000, 0.3333],\n",
       "         [1.0000, 1.0000],\n",
       "         [0.0000, 1.0000],\n",
       "         [0.0000, 0.3333],\n",
       "         [0.3333, 0.3333],\n",
       "         [1.0000, 1.0000],\n",
       "         [1.0000, 0.0000],\n",
       "         [1.0000, 1.0000],\n",
       "         [0.0000, 0.3333],\n",
       "         [0.3333, 0.0000],\n",
       "         [1.0000, 0.0000]],\n",
       "\n",
       "        [[1.0000, 0.0000],\n",
       "         [1.0000, 0.0000],\n",
       "         [0.3333, 0.0000],\n",
       "         [0.3333, 1.0000],\n",
       "         [1.0000, 1.0000],\n",
       "         [0.0000, 0.0000],\n",
       "         [0.3333, 0.3333],\n",
       "         [0.0000, 1.0000],\n",
       "         [0.3333, 0.0000],\n",
       "         [0.0000, 0.3333],\n",
       "         [1.0000, 0.3333],\n",
       "         [1.0000, 0.3333],\n",
       "         [1.0000, 1.0000],\n",
       "         [0.0000, 0.3333],\n",
       "         [0.3333, 0.3333],\n",
       "         [0.0000, 0.3333]],\n",
       "\n",
       "        [[1.0000, 0.0000],\n",
       "         [1.0000, 0.0000],\n",
       "         [0.3333, 0.3333],\n",
       "         [1.0000, 0.3333],\n",
       "         [1.0000, 1.0000],\n",
       "         [1.0000, 0.0000],\n",
       "         [1.0000, 0.3333],\n",
       "         [0.3333, 1.0000],\n",
       "         [1.0000, 1.0000],\n",
       "         [0.3333, 0.0000],\n",
       "         [0.0000, 1.0000],\n",
       "         [1.0000, 0.0000],\n",
       "         [1.0000, 0.3333],\n",
       "         [0.3333, 0.0000],\n",
       "         [0.0000, 0.3333],\n",
       "         [1.0000, 0.0000]],\n",
       "\n",
       "        [[0.3333, 0.3333],\n",
       "         [1.0000, 0.3333],\n",
       "         [1.0000, 0.0000],\n",
       "         [1.0000, 0.0000],\n",
       "         [0.0000, 0.0000],\n",
       "         [0.0000, 0.0000],\n",
       "         [1.0000, 1.0000],\n",
       "         [1.0000, 0.3333],\n",
       "         [0.3333, 0.3333],\n",
       "         [0.0000, 1.0000],\n",
       "         [1.0000, 1.0000],\n",
       "         [1.0000, 1.0000],\n",
       "         [0.0000, 1.0000],\n",
       "         [1.0000, 1.0000],\n",
       "         [0.0000, 0.3333],\n",
       "         [0.0000, 0.0000]]])"
      ]
     },
     "execution_count": 63,
     "metadata": {},
     "output_type": "execute_result"
    }
   ],
   "source": [
    "x"
   ]
  },
  {
   "cell_type": "code",
   "execution_count": 64,
   "metadata": {},
   "outputs": [
    {
     "data": {
      "text/plain": [
       "tensor([[[0., 1., 0.],\n",
       "         [0., 0., 1.],\n",
       "         [0., 1., 0.],\n",
       "         [0., 1., 0.],\n",
       "         [1., 0., 0.],\n",
       "         [0., 1., 0.],\n",
       "         [1., 0., 0.],\n",
       "         [1., 0., 0.],\n",
       "         [0., 1., 0.],\n",
       "         [0., 0., 1.],\n",
       "         [1., 0., 0.],\n",
       "         [1., 0., 0.],\n",
       "         [1., 0., 0.],\n",
       "         [1., 0., 0.],\n",
       "         [0., 1., 0.],\n",
       "         [0., 1., 0.]]])"
      ]
     },
     "execution_count": 64,
     "metadata": {},
     "output_type": "execute_result"
    }
   ],
   "source": [
    "y"
   ]
  },
  {
   "cell_type": "code",
   "execution_count": null,
   "metadata": {},
   "outputs": [],
   "source": []
  }
 ],
 "metadata": {
  "kernelspec": {
   "display_name": "Python 3",
   "language": "python",
   "name": "python3"
  },
  "language_info": {
   "codemirror_mode": {
    "name": "ipython",
    "version": 3
   },
   "file_extension": ".py",
   "mimetype": "text/x-python",
   "name": "python",
   "nbconvert_exporter": "python",
   "pygments_lexer": "ipython3",
   "version": "3.7.4"
  }
 },
 "nbformat": 4,
 "nbformat_minor": 4
}
