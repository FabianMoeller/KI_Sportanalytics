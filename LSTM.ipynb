{
 "cells": [
  {
   "cell_type": "code",
   "execution_count": 1,
   "metadata": {},
   "outputs": [],
   "source": [
    "import torch\n",
    "import torch.nn as nn\n",
    "import torch.nn.functional as F\n",
    "import torch.optim as optim\n",
    "from torch.utils.data import Dataset, DataLoader\n",
    "import pandas as pd\n",
    "import numpy as np\n",
    "from torch import optim\n",
    "from sklearn import preprocessing\n",
    "import math\n",
    "from sklearn.metrics import mean_squared_error, mean_absolute_error\n",
    "from sklearn.metrics import median_absolute_error"
   ]
  },
  {
   "cell_type": "code",
   "execution_count": 374,
   "metadata": {},
   "outputs": [],
   "source": [
    "import matplotlib"
   ]
  },
  {
   "cell_type": "code",
   "execution_count": 371,
   "metadata": {},
   "outputs": [],
   "source": [
    "pd = nb_setup.setup_pandas(escape_latex = False)"
   ]
  },
  {
   "cell_type": "markdown",
   "metadata": {},
   "source": [
    "### Daten einlesen"
   ]
  },
  {
   "cell_type": "code",
   "execution_count": 2,
   "metadata": {},
   "outputs": [],
   "source": [
    "rawdat = pd.read_csv('C:\\\\Users\\\\dusti\\\\iCloudDrive\\\\Studium WI\\\\WS2019\\\\KI\\\\rawdat.csv', sep = ';')"
   ]
  },
  {
   "cell_type": "code",
   "execution_count": 3,
   "metadata": {},
   "outputs": [],
   "source": [
    "rawdat = rawdat[['HomeTeam','AwayTeam','FTHG','FTAG','FTR','HTR','HS','AS','HST','AST']]"
   ]
  },
  {
   "cell_type": "code",
   "execution_count": 4,
   "metadata": {},
   "outputs": [
    {
     "data": {
      "text/html": [
       "<div>\n",
       "<style scoped>\n",
       "    .dataframe tbody tr th:only-of-type {\n",
       "        vertical-align: middle;\n",
       "    }\n",
       "\n",
       "    .dataframe tbody tr th {\n",
       "        vertical-align: top;\n",
       "    }\n",
       "\n",
       "    .dataframe thead th {\n",
       "        text-align: right;\n",
       "    }\n",
       "</style>\n",
       "<table border=\"1\" class=\"dataframe\">\n",
       "  <thead>\n",
       "    <tr style=\"text-align: right;\">\n",
       "      <th></th>\n",
       "      <th>HomeTeam</th>\n",
       "      <th>AwayTeam</th>\n",
       "      <th>FTHG</th>\n",
       "      <th>FTAG</th>\n",
       "      <th>FTR</th>\n",
       "      <th>HTR</th>\n",
       "      <th>HS</th>\n",
       "      <th>AS</th>\n",
       "      <th>HST</th>\n",
       "      <th>AST</th>\n",
       "    </tr>\n",
       "  </thead>\n",
       "  <tbody>\n",
       "    <tr>\n",
       "      <td>0</td>\n",
       "      <td>Aston Villa</td>\n",
       "      <td>Wigan</td>\n",
       "      <td>0</td>\n",
       "      <td>2</td>\n",
       "      <td>A</td>\n",
       "      <td>A</td>\n",
       "      <td>11</td>\n",
       "      <td>14</td>\n",
       "      <td>5</td>\n",
       "      <td>7</td>\n",
       "    </tr>\n",
       "    <tr>\n",
       "      <td>1</td>\n",
       "      <td>Blackburn</td>\n",
       "      <td>Man City</td>\n",
       "      <td>0</td>\n",
       "      <td>2</td>\n",
       "      <td>A</td>\n",
       "      <td>A</td>\n",
       "      <td>17</td>\n",
       "      <td>8</td>\n",
       "      <td>9</td>\n",
       "      <td>5</td>\n",
       "    </tr>\n",
       "    <tr>\n",
       "      <td>2</td>\n",
       "      <td>Bolton</td>\n",
       "      <td>Sunderland</td>\n",
       "      <td>0</td>\n",
       "      <td>1</td>\n",
       "      <td>A</td>\n",
       "      <td>A</td>\n",
       "      <td>11</td>\n",
       "      <td>20</td>\n",
       "      <td>3</td>\n",
       "      <td>13</td>\n",
       "    </tr>\n",
       "    <tr>\n",
       "      <td>3</td>\n",
       "      <td>Chelsea</td>\n",
       "      <td>Hull</td>\n",
       "      <td>2</td>\n",
       "      <td>1</td>\n",
       "      <td>H</td>\n",
       "      <td>D</td>\n",
       "      <td>26</td>\n",
       "      <td>7</td>\n",
       "      <td>12</td>\n",
       "      <td>3</td>\n",
       "    </tr>\n",
       "    <tr>\n",
       "      <td>4</td>\n",
       "      <td>Everton</td>\n",
       "      <td>Arsenal</td>\n",
       "      <td>1</td>\n",
       "      <td>6</td>\n",
       "      <td>A</td>\n",
       "      <td>A</td>\n",
       "      <td>8</td>\n",
       "      <td>15</td>\n",
       "      <td>5</td>\n",
       "      <td>9</td>\n",
       "    </tr>\n",
       "  </tbody>\n",
       "</table>\n",
       "</div>"
      ],
      "text/plain": [
       "      HomeTeam    AwayTeam  FTHG  FTAG FTR HTR  HS  AS  HST  AST\n",
       "0  Aston Villa       Wigan     0     2   A   A  11  14    5    7\n",
       "1    Blackburn    Man City     0     2   A   A  17   8    9    5\n",
       "2       Bolton  Sunderland     0     1   A   A  11  20    3   13\n",
       "3      Chelsea        Hull     2     1   H   D  26   7   12    3\n",
       "4      Everton     Arsenal     1     6   A   A   8  15    5    9"
      ]
     },
     "execution_count": 4,
     "metadata": {},
     "output_type": "execute_result"
    }
   ],
   "source": [
    "rawdat.head()"
   ]
  },
  {
   "cell_type": "markdown",
   "metadata": {},
   "source": [
    "### Daten verarbeiten und kodieren"
   ]
  },
  {
   "cell_type": "code",
   "execution_count": 5,
   "metadata": {},
   "outputs": [],
   "source": [
    "pd.options.mode.chained_assignment = None  # default='warn'"
   ]
  },
  {
   "cell_type": "code",
   "execution_count": 6,
   "metadata": {},
   "outputs": [],
   "source": [
    "# Methode setzt Punkte für Heim und Auswärtsteam und erstellt neue Spalten\n",
    "def windrawloseHomeAway(data):\n",
    "    data = data[['HomeTeam', 'AwayTeam', 'FTR']]\n",
    "    data['FTRH']= pd.Series(np.zeros(len(data['FTR'])))\n",
    "    data['FTRA']= pd.Series(np.zeros(len(data['FTR'])))\n",
    "    i = 0\n",
    "    ftrH = 0\n",
    "    ftrA = 0\n",
    "    for row in data.itertuples():\n",
    "        ftr = data.iloc[i]['FTR']\n",
    "        if (ftr == 'H'):\n",
    "            ftrH = 3\n",
    "            ftrA = 0\n",
    "        if (ftr == 'A'):\n",
    "            ftrH = 0\n",
    "            ftrA = 3\n",
    "        if (ftr == 'D'):\n",
    "            ftrH = 1\n",
    "            ftrA = 1\n",
    "        data.set_value(i,'FTRH', ftrH)\n",
    "        data.set_value(i, 'FTRA', ftrA)\n",
    "        i = i+1\n",
    "    return data[['HomeTeam', 'AwayTeam', 'FTRH', 'FTRA','FTR']]\n",
    "    "
   ]
  },
  {
   "cell_type": "code",
   "execution_count": 7,
   "metadata": {
    "collapsed": true,
    "jupyter": {
     "outputs_hidden": true
    }
   },
   "outputs": [
    {
     "name": "stderr",
     "output_type": "stream",
     "text": [
      "C:\\Users\\dusti\\Anaconda3\\envs\\DustinKI\\lib\\site-packages\\ipykernel_launcher.py:20: FutureWarning: set_value is deprecated and will be removed in a future release. Please use .at[] or .iat[] accessors instead\n",
      "C:\\Users\\dusti\\Anaconda3\\envs\\DustinKI\\lib\\site-packages\\ipykernel_launcher.py:21: FutureWarning: set_value is deprecated and will be removed in a future release. Please use .at[] or .iat[] accessors instead\n"
     ]
    }
   ],
   "source": [
    "new_df = windrawloseHomeAway(rawdat)"
   ]
  },
  {
   "cell_type": "code",
   "execution_count": 8,
   "metadata": {},
   "outputs": [],
   "source": [
    "homeP = new_df['FTRH']\n",
    "awayP = new_df['FTRA']"
   ]
  },
  {
   "cell_type": "code",
   "execution_count": 9,
   "metadata": {},
   "outputs": [
    {
     "name": "stdout",
     "output_type": "stream",
     "text": [
      "(3800, 1)\n",
      "(3800, 1)\n"
     ]
    }
   ],
   "source": [
    "# Dimensionalität richten\n",
    "homeP= np.resize(homeP,(homeP.size, 1))\n",
    "awayP = np.resize(awayP,(awayP.size,1))\n",
    "print(homeP.shape)\n",
    "print(awayP.shape)"
   ]
  },
  {
   "cell_type": "markdown",
   "metadata": {},
   "source": [
    "#### Punkte zwischen 0 und 1 skalieren"
   ]
  },
  {
   "cell_type": "code",
   "execution_count": 10,
   "metadata": {},
   "outputs": [],
   "source": [
    "min_max_scaler = preprocessing.MinMaxScaler()\n",
    "homeP_scaled = min_max_scaler.fit_transform(homeP)"
   ]
  },
  {
   "cell_type": "code",
   "execution_count": 11,
   "metadata": {},
   "outputs": [],
   "source": [
    "min_max_scaler = preprocessing.MinMaxScaler()\n",
    "awayP_scaled = min_max_scaler.fit_transform(awayP)"
   ]
  },
  {
   "cell_type": "code",
   "execution_count": 12,
   "metadata": {},
   "outputs": [
    {
     "data": {
      "text/html": [
       "<div>\n",
       "<style scoped>\n",
       "    .dataframe tbody tr th:only-of-type {\n",
       "        vertical-align: middle;\n",
       "    }\n",
       "\n",
       "    .dataframe tbody tr th {\n",
       "        vertical-align: top;\n",
       "    }\n",
       "\n",
       "    .dataframe thead th {\n",
       "        text-align: right;\n",
       "    }\n",
       "</style>\n",
       "<table border=\"1\" class=\"dataframe\">\n",
       "  <thead>\n",
       "    <tr style=\"text-align: right;\">\n",
       "      <th></th>\n",
       "      <th>HomeTeam</th>\n",
       "      <th>AwayTeam</th>\n",
       "      <th>FTRH</th>\n",
       "      <th>FTRA</th>\n",
       "      <th>FTR</th>\n",
       "      <th>SPH</th>\n",
       "      <th>SPA</th>\n",
       "    </tr>\n",
       "  </thead>\n",
       "  <tbody>\n",
       "    <tr>\n",
       "      <td>0</td>\n",
       "      <td>Aston Villa</td>\n",
       "      <td>Wigan</td>\n",
       "      <td>0.0</td>\n",
       "      <td>3.0</td>\n",
       "      <td>A</td>\n",
       "      <td>0.0</td>\n",
       "      <td>1.0</td>\n",
       "    </tr>\n",
       "    <tr>\n",
       "      <td>1</td>\n",
       "      <td>Blackburn</td>\n",
       "      <td>Man City</td>\n",
       "      <td>0.0</td>\n",
       "      <td>3.0</td>\n",
       "      <td>A</td>\n",
       "      <td>0.0</td>\n",
       "      <td>1.0</td>\n",
       "    </tr>\n",
       "    <tr>\n",
       "      <td>2</td>\n",
       "      <td>Bolton</td>\n",
       "      <td>Sunderland</td>\n",
       "      <td>0.0</td>\n",
       "      <td>3.0</td>\n",
       "      <td>A</td>\n",
       "      <td>0.0</td>\n",
       "      <td>1.0</td>\n",
       "    </tr>\n",
       "    <tr>\n",
       "      <td>3</td>\n",
       "      <td>Chelsea</td>\n",
       "      <td>Hull</td>\n",
       "      <td>3.0</td>\n",
       "      <td>0.0</td>\n",
       "      <td>H</td>\n",
       "      <td>1.0</td>\n",
       "      <td>0.0</td>\n",
       "    </tr>\n",
       "    <tr>\n",
       "      <td>4</td>\n",
       "      <td>Everton</td>\n",
       "      <td>Arsenal</td>\n",
       "      <td>0.0</td>\n",
       "      <td>3.0</td>\n",
       "      <td>A</td>\n",
       "      <td>0.0</td>\n",
       "      <td>1.0</td>\n",
       "    </tr>\n",
       "  </tbody>\n",
       "</table>\n",
       "</div>"
      ],
      "text/plain": [
       "      HomeTeam    AwayTeam  FTRH  FTRA FTR  SPH  SPA\n",
       "0  Aston Villa       Wigan   0.0   3.0   A  0.0  1.0\n",
       "1    Blackburn    Man City   0.0   3.0   A  0.0  1.0\n",
       "2       Bolton  Sunderland   0.0   3.0   A  0.0  1.0\n",
       "3      Chelsea        Hull   3.0   0.0   H  1.0  0.0\n",
       "4      Everton     Arsenal   0.0   3.0   A  0.0  1.0"
      ]
     },
     "execution_count": 12,
     "metadata": {},
     "output_type": "execute_result"
    }
   ],
   "source": [
    "df_scale_homeP = pd.DataFrame(homeP_scaled)\n",
    "df_scale_awayP = pd.DataFrame(awayP_scaled)\n",
    "new_df['SPH'] = df_scale_homeP\n",
    "new_df['SPA'] = df_scale_awayP\n",
    "new_df.head()"
   ]
  },
  {
   "cell_type": "code",
   "execution_count": 13,
   "metadata": {},
   "outputs": [
    {
     "data": {
      "text/plain": [
       "array([0.33333333])"
      ]
     },
     "execution_count": 13,
     "metadata": {},
     "output_type": "execute_result"
    }
   ],
   "source": [
    "min_max_scaler.scale_"
   ]
  },
  {
   "cell_type": "code",
   "execution_count": 14,
   "metadata": {},
   "outputs": [
    {
     "data": {
      "text/plain": [
       "True"
      ]
     },
     "execution_count": 14,
     "metadata": {},
     "output_type": "execute_result"
    }
   ],
   "source": [
    "new_df['SPH'][0]/min_max_scaler.scale_[0] == new_df['FTRH'][0]"
   ]
  },
  {
   "cell_type": "code",
   "execution_count": 17,
   "metadata": {},
   "outputs": [
    {
     "data": {
      "text/html": [
       "<div>\n",
       "<style scoped>\n",
       "    .dataframe tbody tr th:only-of-type {\n",
       "        vertical-align: middle;\n",
       "    }\n",
       "\n",
       "    .dataframe tbody tr th {\n",
       "        vertical-align: top;\n",
       "    }\n",
       "\n",
       "    .dataframe thead th {\n",
       "        text-align: right;\n",
       "    }\n",
       "</style>\n",
       "<table border=\"1\" class=\"dataframe\">\n",
       "  <thead>\n",
       "    <tr style=\"text-align: right;\">\n",
       "      <th></th>\n",
       "      <th>HomeTeam</th>\n",
       "      <th>AwayTeam</th>\n",
       "      <th>FTRH</th>\n",
       "      <th>FTRA</th>\n",
       "      <th>FTR</th>\n",
       "      <th>SPH</th>\n",
       "      <th>SPA</th>\n",
       "    </tr>\n",
       "  </thead>\n",
       "  <tbody>\n",
       "    <tr>\n",
       "      <td>0</td>\n",
       "      <td>Aston Villa</td>\n",
       "      <td>Wigan</td>\n",
       "      <td>0.0</td>\n",
       "      <td>3.0</td>\n",
       "      <td>A</td>\n",
       "      <td>0.0</td>\n",
       "      <td>1.0</td>\n",
       "    </tr>\n",
       "    <tr>\n",
       "      <td>1</td>\n",
       "      <td>Blackburn</td>\n",
       "      <td>Man City</td>\n",
       "      <td>0.0</td>\n",
       "      <td>3.0</td>\n",
       "      <td>A</td>\n",
       "      <td>0.0</td>\n",
       "      <td>1.0</td>\n",
       "    </tr>\n",
       "    <tr>\n",
       "      <td>2</td>\n",
       "      <td>Bolton</td>\n",
       "      <td>Sunderland</td>\n",
       "      <td>0.0</td>\n",
       "      <td>3.0</td>\n",
       "      <td>A</td>\n",
       "      <td>0.0</td>\n",
       "      <td>1.0</td>\n",
       "    </tr>\n",
       "    <tr>\n",
       "      <td>3</td>\n",
       "      <td>Chelsea</td>\n",
       "      <td>Hull</td>\n",
       "      <td>3.0</td>\n",
       "      <td>0.0</td>\n",
       "      <td>H</td>\n",
       "      <td>1.0</td>\n",
       "      <td>0.0</td>\n",
       "    </tr>\n",
       "    <tr>\n",
       "      <td>4</td>\n",
       "      <td>Everton</td>\n",
       "      <td>Arsenal</td>\n",
       "      <td>0.0</td>\n",
       "      <td>3.0</td>\n",
       "      <td>A</td>\n",
       "      <td>0.0</td>\n",
       "      <td>1.0</td>\n",
       "    </tr>\n",
       "  </tbody>\n",
       "</table>\n",
       "</div>"
      ],
      "text/plain": [
       "      HomeTeam    AwayTeam  FTRH  FTRA FTR  SPH  SPA\n",
       "0  Aston Villa       Wigan   0.0   3.0   A  0.0  1.0\n",
       "1    Blackburn    Man City   0.0   3.0   A  0.0  1.0\n",
       "2       Bolton  Sunderland   0.0   3.0   A  0.0  1.0\n",
       "3      Chelsea        Hull   3.0   0.0   H  1.0  0.0\n",
       "4      Everton     Arsenal   0.0   3.0   A  0.0  1.0"
      ]
     },
     "execution_count": 17,
     "metadata": {},
     "output_type": "execute_result"
    }
   ],
   "source": [
    "new_df.head()"
   ]
  },
  {
   "cell_type": "markdown",
   "metadata": {},
   "source": [
    "### Input und Targets generieren"
   ]
  },
  {
   "cell_type": "code",
   "execution_count": 173,
   "metadata": {},
   "outputs": [],
   "source": [
    "input = []\n",
    "target= []\n",
    "for row in new_df.itertuples():\n",
    "    inputdf = pd.DataFrame()\n",
    "    inputdf_1 = pd.DataFrame()\n",
    "    homeTeam = row.HomeTeam\n",
    "    awayTeam = row.AwayTeam\n",
    "    index = row.Index\n",
    "    df_home = new_df[new_df['HomeTeam']==homeTeam]\n",
    "    df_home = df_home.truncate(after= index)\n",
    "    df_home.drop(index, inplace=True)\n",
    "    inputdf['H'] = df_home.tail()['SPH']\n",
    "    if len(inputdf.index) == 5:\n",
    "        df_away = new_df[new_df['AwayTeam']==awayTeam]\n",
    "        df_away = df_away.truncate(after= index)\n",
    "        df_away.drop(index, inplace=True)\n",
    "        inputdf_1['A']= df_away.tail()['SPA']\n",
    "        if len(inputdf_1.index) == 5:\n",
    "            inputdf['A']= inputdf_1['A'].values\n",
    "            inputlist = inputdf.values.tolist()\n",
    "            target_df = row.FTR\n",
    "            input.append(inputlist)\n",
    "            target.append(target_df)"
   ]
  },
  {
   "cell_type": "code",
   "execution_count": 174,
   "metadata": {},
   "outputs": [
    {
     "data": {
      "text/plain": [
       "True"
      ]
     },
     "execution_count": 174,
     "metadata": {},
     "output_type": "execute_result"
    }
   ],
   "source": [
    "len(input) == len(target)"
   ]
  },
  {
   "cell_type": "code",
   "execution_count": 175,
   "metadata": {},
   "outputs": [],
   "source": [
    "# Aus den Targets einen 3-zeiligen Vektor machen\n",
    "target_vector = []\n",
    "for result in target:\n",
    "    if result == 'H':\n",
    "        data = [1.,0.,0.]\n",
    "    elif result == 'D':\n",
    "        data = [0.,1.,0.]\n",
    "    else:\n",
    "        data = [0.,0.,1.]\n",
    "    target_vector.append(data)"
   ]
  },
  {
   "cell_type": "code",
   "execution_count": 161,
   "metadata": {},
   "outputs": [
    {
     "data": {
      "text/plain": [
       "True"
      ]
     },
     "execution_count": 161,
     "metadata": {},
     "output_type": "execute_result"
    }
   ],
   "source": [
    "len(input) == len(target_vector)"
   ]
  },
  {
   "cell_type": "code",
   "execution_count": 162,
   "metadata": {},
   "outputs": [
    {
     "data": {
      "text/plain": [
       "list"
      ]
     },
     "execution_count": 162,
     "metadata": {},
     "output_type": "execute_result"
    }
   ],
   "source": [
    "type(target_vector[0])"
   ]
  },
  {
   "cell_type": "code",
   "execution_count": 163,
   "metadata": {},
   "outputs": [
    {
     "data": {
      "text/plain": [
       "[0.0, 0.0, 1.0]"
      ]
     },
     "execution_count": 163,
     "metadata": {},
     "output_type": "execute_result"
    }
   ],
   "source": [
    "target_vector[0]"
   ]
  },
  {
   "cell_type": "code",
   "execution_count": 176,
   "metadata": {},
   "outputs": [
    {
     "data": {
      "text/plain": [
       "[[0.0, 1.0],\n",
       " [0.0, 1.0],\n",
       " [0.3333333333333333, 1.0],\n",
       " [0.3333333333333333, 0.0],\n",
       " [1.0, 0.0]]"
      ]
     },
     "execution_count": 176,
     "metadata": {},
     "output_type": "execute_result"
    }
   ],
   "source": [
    "input[0]"
   ]
  },
  {
   "cell_type": "code",
   "execution_count": 177,
   "metadata": {},
   "outputs": [
    {
     "data": {
      "text/plain": [
       "list"
      ]
     },
     "execution_count": 177,
     "metadata": {},
     "output_type": "execute_result"
    }
   ],
   "source": [
    "type(input[0])"
   ]
  },
  {
   "cell_type": "code",
   "execution_count": 136,
   "metadata": {},
   "outputs": [],
   "source": [
    "#for df in input:\n",
    "#    df = df.to_numpy()"
   ]
  },
  {
   "cell_type": "markdown",
   "metadata": {},
   "source": [
    "### Daten in Test und Trainingsdaten teilen"
   ]
  },
  {
   "cell_type": "code",
   "execution_count": 151,
   "metadata": {},
   "outputs": [],
   "source": [
    "from sklearn.model_selection import train_test_split"
   ]
  },
  {
   "cell_type": "code",
   "execution_count": 178,
   "metadata": {},
   "outputs": [],
   "source": [
    "input_train, input_test, target_train, target_test = train_test_split(input, target_vector, test_size=0.20) "
   ]
  },
  {
   "cell_type": "code",
   "execution_count": 214,
   "metadata": {},
   "outputs": [
    {
     "data": {
      "text/plain": [
       "[[0.0, 0.0],\n",
       " [1.0, 0.0],\n",
       " [0.3333333333333333, 0.0],\n",
       " [0.3333333333333333, 0.0],\n",
       " [0.3333333333333333, 0.0]]"
      ]
     },
     "execution_count": 214,
     "metadata": {},
     "output_type": "execute_result"
    }
   ],
   "source": [
    "input_train[0]"
   ]
  },
  {
   "cell_type": "markdown",
   "metadata": {},
   "source": [
    "### Datensatz aus Input und Target erstellen"
   ]
  },
  {
   "cell_type": "code",
   "execution_count": 87,
   "metadata": {},
   "outputs": [],
   "source": [
    "class TempDataset(Dataset):\n",
    "    def __init__(self, input, target):\n",
    "        self.input=input\n",
    "        self.target=target\n",
    "        \n",
    "    def __len__(self):\n",
    "        return len(self.target)\n",
    "    \n",
    "    def __getitem__(self, index):\n",
    "        x = self.input[index]\n",
    "        y = self.target[index]\n",
    "        \n",
    "        return x, y"
   ]
  },
  {
   "cell_type": "code",
   "execution_count": 180,
   "metadata": {},
   "outputs": [],
   "source": [
    "#Trainingsdatensatz erstellen\n",
    "training_set = TempDataset(input_train, target_train)"
   ]
  },
  {
   "cell_type": "code",
   "execution_count": 181,
   "metadata": {},
   "outputs": [
    {
     "data": {
      "text/plain": [
       "0.8"
      ]
     },
     "execution_count": 181,
     "metadata": {},
     "output_type": "execute_result"
    }
   ],
   "source": [
    "len(training_set)/len(target_vector)"
   ]
  },
  {
   "cell_type": "code",
   "execution_count": 182,
   "metadata": {},
   "outputs": [
    {
     "data": {
      "text/plain": [
       "2832"
      ]
     },
     "execution_count": 182,
     "metadata": {},
     "output_type": "execute_result"
    }
   ],
   "source": [
    "len(input_train)"
   ]
  },
  {
   "cell_type": "code",
   "execution_count": 380,
   "metadata": {},
   "outputs": [],
   "source": [
    "# Trainingsdatensatz in richtige Form bringen\n",
    "def mycollate(batch):\n",
    "    input = torch.Tensor([item[0] for item in batch]).view(16,5,2).permute(1,0,2)\n",
    "    target= torch.Tensor([item[1] for item in batch]).view(16,1,3).permute(1,0,2)\n",
    "    return input, target"
   ]
  },
  {
   "cell_type": "code",
   "execution_count": 381,
   "metadata": {},
   "outputs": [],
   "source": [
    "params = {'batch_size' : 16,\n",
    "         'shuffle' : False,\n",
    "         'num_workers' : 0,\n",
    "         'collate_fn' : mycollate}"
   ]
  },
  {
   "cell_type": "code",
   "execution_count": 382,
   "metadata": {},
   "outputs": [],
   "source": [
    "training_generator = DataLoader(training_set, **params)"
   ]
  },
  {
   "cell_type": "code",
   "execution_count": 383,
   "metadata": {},
   "outputs": [
    {
     "data": {
      "text/plain": [
       "torch.Size([5, 16, 2])"
      ]
     },
     "execution_count": 383,
     "metadata": {},
     "output_type": "execute_result"
    }
   ],
   "source": [
    "x,y = next(iter(training_generator))\n",
    "x.size()"
   ]
  },
  {
   "cell_type": "code",
   "execution_count": 384,
   "metadata": {},
   "outputs": [
    {
     "data": {
      "text/plain": [
       "torch.Size([1, 16, 3])"
      ]
     },
     "execution_count": 384,
     "metadata": {},
     "output_type": "execute_result"
    }
   ],
   "source": [
    "y.size()"
   ]
  },
  {
   "cell_type": "code",
   "execution_count": 385,
   "metadata": {},
   "outputs": [
    {
     "data": {
      "text/plain": [
       "True"
      ]
     },
     "execution_count": 385,
     "metadata": {},
     "output_type": "execute_result"
    }
   ],
   "source": [
    "x.size()[1]==16"
   ]
  },
  {
   "cell_type": "markdown",
   "metadata": {},
   "source": [
    "## LSTM-Netz errichten"
   ]
  },
  {
   "cell_type": "code",
   "execution_count": 393,
   "metadata": {},
   "outputs": [],
   "source": [
    "BATCH_SIZE = params['batch_size']\n",
    "NUM_LAYERS = 3\n",
    "\n",
    "class LSTMnn(nn.Module):\n",
    "    \n",
    "    def __init__(self , input_size , hidden_size , output_size , \n",
    "                 batch_size = BATCH_SIZE , num_layers = NUM_LAYERS ) :\n",
    "        super(LSTMnn, self).__init__()\n",
    "        self.batch_size = batch_size\n",
    "        # creation LSTM LAYER\n",
    "        self.num_layers = num_layers\n",
    "        self.input_size = input_size\n",
    "        self.hidden_size = hidden_size\n",
    "        self.lstm = nn.LSTM(self.input_size, self.hidden_size, self.num_layers, batch_first = False)\n",
    "        self.hidden = self.init_hidden()\n",
    "        #Creation Linear Layer\n",
    "        self.output_size = output_size\n",
    "        self.linear = nn.Linear(self.hidden_size, self.output_size)\n",
    "        \n",
    "    def init_hidden(self): # random Weights will be generated\n",
    "        return (torch.rand(self.num_layers, self.batch_size, self.hidden_size),\n",
    "               torch.rand(self.num_layers, self.batch_size, self.hidden_size))\n",
    "    \n",
    "    def forward(self, input_seqence):\n",
    "        out, _ = self.lstm(input_seqence, self.hidden)\n",
    "        output = torch.sigmoid(self.linear(out[-1]))\n",
    "        return output"
   ]
  },
  {
   "cell_type": "code",
   "execution_count": 398,
   "metadata": {},
   "outputs": [],
   "source": [
    "# 20>hidden>9,6\n",
    "lstm = LSTMnn(input_size=2, hidden_size=15, output_size=3, batch_size= BATCH_SIZE, num_layers=NUM_LAYERS)"
   ]
  },
  {
   "cell_type": "code",
   "execution_count": 399,
   "metadata": {},
   "outputs": [],
   "source": [
    "# Fehlerfinktion und Lernfunktion \n",
    "loss_function = nn.MSELoss()\n",
    "optimizer = optim.Adam(lstm.parameters(), lr =0.03)"
   ]
  },
  {
   "cell_type": "code",
   "execution_count": 400,
   "metadata": {},
   "outputs": [
    {
     "name": "stdout",
     "output_type": "stream",
     "text": [
      "Fehler letzter Batch: 0.1980917900800705\n",
      "Fehler letzter Batch: 0.19753947854042053\n",
      "Fehler letzter Batch: 0.1977921575307846\n",
      "Fehler letzter Batch: 0.19799688458442688\n",
      "Fehler letzter Batch: 0.19815649092197418\n",
      "Fehler letzter Batch: 0.19829078018665314\n",
      "Fehler letzter Batch: 0.19838325679302216\n",
      "Fehler letzter Batch: 0.19838446378707886\n",
      "Fehler letzter Batch: 0.19852273166179657\n",
      "Fehler letzter Batch: 0.198472797870636\n"
     ]
    }
   ],
   "source": [
    "loss_memory= []\n",
    "for epoch in range (10):\n",
    "    for local_batch, local_labels in training_generator:\n",
    "        lstm.zero_grad()\n",
    "        if local_batch.size()[1] == 16:\n",
    "            out = lstm(local_batch)\n",
    "            loss = loss_function(out, local_labels)\n",
    "            loss_memory.append(loss)\n",
    "            loss.backward(retain_graph = True)\n",
    "            optimizer.step()\n",
    "    print('Fehler letzter Batch: {}'.format(loss.item()))"
   ]
  },
  {
   "cell_type": "code",
   "execution_count": 391,
   "metadata": {},
   "outputs": [
    {
     "data": {
      "text/plain": [
       "tensor([[0.4615, 0.2446, 0.2926],\n",
       "        [0.4609, 0.2458, 0.2940],\n",
       "        [0.4616, 0.2443, 0.2923],\n",
       "        [0.4595, 0.2461, 0.2949],\n",
       "        [0.4618, 0.2440, 0.2919],\n",
       "        [0.4612, 0.2456, 0.2937],\n",
       "        [0.4613, 0.2448, 0.2929],\n",
       "        [0.4612, 0.2453, 0.2934],\n",
       "        [0.4844, 0.2353, 0.2740],\n",
       "        [0.4609, 0.2459, 0.2941],\n",
       "        [0.4601, 0.2458, 0.2944],\n",
       "        [0.4597, 0.2452, 0.2940],\n",
       "        [0.4596, 0.2464, 0.2952],\n",
       "        [0.4674, 0.2417, 0.2873],\n",
       "        [0.4614, 0.2449, 0.2929],\n",
       "        [0.4617, 0.2448, 0.2928]], grad_fn=<SigmoidBackward>)"
      ]
     },
     "execution_count": 391,
     "metadata": {},
     "output_type": "execute_result"
    }
   ],
   "source": [
    "lstm(x)"
   ]
  },
  {
   "cell_type": "code",
   "execution_count": 368,
   "metadata": {},
   "outputs": [],
   "source": [
    "from ipypublish import nb_setup"
   ]
  },
  {
   "cell_type": "code",
   "execution_count": 392,
   "metadata": {},
   "outputs": [
    {
     "data": {
      "image/png": "[encoded data removed]",
      "text/plain": [
       "<Figure size 640x480 with 1 Axes>"
      ]
     },
     "metadata": {
      "needs_background": "light"
     },
     "output_type": "display_data"
    }
   ],
   "source": [
    "y = [item.item() for item in loss_memory]\n",
    "x = range(len(loss_memory))\n",
    "plt = nb_setup.setup_matplotlib(output =('png','png'))\n",
    "plt.plot(x, y, label = 'Fehlerentwicklung')\n",
    "plt.ylabel(r'Fehler')\n",
    "plt.xlabel(r'Anzahl Trainingsbatches')\n",
    "plt.legend();"
   ]
  },
  {
   "cell_type": "code",
   "execution_count": null,
   "metadata": {},
   "outputs": [],
   "source": []
  }
 ],
 "metadata": {
  "kernelspec": {
   "display_name": "Python 3",
   "language": "python",
   "name": "python3"
  },
  "language_info": {
   "codemirror_mode": {
    "name": "ipython",
    "version": 3
   },
   "file_extension": ".py",
   "mimetype": "text/x-python",
   "name": "python",
   "nbconvert_exporter": "python",
   "pygments_lexer": "ipython3",
   "version": "3.7.4"
  }
 },
 "nbformat": 4,
 "nbformat_minor": 4
}
