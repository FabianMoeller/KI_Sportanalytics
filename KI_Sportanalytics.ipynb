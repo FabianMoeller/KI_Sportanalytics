{
 "cells": [
  {
   "cell_type": "code",
   "execution_count": 2,
   "metadata": {},
   "outputs": [],
   "source": [
    "import torch\n",
    "import torch.nn as nn\n",
    "import torch.functional as F"
   ]
  },
  {
   "cell_type": "code",
   "execution_count": 3,
   "metadata": {},
   "outputs": [],
   "source": [
    "class NeuronalNet(nn.Module):\n",
    "        def __init__(self):\n",
    "            super(NeuronalNet, self).__init__()\n",
    "            self.lin1 = nn.Linear(10,10)\n",
    "            self.lin2 = nn.Linear(10,10)\n",
    "        def forward(self,x):\n",
    "            x = F.relu(self.lin1(x))\n",
    "            x = self.lin2(x)\n",
    "            return x\n",
    "        def num_flat_features(self,x):\n",
    "            size = x.size()[1:]\n",
    "            num = 1\n",
    "            for i in size:\n",
    "                num *= i\n",
    "            return num"
   ]
  },
  {
   "cell_type": "code",
   "execution_count": 4,
   "metadata": {},
   "outputs": [],
   "source": [
    "net = NeuronalNet()"
   ]
  },
  {
   "cell_type": "code",
   "execution_count": null,
   "metadata": {},
   "outputs": [],
   "source": []
  }
 ],
 "metadata": {
  "kernelspec": {
   "display_name": "Python 3",
   "language": "python",
   "name": "python3"
  },
  "language_info": {
   "codemirror_mode": {
    "name": "ipython",
    "version": 3
   },
   "file_extension": ".py",
   "mimetype": "text/x-python",
   "name": "python",
   "nbconvert_exporter": "python",
   "pygments_lexer": "ipython3",
   "version": "3.7.4"
  }
 },
 "nbformat": 4,
 "nbformat_minor": 4
}
