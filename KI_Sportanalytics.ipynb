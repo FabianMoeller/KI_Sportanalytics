{
 "cells": [
  {
   "cell_type": "code",
   "execution_count": 2,
   "metadata": {},
   "outputs": [],
   "source": [
    "import torch\n",
    "import torch.nn as nn\n",
    "import torch.functional as F\n",
    "from torch.utils.data import Dataset, DataLoader\n",
    "import pandas as pd\n",
    "import numpy as np"
   ]
  },
  {
   "cell_type": "code",
   "execution_count": 3,
   "metadata": {},
   "outputs": [],
   "source": [
    "class NeuronalNet(nn.Module):\n",
    "        def __init__(self):\n",
    "            super(NeuronalNet, self).__init__()\n",
    "            self.lin1 = nn.Linear(9,9)\n",
    "            self.lin2 = nn.Linear(9,10)\n",
    "            self.lin3 = nn.Linear(10,3)\n",
    "        def forward(self,x):\n",
    "            x = self.lin1(x)\n",
    "            x = F.relu(x)\n",
    "            x = F.relu(self.lin2(x))\n",
    "            x = F.relu(self.lin3(x))\n",
    "            return x"
   ]
  },
  {
   "cell_type": "code",
   "execution_count": 4,
   "metadata": {},
   "outputs": [],
   "source": [
    "net = NeuronalNet()"
   ]
  },
  {
   "cell_type": "code",
   "execution_count": 5,
   "metadata": {},
   "outputs": [],
   "source": [
    "#/Users/fabian-maltemoller/Developer/Ki/KI_Daten/topTeamsEngland.csv\n",
    "#'C:\\\\Users\\\\dusti\\\\iCloudDrive\\\\Studium WI\\\\WS2019\\\\KI\\\\topTeamsEngland.csv'"
   ]
  },
  {
   "cell_type": "code",
   "execution_count": 6,
   "metadata": {},
   "outputs": [],
   "source": [
    "topTeams_england = pd.read_csv('C:\\\\Users\\\\dusti\\\\iCloudDrive\\\\Studium WI\\\\WS2019\\\\KI\\\\topTeamsEngland.csv', sep=';')"
   ]
  },
  {
   "cell_type": "code",
   "execution_count": 7,
   "metadata": {},
   "outputs": [],
   "source": [
    "df = pd.DataFrame(topTeams_england, columns = ['Date','HomeTeam','AwayTeam','FTHG','FTAG','FTR'])"
   ]
  },
  {
   "cell_type": "code",
   "execution_count": 8,
   "metadata": {},
   "outputs": [],
   "source": [
    "df_names = df.drop_duplicates(['HomeTeam','AwayTeam'],keep = 'last')"
   ]
  },
  {
   "cell_type": "code",
   "execution_count": 9,
   "metadata": {},
   "outputs": [],
   "source": [
    "df_names = df_names[['HomeTeam','AwayTeam']]"
   ]
  },
  {
   "cell_type": "code",
   "execution_count": 10,
   "metadata": {},
   "outputs": [],
   "source": [
    "gameList = []\n",
    "for row in df_names.itertuples():\n",
    "    data = [[row.HomeTeam,row.AwayTeam]]\n",
    "    gameList.append(pd.DataFrame(data))\n"
   ]
  },
  {
   "cell_type": "code",
   "execution_count": 11,
   "metadata": {},
   "outputs": [
    {
     "name": "stdout",
     "output_type": "stream",
     "text": [
      "[         0         1\n",
      "0  Arsenal  Man City,          0        1\n",
      "0  Chelsea  Arsenal,             0          1\n",
      "0  Man United  Tottenham,            0          1\n",
      "0  Tottenham  Liverpool,          0        1\n",
      "0  Arsenal  Everton,          0          1\n",
      "0  Chelsea  Liverpool,            0         1\n",
      "0  Liverpool  Man City,          0           1\n",
      "0  Chelsea  Man United,             0        1\n",
      "0  Man United  Everton,            0         1\n",
      "0  Tottenham  Man City,          0          1\n",
      "0  Arsenal  Liverpool,          0        1\n",
      "0  Chelsea  Everton,           0           1\n",
      "0  Man City  Man United,            0        1\n",
      "0  Tottenham  Chelsea,          0          1\n",
      "0  Arsenal  Tottenham,            0        1\n",
      "0  Liverpool  Everton,             0        1\n",
      "0  Man United  Arsenal,          0         1\n",
      "0  Chelsea  Man City,           0        1\n",
      "0  Man City  Everton,            0           1\n",
      "0  Liverpool  Man United,          0          1\n",
      "0  Everton  Tottenham,            0        1\n",
      "0  Liverpool  Arsenal,           0          1\n",
      "0  Man City  Liverpool,            0           1\n",
      "0  Tottenham  Man United,          0        1\n",
      "0  Arsenal  Chelsea,           0        1\n",
      "0  Man City  Arsenal,          0         1\n",
      "0  Everton  Man City,           0        1\n",
      "0  Man City  Chelsea,             0          1\n",
      "0  Man United  Liverpool,          0          1\n",
      "0  Chelsea  Tottenham,            0        1\n",
      "0  Tottenham  Arsenal,          0          1\n",
      "0  Everton  Liverpool,          0           1\n",
      "0  Arsenal  Man United,          0        1\n",
      "0  Everton  Chelsea,            0          1\n",
      "0  Liverpool  Tottenham,          0        1\n",
      "0  Everton  Arsenal,            0        1\n",
      "0  Liverpool  Chelsea,           0          1\n",
      "0  Man City  Tottenham,          0           1\n",
      "0  Everton  Man United,             0         1\n",
      "0  Man United  Man City,             0        1\n",
      "0  Man United  Chelsea,            0        1\n",
      "0  Tottenham  Everton]\n"
     ]
    }
   ],
   "source": [
    "print(gameList)"
   ]
  },
  {
   "cell_type": "code",
   "execution_count": 62,
   "metadata": {},
   "outputs": [],
   "source": [
    "def inputValues(gameList, df_stats,inputList):\n",
    "    for match in gameList:\n",
    "        homeTeam = match.iat[0,0]\n",
    "        awayTeam = match.iat[0,1]\n",
    "        input_values= df_stats[df_stats['HomeTeam']==homeTeam]\n",
    "        input_values= input_values[input_values['AwayTeam']==awayTeam]\n",
    "        input_values= input_values.reset_index(drop=True)\n",
    "        input_values = input_values[:-1]\n",
    "        inputList.append(input_values.loc[:,['FTHG','FTAG']])"
   ]
  },
  {
   "cell_type": "code",
   "execution_count": 64,
   "metadata": {},
   "outputs": [
    {
     "name": "stdout",
     "output_type": "stream",
     "text": [
      "   FTHG  FTAG\n",
      "0     0     0\n",
      "1     0     0\n",
      "2     1     0\n",
      "3     0     2\n",
      "4     1     1\n",
      "5     2     2\n",
      "6     2     1\n",
      "7     2     2\n",
      "8     0     3\n"
     ]
    }
   ],
   "source": [
    "unnormaleListe = []\n",
    "inputValues(gameList, df, unnormaleListe)\n",
    "print(unnormaleListe[0])"
   ]
  },
  {
   "cell_type": "code",
   "execution_count": null,
   "metadata": {},
   "outputs": [],
   "source": []
  }
 ],
 "metadata": {
  "kernelspec": {
   "display_name": "Python 3",
   "language": "python",
   "name": "python3"
  },
  "language_info": {
   "codemirror_mode": {
    "name": "ipython",
    "version": 3
   },
   "file_extension": ".py",
   "mimetype": "text/x-python",
   "name": "python",
   "nbconvert_exporter": "python",
   "pygments_lexer": "ipython3",
   "version": "3.7.4"
  }
 },
 "nbformat": 4,
 "nbformat_minor": 4
}
