{
 "cells": [
  {
   "cell_type": "code",
   "execution_count": 286,
   "metadata": {},
   "outputs": [],
   "source": [
    "import torch\n",
    "import torch.nn as nn\n",
    "import torch.nn.functional as F\n",
    "import torch.optim as optim\n",
    "from torch.utils.data import Dataset, DataLoader\n",
    "import pandas as pd\n",
    "import numpy as np\n",
    "from sklearn.model_selection import train_test_split"
   ]
  },
  {
   "cell_type": "markdown",
   "metadata": {},
   "source": [
    "# Konfiguration neuronale Netze"
   ]
  },
  {
   "cell_type": "code",
   "execution_count": 287,
   "metadata": {},
   "outputs": [],
   "source": [
    "class NeuronalNetScalar(nn.Module):\n",
    "        def __init__(self):\n",
    "            super(NeuronalNetScalar, self).__init__()\n",
    "            self.lin1 = nn.Linear(8,30)\n",
    "            self.lin2 = nn.Linear(30,30)\n",
    "            self.lin3 = nn.Linear(30,1)\n",
    "        def forward(self,x):\n",
    "            x = self.lin1(x)\n",
    "            x = F.relu(x)\n",
    "            x = F.relu(self.lin2(x))\n",
    "            x = F.relu(self.lin3(x))\n",
    "            return x"
   ]
  },
  {
   "cell_type": "markdown",
   "metadata": {},
   "source": [
    "# Datenbeschaffung"
   ]
  },
  {
   "cell_type": "code",
   "execution_count": 288,
   "metadata": {},
   "outputs": [],
   "source": [
    "#Die Tore der einzelnen Mannschaften pro Spiel aus den matches in eine Liste schreiben\n",
    "def inputValues(gameList, df_stats,inputList):\n",
    "    for match in gameList:\n",
    "        homeTeam = match.iat[0,0]\n",
    "        awayTeam = match.iat[0,1]\n",
    "        input_values= df_stats[df_stats['HomeTeam']==homeTeam]\n",
    "        input_values= input_values[input_values['AwayTeam']==awayTeam]\n",
    "        input_values= input_values.reset_index(drop=True)\n",
    "        input_values = input_values[:-1]\n",
    "        inputList.append(input_values.loc[:,['FTHG','FTAG']])"
   ]
  },
  {
   "cell_type": "code",
   "execution_count": 289,
   "metadata": {},
   "outputs": [],
   "source": [
    "#Methode um aus einer Liste eine Tensorliste mit Floatwerten generieren\n",
    "def dfToTensor(dfList, tensorList):\n",
    "    for df in dfList:\n",
    "        tensor = torch.FloatTensor(df.values).view(8)\n",
    "        tensorList.append(tensor)"
   ]
  },
  {
   "cell_type": "code",
   "execution_count": 290,
   "metadata": {},
   "outputs": [],
   "source": [
    "def dfToTensor_forOutput(dfList, tensorList, viewValue):\n",
    "    for df in dfList:\n",
    "        tensor = torch.FloatTensor(df).view(viewValue)\n",
    "        tensorList.append(tensor)"
   ]
  },
  {
   "cell_type": "markdown",
   "metadata": {},
   "source": [
    "# Output Scalar"
   ]
  },
  {
   "cell_type": "code",
   "execution_count": 308,
   "metadata": {},
   "outputs": [],
   "source": [
    "#Outputvalues generieren, indem bei Heimsieg 0, bei unentschieden 1 und bei Auswärtssieg 2 gesetzt wird\n",
    "def outputValuesScalar(gameList, df_stats,outputList):\n",
    "    for match in gameList:\n",
    "        homeTeam = match.iat[0,0]\n",
    "        awayTeam = match.iat[0,1]\n",
    "        output_values= df_stats[df_stats['HomeTeam']==homeTeam]\n",
    "        output_values= output_values[output_values['AwayTeam']==awayTeam]\n",
    "        output_values= output_values.reset_index(drop=True)\n",
    "        output_values = output_values.tail(1)\n",
    "        output_values = output_values.loc[:,['FTHG','FTAG']]\n",
    "        homegoals = output_values.loc[:,['FTHG']].iloc[0]['FTHG']\n",
    "        awaygoals = output_values.loc[:,['FTAG']].iloc[0]['FTAG']\n",
    "        if homegoals > awaygoals:\n",
    "            df_out=[0.]\n",
    "        if homegoals == awaygoals:\n",
    "            df_out=[1.]\n",
    "        if homegoals < awaygoals:\n",
    "            df_out=[2.]\n",
    "        outputList.append(df_out)"
   ]
  },
  {
   "cell_type": "markdown",
   "metadata": {},
   "source": [
    "# Input Scalar"
   ]
  },
  {
   "cell_type": "code",
   "execution_count": 309,
   "metadata": {},
   "outputs": [],
   "source": [
    "#Pfade Fabian\n",
    "#/Users/fabian-maltemoller/Developer/Ki/KI_Daten/09_10-13_14.csv\n",
    "#/Users/fabian-maltemoller/Developer/Ki/KI_Daten/10_11-14_15.csv\n",
    "#/Users/fabian-maltemoller/Developer/Ki/KI_Daten/11_12-15_16.csv\n",
    "#/Users/fabian-maltemoller/Developer/Ki/KI_Daten/12_13-16_17.csv\n",
    "#/Users/fabian-maltemoller/Developer/Ki/KI_Daten/13_14-17_18.csv\n",
    "#/Users/fabian-maltemoller/Developer/Ki/KI_Daten/14_15-18_19.csv\n",
    "\n",
    "#C:\\\\Users\\\\dusti\\\\iCloudDrive\\\\Studium WI\\\\WS2019\\\\KI\\\\csvData\\\\09_10-13_14.csv\n",
    "#C:\\\\Users\\\\dusti\\\\iCloudDrive\\\\Studium WI\\\\WS2019\\\\KI\\\\csvData\\\\10_11-14_15.csv\n",
    "#C:\\\\Users\\\\dusti\\\\iCloudDrive\\\\Studium WI\\\\WS2019\\\\KI\\\\csvData\\\\11_12-15_16.csv\n",
    "#C:\\\\Users\\\\dusti\\\\iCloudDrive\\\\Studium WI\\\\WS2019\\\\KI\\\\csvData\\\\12_13-16_17.csv\n",
    "#C:\\\\Users\\\\dusti\\\\iCloudDrive\\\\Studium WI\\\\WS2019\\\\KI\\\\csvData\\\\13_14-17_18.csv\n",
    "#C:\\\\Users\\\\dusti\\\\iCloudDrive\\\\Studium WI\\\\WS2019\\\\KI\\\\csvData\\\\14_15-18_19.csv"
   ]
  },
  {
   "cell_type": "code",
   "execution_count": 293,
   "metadata": {},
   "outputs": [],
   "source": [
    "def new_inputs_Scalar(path,TestInputListe,TestOutputListe):\n",
    "    topTeams = pd.read_csv(path, sep=';')\n",
    "    df = pd.DataFrame(topTeams, columns = ['Date','HomeTeam','AwayTeam','FTHG','FTAG','FTR'])\n",
    "    df_names = df.drop_duplicates(['HomeTeam','AwayTeam'],keep = 'last')\n",
    "    df_names = df_names[['HomeTeam','AwayTeam']]\n",
    "    gameListe = []\n",
    "    for row in df_names.itertuples():\n",
    "        data = [[row.HomeTeam,row.AwayTeam]]\n",
    "        gameListe.append(pd.DataFrame(data))\n",
    "    inputValues(gameListe, df,TestInputListe)\n",
    "    outputValuesScalar(gameListe,df,TestOutputListe)"
   ]
  },
  {
   "cell_type": "code",
   "execution_count": 294,
   "metadata": {},
   "outputs": [],
   "source": [
    "inputList_0910_1314_Scalar = []\n",
    "outputList_0910_1314_Scalar = []\n",
    "new_inputs_Scalar('/Users/fabian-maltemoller/Developer/Ki/KI_Daten/09_10-13_14.csv',inputList_0910_1314_Scalar,outputList_0910_1314_Scalar)\n",
    "#new_inputs('C:\\\\Users\\\\dusti\\\\iCloudDrive\\\\Studium WI\\\\WS2019\\\\KI\\\\csvData\\\\09_10-13_14.csv',inputList_0910_1314,outputList_0910_1314)\n",
    "\n",
    "inputList_1011_1415_Scalar = []\n",
    "outputList_1011_1415_Scalar = []\n",
    "new_inputs_Scalar('/Users/fabian-maltemoller/Developer/Ki/KI_Daten/10_11-14_15.csv',inputList_1011_1415_Scalar,outputList_1011_1415_Scalar)\n",
    "#new_inputs('C:\\\\Users\\\\dusti\\\\iCloudDrive\\\\Studium WI\\\\WS2019\\\\KI\\\\csvData\\\\10_11-14_15.csv',inputList_1011_1415,outputList_1011_1415)\n",
    "\n",
    "inputList_1112_1516_Scalar = []\n",
    "outputList_1112_1516_Scalar = []\n",
    "new_inputs_Scalar('/Users/fabian-maltemoller/Developer/Ki/KI_Daten/11_12-15_16.csv',inputList_1112_1516_Scalar,outputList_1112_1516_Scalar)\n",
    "#new_inputs('C:\\\\Users\\\\dusti\\\\iCloudDrive\\\\Studium WI\\\\WS2019\\\\KI\\\\csvData\\\\11_12-15_16.csv',inputList_1112_1516,outputList_1112_1516)\n",
    "\n",
    "inputList_1213_1617_Scalar = []\n",
    "outputList_1213_1617_Scalar = []\n",
    "new_inputs_Scalar('/Users/fabian-maltemoller/Developer/Ki/KI_Daten/12_13-16_17.csv',inputList_1213_1617_Scalar,outputList_1213_1617_Scalar)\n",
    "#new_inputs('C:\\\\Users\\\\dusti\\\\iCloudDrive\\\\Studium WI\\\\WS2019\\\\KI\\\\csvData\\\\12_13-16_17.csv',inputList_1213_1617,outputList_1213_1617)\n",
    "\n",
    "inputList_1314_1718_Scalar = []\n",
    "outputList_1314_1718_Scalar = []\n",
    "new_inputs_Scalar('/Users/fabian-maltemoller/Developer/Ki/KI_Daten/13_14-17_18.csv',inputList_1314_1718_Scalar,outputList_1314_1718_Scalar)\n",
    "#new_inputs('C:\\\\Users\\\\dusti\\\\iCloudDrive\\\\Studium WI\\\\WS2019\\\\KI\\\\csvData\\\\13_14-17_18.csv',inputList_1314_1718,outputList_1314_1718)\n",
    "\n",
    "inputList_1415_1819_Scalar = []\n",
    "outputList_1415_1819_Scalar = []\n",
    "new_inputs_Scalar('/Users/fabian-maltemoller/Developer/Ki/KI_Daten/14_15-18_19.csv',inputList_1415_1819_Scalar,outputList_1415_1819_Scalar)\n",
    "#new_inputs('C:\\\\Users\\\\dusti\\\\iCloudDrive\\\\Studium WI\\\\WS2019\\\\KI\\\\csvData\\\\14_15-18_19.csv',inputList_1415_1819,outputList_1415_1819)"
   ]
  },
  {
   "cell_type": "code",
   "execution_count": 295,
   "metadata": {},
   "outputs": [
    {
     "name": "stdout",
     "output_type": "stream",
     "text": [
      "11\n",
      "14\n",
      "32\n",
      "46\n",
      "54\n",
      "63\n",
      "85\n",
      "92\n",
      "97\n",
      "109\n",
      "116\n"
     ]
    }
   ],
   "source": [
    "#In Liste inputList_1415_1819 waren leere Dataframes drin, die werden in diesem Zwischenschritt rausgelöscht\n",
    "for i in range(len(inputList_1415_1819_Scalar)):\n",
    "    if inputList_1415_1819_Scalar[i].empty:\n",
    "        print(i)"
   ]
  },
  {
   "cell_type": "code",
   "execution_count": 296,
   "metadata": {},
   "outputs": [
    {
     "name": "stdout",
     "output_type": "stream",
     "text": [
      "110\n",
      "110\n"
     ]
    }
   ],
   "source": [
    "inputList_1415_1819_Scalar.pop(11)\n",
    "inputList_1415_1819_Scalar.pop(13)\n",
    "inputList_1415_1819_Scalar.pop(30)\n",
    "inputList_1415_1819_Scalar.pop(43)\n",
    "inputList_1415_1819_Scalar.pop(50)\n",
    "inputList_1415_1819_Scalar.pop(58)\n",
    "inputList_1415_1819_Scalar.pop(79)\n",
    "inputList_1415_1819_Scalar.pop(85)\n",
    "inputList_1415_1819_Scalar.pop(89)\n",
    "inputList_1415_1819_Scalar.pop(100)\n",
    "inputList_1415_1819_Scalar.pop(106)\n",
    "\n",
    "outputList_1415_1819_Scalar.pop(11)\n",
    "outputList_1415_1819_Scalar.pop(13)\n",
    "outputList_1415_1819_Scalar.pop(30)\n",
    "outputList_1415_1819_Scalar.pop(43)\n",
    "outputList_1415_1819_Scalar.pop(50)\n",
    "outputList_1415_1819_Scalar.pop(58)\n",
    "outputList_1415_1819_Scalar.pop(79)\n",
    "outputList_1415_1819_Scalar.pop(85)\n",
    "outputList_1415_1819_Scalar.pop(89)\n",
    "outputList_1415_1819_Scalar.pop(100)\n",
    "outputList_1415_1819_Scalar.pop(106)\n",
    "\n",
    "print(len(inputList_1415_1819_Scalar))\n",
    "print(len(outputList_1415_1819_Scalar))"
   ]
  },
  {
   "cell_type": "code",
   "execution_count": 297,
   "metadata": {},
   "outputs": [],
   "source": [
    "train_tensor_input_scalar = []\n",
    "dfToTensor(inputList_0910_1314_Scalar,train_tensor_input_scalar)\n",
    "dfToTensor(inputList_1011_1415_Scalar,train_tensor_input_scalar)\n",
    "dfToTensor(inputList_1112_1516_Scalar,train_tensor_input_scalar)\n",
    "dfToTensor(inputList_1213_1617_Scalar,train_tensor_input_scalar)\n",
    "dfToTensor(inputList_1314_1718_Scalar,train_tensor_input_scalar)\n",
    "\n",
    "test_tensor_input_scalar = []\n",
    "dfToTensor(inputList_1415_1819_Scalar,test_tensor_input_scalar)"
   ]
  },
  {
   "cell_type": "code",
   "execution_count": 298,
   "metadata": {},
   "outputs": [],
   "source": [
    "train_tensor_target_scalar = []\n",
    "dfToTensor_forOutput(outputList_0910_1314_Scalar,train_tensor_target_scalar,1)\n",
    "dfToTensor_forOutput(outputList_1011_1415_Scalar,train_tensor_target_scalar,1)\n",
    "dfToTensor_forOutput(outputList_1112_1516_Scalar,train_tensor_target_scalar,1)\n",
    "dfToTensor_forOutput(outputList_1213_1617_Scalar,train_tensor_target_scalar,1)\n",
    "dfToTensor_forOutput(outputList_1314_1718_Scalar,train_tensor_target_scalar,1)\n",
    "\n",
    "test_tensor_target_scalar = []\n",
    "dfToTensor_forOutput(outputList_1415_1819_Scalar,test_tensor_target_scalar,1)"
   ]
  },
  {
   "cell_type": "code",
   "execution_count": 310,
   "metadata": {},
   "outputs": [
    {
     "name": "stdout",
     "output_type": "stream",
     "text": [
      "tensor([4., 0., 2., 0., 0., 0., 0., 0.])\n",
      "tensor([0.])\n",
      "tensor([2., 2., 2., 1., 2., 2., 0., 3.])\n",
      "tensor([2.])\n"
     ]
    }
   ],
   "source": [
    "print(train_tensor_input_scalar[1])\n",
    "print(train_tensor_target_scalar[1])\n",
    "print(test_tensor_input_scalar[1])\n",
    "print(test_tensor_target_scalar[1])"
   ]
  },
  {
   "cell_type": "markdown",
   "metadata": {},
   "source": [
    "# Trainieren des neuronalen Netzes Skalar"
   ]
  },
  {
   "cell_type": "code",
   "execution_count": 311,
   "metadata": {},
   "outputs": [],
   "source": [
    "net = NeuronalNetScalar()"
   ]
  },
  {
   "cell_type": "code",
   "execution_count": 312,
   "metadata": {},
   "outputs": [],
   "source": [
    "criterion = nn.L1Loss()"
   ]
  },
  {
   "cell_type": "code",
   "execution_count": 313,
   "metadata": {},
   "outputs": [],
   "source": [
    "optimizer = torch.optim.SGD(net.parameters(),lr =0.01, momentum = 0.9)"
   ]
  },
  {
   "cell_type": "code",
   "execution_count": 315,
   "metadata": {},
   "outputs": [
    {
     "name": "stdout",
     "output_type": "stream",
     "text": [
      "1 305 0.8426229508196721\n",
      "1 610 0.8032786885245902\n",
      "2 305 0.8426229508196721\n",
      "2 610 0.8032786885245902\n",
      "3 305 0.8426229508196721\n",
      "3 610 0.8032786885245902\n",
      "4 305 0.8426229508196721\n",
      "4 610 0.8032786885245902\n",
      "5 305 0.8426229508196721\n",
      "5 610 0.8032786885245902\n",
      "6 305 0.8426229508196721\n",
      "6 610 0.8032786885245902\n",
      "7 305 0.8426229508196721\n",
      "7 610 0.8032786885245902\n",
      "8 305 0.8426229508196721\n",
      "8 610 0.8032786885245902\n",
      "9 305 0.8426229508196721\n",
      "9 610 0.8032786885245902\n",
      "10 305 0.8426229508196721\n",
      "10 610 0.8032786885245902\n",
      "11 305 0.8426229508196721\n",
      "11 610 0.8032786885245902\n",
      "12 305 0.8426229508196721\n",
      "12 610 0.8032786885245902\n",
      "13 305 0.8426229508196721\n",
      "13 610 0.8032786885245902\n",
      "14 305 0.8426229508196721\n",
      "14 610 0.8032786885245902\n",
      "15 305 0.8426229508196721\n",
      "15 610 0.8032786885245902\n",
      "16 305 0.8426229508196721\n",
      "16 610 0.8032786885245902\n",
      "17 305 0.8426229508196721\n",
      "17 610 0.8032786885245902\n",
      "18 305 0.8426229508196721\n",
      "18 610 0.8032786885245902\n",
      "19 305 0.8426229508196721\n",
      "19 610 0.8032786885245902\n",
      "20 305 0.8426229508196721\n",
      "20 610 0.8032786885245902\n",
      "21 305 0.8426229508196721\n",
      "21 610 0.8032786885245902\n",
      "22 305 0.8426229508196721\n",
      "22 610 0.8032786885245902\n",
      "23 305 0.8426229508196721\n",
      "23 610 0.8032786885245902\n",
      "24 305 0.8426229508196721\n",
      "24 610 0.8032786885245902\n",
      "25 305 0.8426229508196721\n",
      "25 610 0.8032786885245902\n",
      "26 305 0.8426229508196721\n",
      "26 610 0.8032786885245902\n",
      "27 305 0.8426229508196721\n",
      "27 610 0.8032786885245902\n",
      "28 305 0.8426229508196721\n",
      "28 610 0.8032786885245902\n",
      "29 305 0.8426229508196721\n",
      "29 610 0.8032786885245902\n",
      "30 305 0.8426229508196721\n",
      "30 610 0.8032786885245902\n",
      "31 305 0.8426229508196721\n",
      "31 610 0.8032786885245902\n",
      "32 305 0.8426229508196721\n",
      "32 610 0.8032786885245902\n",
      "33 305 0.8426229508196721\n",
      "33 610 0.8032786885245902\n",
      "34 305 0.8426229508196721\n",
      "34 610 0.8032786885245902\n",
      "35 305 0.8426229508196721\n",
      "35 610 0.8032786885245902\n",
      "36 305 0.8426229508196721\n",
      "36 610 0.8032786885245902\n",
      "37 305 0.8426229508196721\n",
      "37 610 0.8032786885245902\n",
      "38 305 0.8426229508196721\n",
      "38 610 0.8032786885245902\n",
      "39 305 0.8426229508196721\n",
      "39 610 0.8032786885245902\n",
      "40 305 0.8426229508196721\n",
      "40 610 0.8032786885245902\n",
      "41 305 0.8426229508196721\n",
      "41 610 0.8032786885245902\n",
      "42 305 0.8426229508196721\n",
      "42 610 0.8032786885245902\n",
      "43 305 0.8426229508196721\n",
      "43 610 0.8032786885245902\n",
      "44 305 0.8426229508196721\n",
      "44 610 0.8032786885245902\n",
      "45 305 0.8426229508196721\n",
      "45 610 0.8032786885245902\n",
      "46 305 0.8426229508196721\n",
      "46 610 0.8032786885245902\n",
      "47 305 0.8426229508196721\n",
      "47 610 0.8032786885245902\n",
      "48 305 0.8426229508196721\n",
      "48 610 0.8032786885245902\n",
      "49 305 0.8426229508196721\n",
      "49 610 0.8032786885245902\n",
      "50 305 0.8426229508196721\n",
      "50 610 0.8032786885245902\n"
     ]
    }
   ],
   "source": [
    "for epoch in range(50):\n",
    "    running_loss = 0.0\n",
    "    for i in range(len(train_tensor_target_scalar)):\n",
    "        optimizer.zero_grad()\n",
    "        outputs = net(train_tensor_input_scalar[i])\n",
    "        loss = criterion(outputs, train_tensor_target_scalar[i])\n",
    "        loss.backward()\n",
    "        optimizer.step()\n",
    "        running_loss += loss.item()\n",
    "        if i % 305 == 304:\n",
    "            print (epoch + 1 , i+1 , running_loss / 305)\n",
    "            running_loss = 0.0"
   ]
  },
  {
   "cell_type": "code",
   "execution_count": 304,
   "metadata": {},
   "outputs": [
    {
     "name": "stdout",
     "output_type": "stream",
     "text": [
      "Accuracy: 0 %\n"
     ]
    }
   ],
   "source": [
    "#Quantitative Evaluierung \n",
    "correct = 0\n",
    "total = 0\n",
    "with torch.no_grad():\n",
    "    for i in range(len(test_tensor_target_scalar)) :\n",
    "        outputs = net(test_tensor_input_scalar[i])\n",
    "        if outputs < 0.5:\n",
    "            predicted = 0\n",
    "        elif outputs <1.5:\n",
    "            predicted = 1\n",
    "        else:\n",
    "            predicted = 2\n",
    "        total += test_tensor_target_scalar[i].size(0)\n",
    "        correct += (predicted == test_tensor_target_scalar[i]).sum().item()\n",
    "print(correct / len(test_ten))"
   ]
  },
  {
   "cell_type": "code",
   "execution_count": 305,
   "metadata": {},
   "outputs": [
    {
     "name": "stdout",
     "output_type": "stream",
     "text": [
      "tensor([0.], grad_fn=<ReluBackward0>)\n"
     ]
    }
   ],
   "source": [
    "output = net(test_tensor_input[1])\n",
    "print(output)"
   ]
  },
  {
   "cell_type": "code",
   "execution_count": 306,
   "metadata": {},
   "outputs": [
    {
     "data": {
      "text/plain": [
       "tensor([0.], grad_fn=<ReluBackward0>)"
      ]
     },
     "execution_count": 306,
     "metadata": {},
     "output_type": "execute_result"
    }
   ],
   "source": [
    "net(test_tensor_input_scalar[7])"
   ]
  },
  {
   "cell_type": "code",
   "execution_count": 307,
   "metadata": {},
   "outputs": [
    {
     "data": {
      "text/plain": [
       "tensor([0., 0., 0., 3., 0., 0., 2., 2.])"
      ]
     },
     "execution_count": 307,
     "metadata": {},
     "output_type": "execute_result"
    }
   ],
   "source": [
    "train_tensor_input_scalar[2]"
   ]
  },
  {
   "cell_type": "code",
   "execution_count": 235,
   "metadata": {},
   "outputs": [
    {
     "data": {
      "text/plain": [
       "tensor([2.])"
      ]
     },
     "execution_count": 235,
     "metadata": {},
     "output_type": "execute_result"
    }
   ],
   "source": [
    "train_tensor_target_scalar[2]"
   ]
  }
 ],
 "metadata": {
  "kernelspec": {
   "display_name": "Python 3",
   "language": "python",
   "name": "python3"
  },
  "language_info": {
   "codemirror_mode": {
    "name": "ipython",
    "version": 3
   },
   "file_extension": ".py",
   "mimetype": "text/x-python",
   "name": "python",
   "nbconvert_exporter": "python",
   "pygments_lexer": "ipython3",
   "version": "3.7.4"
  }
 },
 "nbformat": 4,
 "nbformat_minor": 4
}
