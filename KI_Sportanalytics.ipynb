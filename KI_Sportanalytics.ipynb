{
 "cells": [
  {
   "cell_type": "code",
   "execution_count": 2,
   "metadata": {},
   "outputs": [],
   "source": [
    "import torch\n",
    "import torch.nn as nn\n",
    "import torch.nn.functional as F\n",
    "import torch.optim as optim\n",
    "from torch.utils.data import Dataset, DataLoader\n",
    "import pandas as pd\n",
    "import numpy as np"
   ]
  },
  {
   "cell_type": "markdown",
   "metadata": {},
   "source": [
    "# Konfiguration des neuronalen Netzes"
   ]
  },
  {
   "cell_type": "code",
   "execution_count": 3,
   "metadata": {},
   "outputs": [],
   "source": [
    "class NeuronalNet(nn.Module):\n",
    "        def __init__(self):\n",
    "            super(NeuronalNet, self).__init__()\n",
    "            self.lin1 = nn.Linear(8,30)\n",
    "            self.lin2 = nn.Linear(30,30)\n",
    "            self.lin3 = nn.Linear(30,1)\n",
    "        def forward(self,x):\n",
    "            x = self.lin1(x)\n",
    "            x = F.relu(x)\n",
    "            x = F.relu(self.lin2(x))\n",
    "            x = F.relu(self.lin3(x))\n",
    "            return x"
   ]
  },
  {
   "cell_type": "markdown",
   "metadata": {},
   "source": [
    "# Datenbeschaffung"
   ]
  },
  {
   "cell_type": "code",
   "execution_count": 3,
   "metadata": {},
   "outputs": [],
   "source": [
    "#Pfade der einzelnen Benutzer\n",
    "#/Users/fabian-maltemoller/Developer/Ki/KI_Daten/topTeamsEngland10Jahre.csv\n",
    "#'C:\\\\Users\\\\dusti\\\\iCloudDrive\\\\Studium WI\\\\WS2019\\\\KI\\\\topTeamsEngland.csv'"
   ]
  },
  {
   "cell_type": "code",
   "execution_count": 5,
   "metadata": {},
   "outputs": [],
   "source": [
    "topTeams_england = pd.read_csv('C:\\\\Users\\\\dusti\\\\iCloudDrive\\\\Studium WI\\\\WS2019\\\\KI\\\\topTeamsEngland.csv', sep=';')"
   ]
  },
  {
   "cell_type": "code",
   "execution_count": 6,
   "metadata": {},
   "outputs": [],
   "source": [
    "df = pd.DataFrame(topTeams_england, columns = ['Date','HomeTeam','AwayTeam','FTHG','FTAG','FTR'])"
   ]
  },
  {
   "cell_type": "code",
   "execution_count": 7,
   "metadata": {},
   "outputs": [],
   "source": [
    "df_names = df.drop_duplicates(['HomeTeam','AwayTeam'],keep = 'last')"
   ]
  },
  {
   "cell_type": "code",
   "execution_count": 8,
   "metadata": {},
   "outputs": [],
   "source": [
    "df_names = df_names[['HomeTeam','AwayTeam']]"
   ]
  },
  {
   "cell_type": "code",
   "execution_count": 9,
   "metadata": {},
   "outputs": [],
   "source": [
    "gameList = []\n",
    "for row in df_names.itertuples():\n",
    "    data = [[row.HomeTeam,row.AwayTeam]]\n",
    "    gameList.append(pd.DataFrame(data))"
   ]
  },
  {
   "cell_type": "code",
   "execution_count": 4,
   "metadata": {},
   "outputs": [],
   "source": [
    "#Die Tore der einzelnen Mannschaften pro Spiel aus den matches in eine Liste schreiben\n",
    "def inputValues(gameList, df_stats,inputList):\n",
    "    for match in gameList:\n",
    "        homeTeam = match.iat[0,0]\n",
    "        awayTeam = match.iat[0,1]\n",
    "        input_values= df_stats[df_stats['HomeTeam']==homeTeam]\n",
    "        input_values= input_values[input_values['AwayTeam']==awayTeam]\n",
    "        input_values= input_values.reset_index(drop=True)\n",
    "        input_values = input_values[:-1]\n",
    "        inputList.append(input_values.loc[:,['FTHG','FTAG']])"
   ]
  },
  {
   "cell_type": "code",
   "execution_count": 11,
   "metadata": {},
   "outputs": [
    {
     "name": "stdout",
     "output_type": "stream",
     "text": [
      "   FTHG  FTAG\n",
      "0     0     0\n",
      "1     0     0\n",
      "2     1     0\n",
      "3     0     2\n",
      "4     1     1\n",
      "5     2     2\n",
      "6     2     1\n",
      "7     2     2\n",
      "8     0     3\n"
     ]
    }
   ],
   "source": [
    "unnormaleListe = []\n",
    "inputValues(gameList, df, unnormaleListe)\n",
    "print(unnormaleListe[0])"
   ]
  },
  {
   "cell_type": "code",
   "execution_count": 12,
   "metadata": {},
   "outputs": [],
   "source": [
    "#Methode um aus einer Liste eine Tensorliste mit Floatwerten generieren\n",
    "def dfToTensor(dfList, tensorList):\n",
    "    for df in dfList:\n",
    "        tensor = torch.FloatTensor(df.values).view(8)\n",
    "        tensorList.append(tensor)"
   ]
  },
  {
   "cell_type": "code",
   "execution_count": 13,
   "metadata": {},
   "outputs": [
    {
     "ename": "RuntimeError",
     "evalue": "shape '[8]' is invalid for input of size 18",
     "output_type": "error",
     "traceback": [
      "\u001b[1;31m---------------------------------------------------------------------------\u001b[0m",
      "\u001b[1;31mRuntimeError\u001b[0m                              Traceback (most recent call last)",
      "\u001b[1;32m<ipython-input-13-bb510471931e>\u001b[0m in \u001b[0;36m<module>\u001b[1;34m\u001b[0m\n\u001b[0;32m      1\u001b[0m \u001b[0minput_tensors\u001b[0m \u001b[1;33m=\u001b[0m \u001b[1;33m[\u001b[0m\u001b[1;33m]\u001b[0m\u001b[1;33m\u001b[0m\u001b[1;33m\u001b[0m\u001b[0m\n\u001b[1;32m----> 2\u001b[1;33m \u001b[0mdfToTensor\u001b[0m\u001b[1;33m(\u001b[0m\u001b[0munnormaleListe\u001b[0m\u001b[1;33m,\u001b[0m \u001b[0minput_tensors\u001b[0m\u001b[1;33m)\u001b[0m\u001b[1;33m\u001b[0m\u001b[1;33m\u001b[0m\u001b[0m\n\u001b[0m",
      "\u001b[1;32m<ipython-input-12-ca04c416e3b2>\u001b[0m in \u001b[0;36mdfToTensor\u001b[1;34m(dfList, tensorList)\u001b[0m\n\u001b[0;32m      2\u001b[0m \u001b[1;32mdef\u001b[0m \u001b[0mdfToTensor\u001b[0m\u001b[1;33m(\u001b[0m\u001b[0mdfList\u001b[0m\u001b[1;33m,\u001b[0m \u001b[0mtensorList\u001b[0m\u001b[1;33m)\u001b[0m\u001b[1;33m:\u001b[0m\u001b[1;33m\u001b[0m\u001b[1;33m\u001b[0m\u001b[0m\n\u001b[0;32m      3\u001b[0m     \u001b[1;32mfor\u001b[0m \u001b[0mdf\u001b[0m \u001b[1;32min\u001b[0m \u001b[0mdfList\u001b[0m\u001b[1;33m:\u001b[0m\u001b[1;33m\u001b[0m\u001b[1;33m\u001b[0m\u001b[0m\n\u001b[1;32m----> 4\u001b[1;33m         \u001b[0mtensor\u001b[0m \u001b[1;33m=\u001b[0m \u001b[0mtorch\u001b[0m\u001b[1;33m.\u001b[0m\u001b[0mFloatTensor\u001b[0m\u001b[1;33m(\u001b[0m\u001b[0mdf\u001b[0m\u001b[1;33m.\u001b[0m\u001b[0mvalues\u001b[0m\u001b[1;33m)\u001b[0m\u001b[1;33m.\u001b[0m\u001b[0mview\u001b[0m\u001b[1;33m(\u001b[0m\u001b[1;36m8\u001b[0m\u001b[1;33m)\u001b[0m\u001b[1;33m\u001b[0m\u001b[1;33m\u001b[0m\u001b[0m\n\u001b[0m\u001b[0;32m      5\u001b[0m         \u001b[0mtensorList\u001b[0m\u001b[1;33m.\u001b[0m\u001b[0mappend\u001b[0m\u001b[1;33m(\u001b[0m\u001b[0mtensor\u001b[0m\u001b[1;33m)\u001b[0m\u001b[1;33m\u001b[0m\u001b[1;33m\u001b[0m\u001b[0m\n",
      "\u001b[1;31mRuntimeError\u001b[0m: shape '[8]' is invalid for input of size 18"
     ]
    }
   ],
   "source": [
    "input_tensors = []\n",
    "dfToTensor(unnormaleListe, input_tensors)"
   ]
  },
  {
   "cell_type": "code",
   "execution_count": 5,
   "metadata": {},
   "outputs": [],
   "source": [
    "#Outputvalues generieren, indem bei Heimsieg 0, bei unentschieden 1 und bei Auswärtssieg 2 gesetzt wird\n",
    "def outputValues(gameList, df_stats,outputList):\n",
    "    for match in gameList:\n",
    "        homeTeam = match.iat[0,0]\n",
    "        awayTeam = match.iat[0,1]\n",
    "        output_values= df_stats[df_stats['HomeTeam']==homeTeam]\n",
    "        output_values= output_values[output_values['AwayTeam']==awayTeam]\n",
    "        output_values= output_values.reset_index(drop=True)\n",
    "        output_values = output_values.tail(1)\n",
    "        output_values = output_values.loc[:,['FTHG','FTAG']]\n",
    "        homegoals = output_values.loc[:,['FTHG']].iloc[0]['FTHG']\n",
    "        awaygoals = output_values.loc[:,['FTAG']].iloc[0]['FTAG']\n",
    "        if homegoals > awaygoals:\n",
    "            df_out=[0]\n",
    "        if homegoals == awaygoals:\n",
    "            df_out=[1]\n",
    "        if homegoals < awaygoals:\n",
    "            df_out=[2]\n",
    "        outputList.append(df_out)"
   ]
  },
  {
   "cell_type": "code",
   "execution_count": 15,
   "metadata": {},
   "outputs": [],
   "source": [
    "output_dfList = []\n",
    "outputValues(gameList, df, output_dfList)"
   ]
  },
  {
   "cell_type": "code",
   "execution_count": 6,
   "metadata": {},
   "outputs": [],
   "source": [
    "def dfToTensor_forOutput(dfList, tensorList):\n",
    "    for df in dfList:\n",
    "        tensor = torch.FloatTensor(df).view(1)\n",
    "        tensorList.append(tensor)"
   ]
  },
  {
   "cell_type": "code",
   "execution_count": 212,
   "metadata": {},
   "outputs": [
    {
     "data": {
      "text/plain": [
       "tensor([2])"
      ]
     },
     "execution_count": 212,
     "metadata": {},
     "output_type": "execute_result"
    }
   ],
   "source": [
    "torch.FloatTensor([2]).view(1).long()"
   ]
  },
  {
   "cell_type": "code",
   "execution_count": 17,
   "metadata": {},
   "outputs": [],
   "source": [
    "output_tensors = []\n",
    "dfToTensor_forOutput(output_dfList, output_tensors)"
   ]
  },
  {
   "cell_type": "markdown",
   "metadata": {},
   "source": [
    "# Input mehrere zu einem"
   ]
  },
  {
   "cell_type": "code",
   "execution_count": 18,
   "metadata": {},
   "outputs": [],
   "source": [
    "#Pfade Fabian\n",
    "#/Users/fabian-maltemoller/Developer/Ki/KI_Daten/09_10-13_14.csv\n",
    "#/Users/fabian-maltemoller/Developer/Ki/KI_Daten/10_11-14_15.csv\n",
    "#/Users/fabian-maltemoller/Developer/Ki/KI_Daten/11_12-15_16.csv\n",
    "#/Users/fabian-maltemoller/Developer/Ki/KI_Daten/12_13-16_17.csv\n",
    "#/Users/fabian-maltemoller/Developer/Ki/KI_Daten/13_14-17_18.csv\n",
    "#/Users/fabian-maltemoller/Developer/Ki/KI_Daten/14_15-18_19.csv\n",
    "\n",
    "#C:\\\\Users\\\\dusti\\\\iCloudDrive\\\\Studium WI\\\\WS2019\\\\KI\\\\csvData\\\\09_10-13_14.csv\n",
    "#C:\\\\Users\\\\dusti\\\\iCloudDrive\\\\Studium WI\\\\WS2019\\\\KI\\\\csvData\\\\10_11-14_15.csv\n",
    "#C:\\\\Users\\\\dusti\\\\iCloudDrive\\\\Studium WI\\\\WS2019\\\\KI\\\\csvData\\\\11_12-15_16.csv\n",
    "#C:\\\\Users\\\\dusti\\\\iCloudDrive\\\\Studium WI\\\\WS2019\\\\KI\\\\csvData\\\\12_13-16_17.csv\n",
    "#C:\\\\Users\\\\dusti\\\\iCloudDrive\\\\Studium WI\\\\WS2019\\\\KI\\\\csvData\\\\13_14-17_18.csv\n",
    "#C:\\\\Users\\\\dusti\\\\iCloudDrive\\\\Studium WI\\\\WS2019\\\\KI\\\\csvData\\\\14_15-18_19.csv"
   ]
  },
  {
   "cell_type": "code",
   "execution_count": 7,
   "metadata": {},
   "outputs": [],
   "source": [
    "def new_inputs(path,TestInputListe,TestOutputListe):\n",
    "    topTeams = pd.read_csv(path, sep=';')\n",
    "    df = pd.DataFrame(topTeams, columns = ['Date','HomeTeam','AwayTeam','FTHG','FTAG','FTR'])\n",
    "    df_names = df.drop_duplicates(['HomeTeam','AwayTeam'],keep = 'last')\n",
    "    df_names = df_names[['HomeTeam','AwayTeam']]\n",
    "    gameListe = []\n",
    "    for row in df_names.itertuples():\n",
    "        data = [[row.HomeTeam,row.AwayTeam]]\n",
    "        gameListe.append(pd.DataFrame(data))\n",
    "    inputValues(gameListe, df,TestInputListe)\n",
    "    outputValues(gameListe,df,TestOutputListe)"
   ]
  },
  {
   "cell_type": "code",
   "execution_count": 8,
   "metadata": {},
   "outputs": [],
   "source": [
    "inputList_0910_1314 = []\n",
    "outputList_0910_1314 = []\n",
    "new_inputs('C:\\\\Users\\\\dusti\\\\iCloudDrive\\\\Studium WI\\\\WS2019\\\\KI\\\\csvData\\\\09_10-13_14.csv',inputList_0910_1314,outputList_0910_1314)\n",
    "\n",
    "inputList_1011_1415 = []\n",
    "outputList_1011_1415 = []\n",
    "new_inputs('C:\\\\Users\\\\dusti\\\\iCloudDrive\\\\Studium WI\\\\WS2019\\\\KI\\\\csvData\\\\10_11-14_15.csv',inputList_1011_1415,outputList_1011_1415)\n",
    "\n",
    "inputList_1112_1516 = []\n",
    "outputList_1112_1516 = []\n",
    "new_inputs('C:\\\\Users\\\\dusti\\\\iCloudDrive\\\\Studium WI\\\\WS2019\\\\KI\\\\csvData\\\\11_12-15_16.csv',inputList_1112_1516,outputList_1112_1516)\n",
    "\n",
    "inputList_1213_1617 = []\n",
    "outputList_1213_1617 = []\n",
    "new_inputs('C:\\\\Users\\\\dusti\\\\iCloudDrive\\\\Studium WI\\\\WS2019\\\\KI\\\\csvData\\\\12_13-16_17.csv',inputList_1213_1617,outputList_1213_1617)\n",
    "\n",
    "inputList_1314_1718 = []\n",
    "outputList_1314_1718 = []\n",
    "new_inputs('C:\\\\Users\\\\dusti\\\\iCloudDrive\\\\Studium WI\\\\WS2019\\\\KI\\\\csvData\\\\13_14-17_18.csv',inputList_1314_1718,outputList_1314_1718)\n",
    "\n",
    "inputList_1415_1819 = []\n",
    "outputList_1415_1819 = []\n",
    "new_inputs('C:\\\\Users\\\\dusti\\\\iCloudDrive\\\\Studium WI\\\\WS2019\\\\KI\\\\csvData\\\\14_15-18_19.csv',inputList_1415_1819,outputList_1415_1819)"
   ]
  },
  {
   "cell_type": "code",
   "execution_count": 9,
   "metadata": {},
   "outputs": [
    {
     "name": "stdout",
     "output_type": "stream",
     "text": [
      "11\n",
      "14\n",
      "32\n",
      "46\n",
      "54\n",
      "63\n",
      "85\n",
      "92\n",
      "97\n",
      "109\n",
      "116\n"
     ]
    }
   ],
   "source": [
    "#In Liste inputList_1415_1819 waren leere Dataframes drin, die werden in diesem Zwischenschritt rausgelöscht\n",
    "for i in range(len(inputList_1415_1819)):\n",
    "    if inputList_1415_1819[i].empty:\n",
    "        print(i)"
   ]
  },
  {
   "cell_type": "code",
   "execution_count": 10,
   "metadata": {},
   "outputs": [
    {
     "name": "stdout",
     "output_type": "stream",
     "text": [
      "110\n",
      "110\n"
     ]
    }
   ],
   "source": [
    "inputList_1415_1819.pop(11)\n",
    "inputList_1415_1819.pop(13)\n",
    "inputList_1415_1819.pop(30)\n",
    "inputList_1415_1819.pop(43)\n",
    "inputList_1415_1819.pop(50)\n",
    "inputList_1415_1819.pop(58)\n",
    "inputList_1415_1819.pop(79)\n",
    "inputList_1415_1819.pop(85)\n",
    "inputList_1415_1819.pop(89)\n",
    "inputList_1415_1819.pop(100)\n",
    "inputList_1415_1819.pop(106)\n",
    "\n",
    "outputList_1415_1819.pop(11)\n",
    "outputList_1415_1819.pop(13)\n",
    "outputList_1415_1819.pop(30)\n",
    "outputList_1415_1819.pop(43)\n",
    "outputList_1415_1819.pop(50)\n",
    "outputList_1415_1819.pop(58)\n",
    "outputList_1415_1819.pop(79)\n",
    "outputList_1415_1819.pop(85)\n",
    "outputList_1415_1819.pop(89)\n",
    "outputList_1415_1819.pop(100)\n",
    "outputList_1415_1819.pop(106)\n",
    "\n",
    "print(len(inputList_1415_1819))\n",
    "print(len(outputList_1415_1819))"
   ]
  },
  {
   "cell_type": "code",
   "execution_count": 13,
   "metadata": {},
   "outputs": [],
   "source": [
    "tensor_input = []\n",
    "dfToTensor(inputList_0910_1314,tensor_input)\n",
    "dfToTensor(inputList_1011_1415,tensor_input)\n",
    "dfToTensor(inputList_1112_1516,tensor_input)\n",
    "dfToTensor(inputList_1213_1617,tensor_input)\n",
    "dfToTensor(inputList_1314_1718,tensor_input)\n",
    "dfToTensor(inputList_1415_1819,tensor_input)"
   ]
  },
  {
   "cell_type": "code",
   "execution_count": 14,
   "metadata": {},
   "outputs": [],
   "source": [
    "tensor_output = []\n",
    "dfToTensor_forOutput(outputList_0910_1314,tensor_output)\n",
    "dfToTensor_forOutput(outputList_1011_1415,tensor_output)\n",
    "dfToTensor_forOutput(outputList_1112_1516,tensor_output)\n",
    "dfToTensor_forOutput(outputList_1213_1617,tensor_output)\n",
    "dfToTensor_forOutput(outputList_1314_1718,tensor_output)\n",
    "dfToTensor_forOutput(outputList_1415_1819,tensor_output)"
   ]
  },
  {
   "cell_type": "code",
   "execution_count": 15,
   "metadata": {},
   "outputs": [],
   "source": [
    "#Dieser Schritt ist relativ unnötig, falls man jedoch alle einzeln als Tensoren braucht\n",
    "input_tensor_0910_1314 = []\n",
    "output_tensor_0910_1314 = []\n",
    "dfToTensor(inputList_0910_1314, input_tensor_0910_1314)\n",
    "dfToTensor_forOutput(outputList_0910_1314,output_tensor_0910_1314)\n",
    "\n",
    "input_tensor_1011_1415 = []\n",
    "output_tensor_1011_1415 = []\n",
    "dfToTensor(inputList_1011_1415, input_tensor_1011_1415)\n",
    "dfToTensor_forOutput(outputList_1011_1415,output_tensor_1011_1415)\n",
    "\n",
    "input_tensor_1112_1516 = []\n",
    "output_tensor_1112_1516 = []\n",
    "dfToTensor(inputList_1112_1516, input_tensor_1112_1516)\n",
    "dfToTensor_forOutput(outputList_1112_1516,output_tensor_1112_1516)\n",
    "\n",
    "input_tensor_1213_1617 = []\n",
    "output_tensor_1213_1617 = []\n",
    "dfToTensor(inputList_1213_1617, input_tensor_1213_1617)\n",
    "dfToTensor_forOutput(outputList_1213_1617,output_tensor_1213_1617)\n",
    "\n",
    "input_tensor_1314_1718 = []\n",
    "output_tensor_1314_1718 = []\n",
    "dfToTensor(inputList_1314_1718, input_tensor_1314_1718)\n",
    "dfToTensor_forOutput(outputList_1314_1718,output_tensor_1314_1718)\n",
    "\n",
    "input_tensor_1415_1819 = []\n",
    "output_tensor_1415_1819 = []\n",
    "dfToTensor(inputList_1415_1819, input_tensor_1415_1819)\n",
    "dfToTensor_forOutput(outputList_1415_1819,output_tensor_1415_1819)"
   ]
  },
  {
   "cell_type": "code",
   "execution_count": 16,
   "metadata": {},
   "outputs": [
    {
     "name": "stdout",
     "output_type": "stream",
     "text": [
      "820\n",
      "820\n"
     ]
    }
   ],
   "source": [
    "print(len(tensor_input))\n",
    "print(len(tensor_output))"
   ]
  },
  {
   "cell_type": "code",
   "execution_count": null,
   "metadata": {},
   "outputs": [],
   "source": []
  },
  {
   "cell_type": "markdown",
   "metadata": {},
   "source": [
    "# Trainieren des neuronalen Netzes"
   ]
  },
  {
   "cell_type": "code",
   "execution_count": 17,
   "metadata": {},
   "outputs": [],
   "source": [
    "net = NeuronalNet()"
   ]
  },
  {
   "cell_type": "code",
   "execution_count": 18,
   "metadata": {},
   "outputs": [],
   "source": [
    "criterion = nn.L1Loss()"
   ]
  },
  {
   "cell_type": "code",
   "execution_count": 19,
   "metadata": {},
   "outputs": [],
   "source": [
    "optimizer = optim.SGD(net.parameters(),lr =0.001, momentum = 0.9)"
   ]
  },
  {
   "cell_type": "code",
   "execution_count": 297,
   "metadata": {},
   "outputs": [
    {
     "data": {
      "text/plain": [
       "tensor([[0.]], grad_fn=<ViewBackward>)"
      ]
     },
     "execution_count": 297,
     "metadata": {},
     "output_type": "execute_result"
    }
   ],
   "source": [
    "testout= net(tensor_input[5])\n",
    "testout.view(1,1)"
   ]
  },
  {
   "cell_type": "code",
   "execution_count": 298,
   "metadata": {},
   "outputs": [
    {
     "data": {
      "text/plain": [
       "tensor([0., 1., 2., 2., 2., 1., 0., 1.])"
      ]
     },
     "execution_count": 298,
     "metadata": {},
     "output_type": "execute_result"
    }
   ],
   "source": [
    "tensor_input[5]"
   ]
  },
  {
   "cell_type": "code",
   "execution_count": 304,
   "metadata": {},
   "outputs": [
    {
     "data": {
      "text/plain": [
       "tensor([2])"
      ]
     },
     "execution_count": 304,
     "metadata": {},
     "output_type": "execute_result"
    }
   ],
   "source": [
    "tensor_output[5].long()"
   ]
  },
  {
   "cell_type": "code",
   "execution_count": 24,
   "metadata": {},
   "outputs": [
    {
     "name": "stdout",
     "output_type": "stream",
     "text": [
      "1 50 0.84\n",
      "1 100 0.82\n",
      "1 150 1.12\n",
      "1 200 0.78\n",
      "1 250 0.7\n",
      "1 300 0.84\n",
      "1 350 0.88\n",
      "1 400 0.68\n",
      "1 450 0.86\n",
      "1 500 0.82\n",
      "1 550 0.86\n",
      "1 600 0.72\n",
      "1 650 0.76\n",
      "1 700 0.92\n",
      "1 750 0.96\n",
      "1 800 0.78\n",
      "2 50 0.84\n",
      "2 100 0.82\n",
      "2 150 1.12\n",
      "2 200 0.78\n",
      "2 250 0.7\n",
      "2 300 0.84\n",
      "2 350 0.88\n",
      "2 400 0.68\n",
      "2 450 0.86\n",
      "2 500 0.82\n",
      "2 550 0.86\n",
      "2 600 0.72\n",
      "2 650 0.76\n",
      "2 700 0.92\n",
      "2 750 0.96\n",
      "2 800 0.78\n",
      "3 50 0.84\n",
      "3 100 0.82\n",
      "3 150 1.12\n",
      "3 200 0.78\n",
      "3 250 0.7\n",
      "3 300 0.84\n",
      "3 350 0.88\n",
      "3 400 0.68\n",
      "3 450 0.86\n",
      "3 500 0.82\n",
      "3 550 0.86\n",
      "3 600 0.72\n",
      "3 650 0.76\n",
      "3 700 0.92\n",
      "3 750 0.96\n",
      "3 800 0.78\n",
      "4 50 0.84\n",
      "4 100 0.82\n",
      "4 150 1.12\n",
      "4 200 0.78\n",
      "4 250 0.7\n",
      "4 300 0.84\n",
      "4 350 0.88\n",
      "4 400 0.68\n",
      "4 450 0.86\n",
      "4 500 0.82\n",
      "4 550 0.86\n",
      "4 600 0.72\n",
      "4 650 0.76\n",
      "4 700 0.92\n",
      "4 750 0.96\n",
      "4 800 0.78\n",
      "5 50 0.84\n",
      "5 100 0.82\n",
      "5 150 1.12\n",
      "5 200 0.78\n",
      "5 250 0.7\n",
      "5 300 0.84\n",
      "5 350 0.88\n",
      "5 400 0.68\n",
      "5 450 0.86\n",
      "5 500 0.82\n",
      "5 550 0.86\n",
      "5 600 0.72\n",
      "5 650 0.76\n",
      "5 700 0.92\n",
      "5 750 0.96\n",
      "5 800 0.78\n"
     ]
    }
   ],
   "source": [
    "for epoch in range(5):\n",
    "    running_loss = 0.0\n",
    "    for i in range(len(tensor_output)):\n",
    "        optimizer.zero_grad()\n",
    "        outputs = net(tensor_input[i])\n",
    "        loss = criterion(outputs, tensor_output[i])\n",
    "        loss.backward()\n",
    "        optimizer.step()\n",
    "        running_loss += loss.item()\n",
    "        if i % 50 == 49:\n",
    "            print (epoch + 1 , i+1 , running_loss / 50)\n",
    "            running_loss = 0.0"
   ]
  },
  {
   "cell_type": "code",
   "execution_count": null,
   "metadata": {},
   "outputs": [],
   "source": []
  }
 ],
 "metadata": {
  "kernelspec": {
   "display_name": "Python 3",
   "language": "python",
   "name": "python3"
  },
  "language_info": {
   "codemirror_mode": {
    "name": "ipython",
    "version": 3
   },
   "file_extension": ".py",
   "mimetype": "text/x-python",
   "name": "python",
   "nbconvert_exporter": "python",
   "pygments_lexer": "ipython3",
   "version": "3.7.4"
  }
 },
 "nbformat": 4,
 "nbformat_minor": 4
}
